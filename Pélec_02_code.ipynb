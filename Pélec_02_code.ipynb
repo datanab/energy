{
 "cells": [
  {
   "cell_type": "code",
   "execution_count": 815,
   "id": "2f4e0c05",
   "metadata": {},
   "outputs": [],
   "source": [
    "import pandas as pd\n",
    "pd.set_option('display.max_columns',None)+\n",
    "\n",
    "pd.set_option('display.max_rows',None)\n",
    "pd.set_option(\"display.precision\",3)"
   ]
  },
  {
   "cell_type": "code",
   "execution_count": 2,
   "id": "b914e29f",
   "metadata": {},
   "outputs": [],
   "source": [
    "import numpy as np"
   ]
  },
  {
   "cell_type": "code",
   "execution_count": 3,
   "id": "5b1cf97f",
   "metadata": {},
   "outputs": [],
   "source": [
    "import matplotlib.pyplot as plt"
   ]
  },
  {
   "cell_type": "code",
   "execution_count": 4,
   "id": "6cc30959",
   "metadata": {},
   "outputs": [],
   "source": [
    "from sklearn.model_selection import train_test_split, GridSearchCV\n",
    "from sklearn.preprocessing import StandardScaler, OneHotEncoder\n",
    "from sklearn.metrics import mean_squared_error, r2_score\n",
    "from sklearn.linear_model import LinearRegression, Ridge, Lasso, ElasticNet\n",
    "from sklearn.svm import SVR\n",
    "from sklearn.neural_network import MLPRegressor\n",
    "from sklearn.ensemble import RandomForestRegressor, AdaBoostRegressor \n",
    "from sklearn.tree import DecisionTreeRegressor\n",
    "from sklearn import dummy"
   ]
  },
  {
   "cell_type": "code",
   "execution_count": 5,
   "id": "b6e3e261",
   "metadata": {},
   "outputs": [],
   "source": [
    "import datetime"
   ]
  },
  {
   "cell_type": "code",
   "execution_count": 6,
   "id": "837d0bb4",
   "metadata": {},
   "outputs": [],
   "source": [
    "from IPython.display import clear_output"
   ]
  },
  {
   "cell_type": "code",
   "execution_count": 7,
   "id": "2a98a243",
   "metadata": {},
   "outputs": [],
   "source": [
    "import warnings\n",
    "warnings.simplefilter('ignore')"
   ]
  },
  {
   "cell_type": "code",
   "execution_count": 8,
   "id": "5402ba57",
   "metadata": {},
   "outputs": [
    {
     "name": "stdout",
     "output_type": "stream",
     "text": [
      "time 0.00s\n",
      "6.309998570941389e-05\n"
     ]
    }
   ],
   "source": [
    "import timeit\n",
    "\n",
    "start_time = timeit.default_timer()\n",
    "a = 0\n",
    "elapsed = timeit.default_timer() - start_time\n",
    "\n",
    "print(\"time {:.2f}s\".format(elapsed))\n",
    "print(elapsed)"
   ]
  },
  {
   "cell_type": "code",
   "execution_count": 316,
   "id": "b9f930ce",
   "metadata": {},
   "outputs": [],
   "source": [
    "def preprocessing(bench, var_log):    \n",
    "    if (var_log):\n",
    "        bench['total_gfa'] = bench['total_gfa'].apply(lambda x : np.log10(x) if x!=0 else 0)\n",
    "        bench['lput_gfa'] = bench['lput_gfa'].apply(lambda x : np.log10(x) if x!=0 else 0)\n",
    "        bench['sput_gfa'] = bench['sput_gfa'].apply(lambda x : np.log10(x) if x!=0 else 0)\n",
    "        bench['tput_gfa'] = bench['tput_gfa'].apply(lambda x : np.log10(x) if x!=0 else 0)\n",
    "    return bench"
   ]
  },
  {
   "cell_type": "code",
   "execution_count": 249,
   "id": "9b29e973",
   "metadata": {},
   "outputs": [],
   "source": [
    "def explained_variable(bench, var_name, m):\n",
    "    y_brut = bench[var_name]\n",
    "    y_log = bench[var_name].apply(lambda x : np.log10(x))\n",
    "    y=y_log if m=='log' else y_brut\n",
    "    return y"
   ]
  },
  {
   "cell_type": "code",
   "execution_count": 250,
   "id": "bdf08b38",
   "metadata": {},
   "outputs": [],
   "source": [
    "def explanatory_variables(bench, strategy, var_supp):\n",
    "    liste_1 = ['age','nb','nf','total_gfa','lput_gfa']+var_supp\n",
    "    liste_2 = ['age','nb','nf','total_gfa','lput_gfa','energy_score']+var_supp\n",
    "    liste_3 = ['age','nb','nf','total_gfa','lput_gfa','sput_gfa']+var_supp\n",
    "    liste_4 = ['age','nb','nf','total_gfa','lput_gfa','sput_gfa','energy_score']+var_supp\n",
    "    liste = {1:liste_1,2:liste_3,\"1b\":liste_1,\"1c\":liste_2,\"2b\":liste_3,\"2c\":liste_4}\n",
    "    listecat_1 = ['primary_type','lput']\n",
    "    listecat_2 = ['primary_type','lput']\n",
    "    listecat_3 = ['primary_type','lput','sput']\n",
    "    listecat_4 = ['primary_type','lput','sput']  \n",
    "    listecat = {1:listecat_1,2:listecat_3,\"1b\":listecat_1,\"1c\":listecat_2,\"2b\":listecat_3,\"2c\":listecat_4}\n",
    "    X = bench[liste[strategy]].values\n",
    "    X_before_encoding = X\n",
    "    enc = OneHotEncoder(handle_unknown='ignore')\n",
    "    for cat_var in listecat[strategy]:\n",
    "        X_enc = enc.fit_transform(bench[cat_var].values.reshape(-1,1)).toarray()\n",
    "        X = np.concatenate((X, X_enc),axis=1)\n",
    "    return X, X_before_encoding"
   ]
  },
  {
   "cell_type": "code",
   "execution_count": 45,
   "id": "67cae771",
   "metadata": {},
   "outputs": [],
   "source": [
    "def add_poly_var(df, var_name, expo_list):\n",
    "    names = [var_name + \"_\" + str(e) for e in expo_list]\n",
    "    for e in expo_list:\n",
    "        df[var_name + \"_\" + str(e)] = df[var_name]**e\n",
    "    return df, names"
   ]
  },
  {
   "cell_type": "code",
   "execution_count": 13,
   "id": "09e888f7",
   "metadata": {},
   "outputs": [],
   "source": [
    "def standardize(X_train, X_test, y_train, y_test, n):\n",
    "    scaler = StandardScaler()\n",
    "    scaler.fit(X_train[:,0:n])\n",
    "    X_train_std = np.concatenate((scaler.transform(X_train[:,0:n]) , X_train[:,n:]),axis=1)\n",
    "    X_test_std = np.concatenate((scaler.transform(X_test[:,0:n]) , X_test[:,n:]),axis=1)\n",
    "    return X_train_std, X_test_std"
   ]
  },
  {
   "cell_type": "code",
   "execution_count": 14,
   "id": "331d6798",
   "metadata": {},
   "outputs": [],
   "source": [
    "def print_cv_results(clf):\n",
    "    for mean, std, params in zip(clf.cv_results_['mean_test_score'],clf.cv_results_['std_test_score'],clf.cv_results_['params']):\n",
    "        print(\"\\tneg_mean_squared_error = %0.3f (+/-%0.3f) for %s\" % (mean,std*2,params))"
   ]
  },
  {
   "cell_type": "code",
   "execution_count": 15,
   "id": "81abd804",
   "metadata": {},
   "outputs": [],
   "source": [
    "def get_time(start_time, end_time):\n",
    "    m = (end_time - start_time).total_seconds()//60\n",
    "    s = (end_time - start_time).total_seconds() - m*60\n",
    "    return m,s"
   ]
  },
  {
   "cell_type": "code",
   "execution_count": 294,
   "id": "fa957fee",
   "metadata": {},
   "outputs": [],
   "source": [
    "def squared_error(y_pred, y_true):\n",
    "    y = (y_true - y_pred)**2\n",
    "    return np.sqrt(y.sort_values(ascending = False))"
   ]
  },
  {
   "cell_type": "code",
   "execution_count": 501,
   "id": "2406e009",
   "metadata": {},
   "outputs": [],
   "source": [
    "def model_vs_real(y_pred, y_true):\n",
    "    fig, ax = plt.subplots(figsize=(15,15))\n",
    "    ax.scatter(y_pred, y_true, label = 'model vs real')\n",
    "    ax.plot(y_true, y_true, linestyle = '--', color = 'r', label = 'perfect model')\n",
    "    ax.plot(y_true , y_true + 2*10**6, linestyle = '--', color = 'y', label = '+2x10^6')\n",
    "    ax.plot(y_true , y_true - 2*10**6, linestyle = '--', color = 'y', label = '-2x10^6')\n",
    "    ax.set_xlabel(\"y_pred\")\n",
    "    ax.set_ylabel(\"y_true\")\n",
    "    ax.set_title('Model VS Real')\n",
    "    ax.legend()\n",
    "    plt.show()"
   ]
  },
  {
   "cell_type": "code",
   "execution_count": 17,
   "id": "de5de486",
   "metadata": {},
   "outputs": [],
   "source": [
    "def boxplot(x):\n",
    "    fig, ax = plt.subplots(figsize=(15,15))\n",
    "    ax.boxplot(x, vert = False)\n",
    "    plt.show()"
   ]
  },
  {
   "cell_type": "code",
   "execution_count": 808,
   "id": "ea7161f6",
   "metadata": {},
   "outputs": [],
   "source": [
    "def regularization_path(lambdas):\n",
    "    coeffs = []\n",
    "    for l in lambdas:\n",
    "        ridge = Ridge(alpha=l).fit(X_train_std, y_train)\n",
    "        coeffs.append([ridge.intercept_] + list(ridge.coef_))\n",
    "    coeff_lambdas = pd.DataFrame(coeffs,columns=[\"b_\" + str(i) for i in range(0,128)],index=lambdas)\n",
    "    fig, ax = plt.subplots(figsize=(15,15))\n",
    "    #[100,68,34,112,122,83,95,54,94,38,95,127,126,53,45,25,36,102,108]\n",
    "    for i in range(20):\n",
    "        idx = np.random.randint(0,128)\n",
    "        ax.plot(coeff_lambdas.index, coeff_lambdas.iloc[:,idx], label = 'beta_'+str(idx))\n",
    "    plt.legend()\n",
    "    ax.set_title('Chemins de régularisation',fontsize=18)\n",
    "    ax.set_xscale('log')\n",
    "    ax.invert_xaxis()\n",
    "    plt.show()"
   ]
  },
  {
   "cell_type": "code",
   "execution_count": 18,
   "id": "c8c062e7",
   "metadata": {},
   "outputs": [],
   "source": [
    "def save_results(d,strategy):\n",
    "    res = pd.read_csv(\"model_resultats.csv\",sep=';')\n",
    "    train_data=[\"strategy\"+str(strategy),\"train_rmse\"]\n",
    "    test_data=[\"strategy\"+str(strategy),\"test_rmse\"]\n",
    "    train_r2_data=[\"strategy\"+str(strategy),\"train_r2\"]\n",
    "    test_r2_data=[\"strategy\"+str(strategy),\"test_r2\"]\n",
    "    time_data=[\"strategy\"+str(strategy),\"train_time\"]\n",
    "    col=[\"strategy\",\"score\"]+list(d.keys())\n",
    "    for key in d.keys():\n",
    "        train_data.append(d[key][0])\n",
    "        test_data.append(d[key][1])\n",
    "        train_r2_data.append(d[key][2])\n",
    "        test_r2_data.append(d[key][3])\n",
    "        time_data.append(d[key][4])\n",
    "    new_lines = pd.DataFrame(data=[train_data,test_data,train_r2_data,test_r2_data,time_data],columns=col)\n",
    "    res=res.append(new_lines).reset_index(drop=True)\n",
    "    res = res.drop_duplicates([\"strategy\",\"score\"])\n",
    "    res.to_csv(\"model_resultats.csv\",sep=';',index=False)\n",
    "    return res"
   ]
  },
  {
   "cell_type": "code",
   "execution_count": 19,
   "id": "8eab56d2",
   "metadata": {},
   "outputs": [],
   "source": [
    "def show_metric(y_pred_train, y_train, y_pred_test, y_test, time, disp = True):\n",
    "    train_error = mean_squared_error(y_pred_train,y_train,squared=False)\n",
    "    test_error = mean_squared_error(y_pred_test,y_test,squared=False)\n",
    "    train_r2 = r2_score(y_train,y_pred_train)\n",
    "    test_r2 = r2_score(y_test,y_pred_test)\n",
    "    met = pd.DataFrame(data = [[train_error, test_error, train_r2, test_r2, time]], columns = [\"RMSE_train\",\"RMSE_test\",\"R2_train\",\"R2_test\",\"TIME\"], index=[\"valeur\"])\n",
    "    if disp :\n",
    "        display(met)\n",
    "    else :\n",
    "        return train_error, test_error, train_r2, test_r2, time"
   ]
  },
  {
   "cell_type": "code",
   "execution_count": 20,
   "id": "53505797",
   "metadata": {},
   "outputs": [],
   "source": [
    "def reinitialize_result(liste_model):\n",
    "    pd.DataFrame(columns=[\"strategy\", \"score\"] + liste_model).to_csv(\"model_resultats.csv\",sep=';',index=False)"
   ]
  },
  {
   "cell_type": "code",
   "execution_count": 535,
   "id": "c22b8578",
   "metadata": {},
   "outputs": [],
   "source": [
    "def show_results(score,typ):\n",
    "    res = pd.read_csv(\"model_resultats.csv\",sep=';')\n",
    "    if len(typ)==1:\n",
    "        res=res[res[\"score\"].str.contains(typ[0])]\n",
    "    elif len(typ)==2:\n",
    "        res=res[(res[\"score\"].str.contains(typ[0]))|(res[\"score\"].str.contains(typ[1]))]\n",
    "    else:\n",
    "        raise ValueError('length of typ must be less than 2')\n",
    "    res_final = res[res[\"score\"].str.contains(score)].sort_values(\"strategy\").set_index([\"strategy\",\"score\"])\n",
    "    for col in liste_model:\n",
    "        res_final[col] = res_final[col].apply(float)    \n",
    "    return res_final"
   ]
  },
  {
   "cell_type": "code",
   "execution_count": null,
   "id": "8ce9b88a",
   "metadata": {},
   "outputs": [],
   "source": []
  },
  {
   "cell_type": "markdown",
   "id": "d73be5c0",
   "metadata": {},
   "source": [
    "# <p style='text-align:center'> Energy Use </p>"
   ]
  },
  {
   "cell_type": "markdown",
   "id": "bb513588",
   "metadata": {},
   "source": [
    "# <p style='text-align:center'>Paramètres</p>"
   ]
  },
  {
   "cell_type": "code",
   "execution_count": 22,
   "id": "63d2573f",
   "metadata": {},
   "outputs": [],
   "source": [
    "strategy = 2\n",
    "mode = 'brut'\n",
    "var_log = True\n",
    "liste_model = ['Regression simple', 'Regression Ridge', 'Regression Lasso', 'Regression Elastic Net', 'Linear SVR', 'MLP Regression', 'Dummy (MEAN)', 'ADA', 'Random Forest']"
   ]
  },
  {
   "cell_type": "markdown",
   "id": "4fcd87a4",
   "metadata": {},
   "source": [
    "# <p style='text-align:center'>Features Engineering </p>"
   ]
  },
  {
   "cell_type": "code",
   "execution_count": 600,
   "id": "74b9be3c",
   "metadata": {},
   "outputs": [],
   "source": [
    "bench = pd.read_excel(\"benchmark_cleaned.xlsx\")"
   ]
  },
  {
   "cell_type": "code",
   "execution_count": 601,
   "id": "1f44e021",
   "metadata": {},
   "outputs": [],
   "source": [
    "bench = preprocessing(bench, var_log=True)"
   ]
  },
  {
   "cell_type": "code",
   "execution_count": 602,
   "id": "3dc8ef5b",
   "metadata": {},
   "outputs": [],
   "source": [
    "# bench.head()"
   ]
  },
  {
   "cell_type": "code",
   "execution_count": 603,
   "id": "3d075234",
   "metadata": {},
   "outputs": [
    {
     "data": {
      "image/png": "[encoded data removed]",
      "text/plain": [
       "<Figure size 1080x1080 with 1 Axes>"
      ]
     },
     "metadata": {
      "needs_background": "light"
     },
     "output_type": "display_data"
    }
   ],
   "source": [
    "boxplot(bench[\"energy_use\"])"
   ]
  },
  {
   "cell_type": "code",
   "execution_count": 604,
   "id": "4d7f5f09",
   "metadata": {},
   "outputs": [],
   "source": [
    "# bench, var_supp_1 = add_poly_var(bench, \"lput_gfa\", [0.5, 1, 2])"
   ]
  },
  {
   "cell_type": "code",
   "execution_count": 605,
   "id": "821ced12",
   "metadata": {},
   "outputs": [],
   "source": [
    "# bench, var_supp_2 = add_poly_var(bench, \"sput_gfa\", [0.5, 1, 2])"
   ]
  },
  {
   "cell_type": "code",
   "execution_count": 606,
   "id": "f1e4ab7a",
   "metadata": {},
   "outputs": [],
   "source": [
    "# bench, var_supp_3 = add_poly_var(bench, \"tput_gfa\", [0.5, 1, 2])"
   ]
  },
  {
   "cell_type": "code",
   "execution_count": 607,
   "id": "22e3ffba",
   "metadata": {},
   "outputs": [],
   "source": [
    "# bench, var_supp_4 = add_poly_var(bench, \"nf\", [0.5, 1, 2])"
   ]
  },
  {
   "cell_type": "code",
   "execution_count": 608,
   "id": "6d1229b9",
   "metadata": {},
   "outputs": [],
   "source": [
    "var_supp=[]"
   ]
  },
  {
   "cell_type": "code",
   "execution_count": 609,
   "id": "5c5f3c44",
   "metadata": {},
   "outputs": [],
   "source": [
    "# var_supp = var_supp_1 + var_supp_2 + var_supp_3 + var_supp_4"
   ]
  },
  {
   "cell_type": "code",
   "execution_count": 610,
   "id": "9a85128f",
   "metadata": {},
   "outputs": [],
   "source": [
    "X, X_before_encoding = explanatory_variables(bench, strategy, var_supp)"
   ]
  },
  {
   "cell_type": "code",
   "execution_count": 611,
   "id": "6ea7ff50",
   "metadata": {},
   "outputs": [],
   "source": [
    "y = explained_variable(bench, 'energy_use', 'brut')"
   ]
  },
  {
   "cell_type": "code",
   "execution_count": 612,
   "id": "12a9a031",
   "metadata": {},
   "outputs": [],
   "source": [
    "X_train, X_test, y_train, y_test = train_test_split(X, y, test_size=0.33, random_state=79)"
   ]
  },
  {
   "cell_type": "code",
   "execution_count": 613,
   "id": "a625f2cd",
   "metadata": {},
   "outputs": [],
   "source": [
    "X_train_std, X_test_std = standardize(X_train, X_test, y_train, y_test, X_before_encoding.shape[1])"
   ]
  },
  {
   "cell_type": "markdown",
   "id": "1d1cdc4f",
   "metadata": {},
   "source": [
    "# <p style='text-align:center'> Simple Linear Regression </p>"
   ]
  },
  {
   "cell_type": "code",
   "execution_count": 474,
   "id": "29e319b7",
   "metadata": {},
   "outputs": [
    {
     "data": {
      "text/html": [
       "<div>\n",
       "<style scoped>\n",
       "    .dataframe tbody tr th:only-of-type {\n",
       "        vertical-align: middle;\n",
       "    }\n",
       "\n",
       "    .dataframe tbody tr th {\n",
       "        vertical-align: top;\n",
       "    }\n",
       "\n",
       "    .dataframe thead th {\n",
       "        text-align: right;\n",
       "    }\n",
       "</style>\n",
       "<table border=\"1\" class=\"dataframe\">\n",
       "  <thead>\n",
       "    <tr style=\"text-align: right;\">\n",
       "      <th></th>\n",
       "      <th>RMSE_train</th>\n",
       "      <th>RMSE_test</th>\n",
       "      <th>R2_train</th>\n",
       "      <th>R2_test</th>\n",
       "      <th>TIME</th>\n",
       "    </tr>\n",
       "  </thead>\n",
       "  <tbody>\n",
       "    <tr>\n",
       "      <th>valeur</th>\n",
       "      <td>1.124483e+06</td>\n",
       "      <td>7.836840e+16</td>\n",
       "      <td>0.70443</td>\n",
       "      <td>-1.407878e+21</td>\n",
       "      <td>(0.0, 0.031003)</td>\n",
       "    </tr>\n",
       "  </tbody>\n",
       "</table>\n",
       "</div>"
      ],
      "text/plain": [
       "          RMSE_train     RMSE_test  R2_train       R2_test             TIME\n",
       "valeur  1.124483e+06  7.836840e+16   0.70443 -1.407878e+21  (0.0, 0.031003)"
      ]
     },
     "metadata": {},
     "output_type": "display_data"
    }
   ],
   "source": [
    "# Regression Linéaire Simple\n",
    "\n",
    "start_time = datetime.datetime.now()\n",
    "\n",
    "reg = LinearRegression()\n",
    "reg.fit(X_train_std, y_train)\n",
    "y_pred_train_simple, y_pred_test_simple  = reg.predict(X_train_std), reg.predict(X_test_std)\n",
    "\n",
    "end_time = datetime.datetime.now()\n",
    "\n",
    "time_simple= get_time(start_time, end_time)\n",
    "\n",
    "show_metric(y_pred_train_simple, y_train, y_pred_test_simple, y_test, time_simple)"
   ]
  },
  {
   "cell_type": "code",
   "execution_count": 475,
   "id": "4cbd6d72",
   "metadata": {},
   "outputs": [],
   "source": [
    "# model_vs_real(y_pred_train_simple, y_train)"
   ]
  },
  {
   "cell_type": "markdown",
   "id": "75d6fe45",
   "metadata": {},
   "source": [
    "# <p style='text-align:center'> Ridge Linear Regression </p>"
   ]
  },
  {
   "cell_type": "code",
   "execution_count": null,
   "id": "a099bf52",
   "metadata": {},
   "outputs": [],
   "source": []
  },
  {
   "cell_type": "code",
   "execution_count": 476,
   "id": "0a5167b9",
   "metadata": {},
   "outputs": [
    {
     "data": {
      "text/html": [
       "<div>\n",
       "<style scoped>\n",
       "    .dataframe tbody tr th:only-of-type {\n",
       "        vertical-align: middle;\n",
       "    }\n",
       "\n",
       "    .dataframe tbody tr th {\n",
       "        vertical-align: top;\n",
       "    }\n",
       "\n",
       "    .dataframe thead th {\n",
       "        text-align: right;\n",
       "    }\n",
       "</style>\n",
       "<table border=\"1\" class=\"dataframe\">\n",
       "  <thead>\n",
       "    <tr style=\"text-align: right;\">\n",
       "      <th></th>\n",
       "      <th>RMSE_train</th>\n",
       "      <th>RMSE_test</th>\n",
       "      <th>R2_train</th>\n",
       "      <th>R2_test</th>\n",
       "      <th>TIME</th>\n",
       "    </tr>\n",
       "  </thead>\n",
       "  <tbody>\n",
       "    <tr>\n",
       "      <th>valeur</th>\n",
       "      <td>1.153624e+06</td>\n",
       "      <td>1.192388e+06</td>\n",
       "      <td>0.688913</td>\n",
       "      <td>0.674075</td>\n",
       "      <td>(0.0, 0.235016)</td>\n",
       "    </tr>\n",
       "  </tbody>\n",
       "</table>\n",
       "</div>"
      ],
      "text/plain": [
       "          RMSE_train     RMSE_test  R2_train   R2_test             TIME\n",
       "valeur  1.153624e+06  1.192388e+06  0.688913  0.674075  (0.0, 0.235016)"
      ]
     },
     "metadata": {},
     "output_type": "display_data"
    }
   ],
   "source": [
    "# Regression linéaire Ridge\n",
    "\n",
    "start_time = datetime.datetime.now()\n",
    "\n",
    "cv_ridge_params = {'alpha':[1,3,4,5,7,9,11]}\n",
    "\n",
    "cv_ridge = GridSearchCV(Ridge(), cv_params, cv=5, scoring='neg_root_mean_squared_error')\n",
    "cv_ridge.fit(X_train_std, y_train)\n",
    "\n",
    "ridge = Ridge(alpha=cv_ridge.best_params_['alpha'])\n",
    "ridge.fit(X_train_std, y_train)\n",
    "y_pred_train_ridge, y_pred_test_ridge = ridge.predict(X_train_std), ridge.predict(X_test_std)\n",
    "\n",
    "end_time = datetime.datetime.now()\n",
    "\n",
    "time_ridge = get_time(start_time, end_time)\n",
    "\n",
    "show_metric(y_pred_train_ridge, y_train, y_pred_test_ridge, y_test, time_ridge)"
   ]
  },
  {
   "cell_type": "code",
   "execution_count": 814,
   "id": "7e54aec9",
   "metadata": {},
   "outputs": [],
   "source": [
    "# model_vs_real(y_pred_test_ridge, y_test)"
   ]
  },
  {
   "cell_type": "code",
   "execution_count": 477,
   "id": "63080fb8",
   "metadata": {},
   "outputs": [
    {
     "data": {
      "text/plain": [
       "{'alpha': 3}"
      ]
     },
     "execution_count": 477,
     "metadata": {},
     "output_type": "execute_result"
    }
   ],
   "source": [
    "cv_ridge.best_params_"
   ]
  },
  {
   "cell_type": "code",
   "execution_count": 478,
   "id": "55860610",
   "metadata": {},
   "outputs": [
    {
     "data": {
      "text/plain": [
       "-1226566.744681736"
      ]
     },
     "execution_count": 478,
     "metadata": {},
     "output_type": "execute_result"
    }
   ],
   "source": [
    "cv_ridge.best_score_"
   ]
  },
  {
   "cell_type": "markdown",
   "id": "d9a983a3",
   "metadata": {},
   "source": [
    "# <p style='text-align:center'> Lasso Linear Regression </p>"
   ]
  },
  {
   "cell_type": "code",
   "execution_count": 479,
   "id": "1a8a1fb0",
   "metadata": {},
   "outputs": [
    {
     "data": {
      "text/html": [
       "<div>\n",
       "<style scoped>\n",
       "    .dataframe tbody tr th:only-of-type {\n",
       "        vertical-align: middle;\n",
       "    }\n",
       "\n",
       "    .dataframe tbody tr th {\n",
       "        vertical-align: top;\n",
       "    }\n",
       "\n",
       "    .dataframe thead th {\n",
       "        text-align: right;\n",
       "    }\n",
       "</style>\n",
       "<table border=\"1\" class=\"dataframe\">\n",
       "  <thead>\n",
       "    <tr style=\"text-align: right;\">\n",
       "      <th></th>\n",
       "      <th>RMSE_train</th>\n",
       "      <th>RMSE_test</th>\n",
       "      <th>R2_train</th>\n",
       "      <th>R2_test</th>\n",
       "      <th>TIME</th>\n",
       "    </tr>\n",
       "  </thead>\n",
       "  <tbody>\n",
       "    <tr>\n",
       "      <th>valeur</th>\n",
       "      <td>1.150416e+06</td>\n",
       "      <td>1.187313e+06</td>\n",
       "      <td>0.69064</td>\n",
       "      <td>0.676843</td>\n",
       "      <td>(0.0, 0.421031)</td>\n",
       "    </tr>\n",
       "  </tbody>\n",
       "</table>\n",
       "</div>"
      ],
      "text/plain": [
       "          RMSE_train     RMSE_test  R2_train   R2_test             TIME\n",
       "valeur  1.150416e+06  1.187313e+06   0.69064  0.676843  (0.0, 0.421031)"
      ]
     },
     "metadata": {},
     "output_type": "display_data"
    }
   ],
   "source": [
    "# Regression linéaire Lasso\n",
    "\n",
    "start_time = datetime.datetime.now()\n",
    "\n",
    "cv_lasso_params = {'alpha':[1300,1350,1400]}\n",
    "\n",
    "cv_lasso = GridSearchCV(Lasso(fit_intercept=True),cv_lasso_params,cv=5,scoring='neg_root_mean_squared_error')\n",
    "cv_lasso.fit(X_train_std, y_train)\n",
    "\n",
    "lasso = Lasso(alpha=cv_lasso.best_params_['alpha'], fit_intercept=True)\n",
    "lasso.fit(X_train_std, y_train)\n",
    "y_pred_train_lasso, y_pred_test_lasso = lasso.predict(X_train_std), lasso.predict(X_test_std)\n",
    "\n",
    "end_time = datetime.datetime.now()\n",
    "\n",
    "time_lasso = get_time(start_time, end_time)\n",
    "\n",
    "show_metric(y_pred_train_lasso, y_train, y_pred_test_lasso, y_test, time_lasso)"
   ]
  },
  {
   "cell_type": "code",
   "execution_count": 480,
   "id": "5498975c",
   "metadata": {},
   "outputs": [
    {
     "data": {
      "text/plain": [
       "{'alpha': 1400}"
      ]
     },
     "execution_count": 480,
     "metadata": {},
     "output_type": "execute_result"
    }
   ],
   "source": [
    "cv_lasso.best_params_"
   ]
  },
  {
   "cell_type": "code",
   "execution_count": 481,
   "id": "5f13b541",
   "metadata": {},
   "outputs": [
    {
     "data": {
      "text/plain": [
       "-1227809.498229579"
      ]
     },
     "execution_count": 481,
     "metadata": {},
     "output_type": "execute_result"
    }
   ],
   "source": [
    "cv_lasso.best_score_"
   ]
  },
  {
   "cell_type": "code",
   "execution_count": 172,
   "id": "bb9723d6",
   "metadata": {},
   "outputs": [],
   "source": [
    "# model_vs_real(y_pred_test_lasso, y_test)"
   ]
  },
  {
   "cell_type": "markdown",
   "id": "30798f0d",
   "metadata": {},
   "source": [
    "# <p style='text-align:center'> Elastic Net Linear Regression </p>"
   ]
  },
  {
   "cell_type": "code",
   "execution_count": 482,
   "id": "83389dd6",
   "metadata": {},
   "outputs": [
    {
     "data": {
      "text/html": [
       "<div>\n",
       "<style scoped>\n",
       "    .dataframe tbody tr th:only-of-type {\n",
       "        vertical-align: middle;\n",
       "    }\n",
       "\n",
       "    .dataframe tbody tr th {\n",
       "        vertical-align: top;\n",
       "    }\n",
       "\n",
       "    .dataframe thead th {\n",
       "        text-align: right;\n",
       "    }\n",
       "</style>\n",
       "<table border=\"1\" class=\"dataframe\">\n",
       "  <thead>\n",
       "    <tr style=\"text-align: right;\">\n",
       "      <th></th>\n",
       "      <th>RMSE_train</th>\n",
       "      <th>RMSE_test</th>\n",
       "      <th>R2_train</th>\n",
       "      <th>R2_test</th>\n",
       "      <th>TIME</th>\n",
       "    </tr>\n",
       "  </thead>\n",
       "  <tbody>\n",
       "    <tr>\n",
       "      <th>valeur</th>\n",
       "      <td>1.144822e+06</td>\n",
       "      <td>1.191724e+06</td>\n",
       "      <td>0.693641</td>\n",
       "      <td>0.674437</td>\n",
       "      <td>(0.0, 13.626029)</td>\n",
       "    </tr>\n",
       "  </tbody>\n",
       "</table>\n",
       "</div>"
      ],
      "text/plain": [
       "          RMSE_train     RMSE_test  R2_train   R2_test              TIME\n",
       "valeur  1.144822e+06  1.191724e+06  0.693641  0.674437  (0.0, 13.626029)"
      ]
     },
     "metadata": {},
     "output_type": "display_data"
    }
   ],
   "source": [
    "# Regression linéaire Elastic Net\n",
    "\n",
    "start_time = datetime.datetime.now()\n",
    "\n",
    "cv_elastic_params = {'alpha':[0.0001,0.001, 0.1, 1, 10],'l1_ratio':[0.00001,0.0001,0.001, 0.01, 0.1, 1]}\n",
    "\n",
    "cv_elastic = GridSearchCV(ElasticNet(),cv_elastic_params,cv=5,scoring='neg_root_mean_squared_error')\n",
    "cv_elastic.fit(X_train_std, y_train)\n",
    "\n",
    "elastic = ElasticNet(alpha=cv_elastic.best_params_['alpha'],l1_ratio=cv_elastic.best_params_['l1_ratio'],random_state=0)\n",
    "\n",
    "elastic.fit(X_train_std, y_train)\n",
    "y_pred_train_elastic, y_pred_test_elastic = elastic.predict(X_train_std), elastic.predict(X_test_std)\n",
    "\n",
    "end_time = datetime.datetime.now()\n",
    "\n",
    "time_elastic = get_time(start_time, end_time)\n",
    "show_metric(y_pred_train_elastic, y_train, y_pred_test_elastic, y_test, time_elastic)"
   ]
  },
  {
   "cell_type": "code",
   "execution_count": 483,
   "id": "11b0b500",
   "metadata": {},
   "outputs": [
    {
     "data": {
      "text/plain": [
       "{'alpha': 0.001, 'l1_ratio': 1e-05}"
      ]
     },
     "execution_count": 483,
     "metadata": {},
     "output_type": "execute_result"
    }
   ],
   "source": [
    "cv_elastic.best_params_"
   ]
  },
  {
   "cell_type": "code",
   "execution_count": 484,
   "id": "b9d3f30d",
   "metadata": {},
   "outputs": [
    {
     "data": {
      "text/plain": [
       "-1228644.5122450113"
      ]
     },
     "execution_count": 484,
     "metadata": {},
     "output_type": "execute_result"
    }
   ],
   "source": [
    "cv_elastic.best_score_"
   ]
  },
  {
   "cell_type": "code",
   "execution_count": 179,
   "id": "e28aa8a4",
   "metadata": {},
   "outputs": [],
   "source": [
    "# model_vs_real(y_pred_test_elastic, y_test)"
   ]
  },
  {
   "cell_type": "markdown",
   "id": "05d2779c",
   "metadata": {},
   "source": [
    "# <p style='text-align:center'> Support Vector Regressor </p>"
   ]
  },
  {
   "cell_type": "code",
   "execution_count": 485,
   "id": "92d6200d",
   "metadata": {},
   "outputs": [
    {
     "data": {
      "text/html": [
       "<div>\n",
       "<style scoped>\n",
       "    .dataframe tbody tr th:only-of-type {\n",
       "        vertical-align: middle;\n",
       "    }\n",
       "\n",
       "    .dataframe tbody tr th {\n",
       "        vertical-align: top;\n",
       "    }\n",
       "\n",
       "    .dataframe thead th {\n",
       "        text-align: right;\n",
       "    }\n",
       "</style>\n",
       "<table border=\"1\" class=\"dataframe\">\n",
       "  <thead>\n",
       "    <tr style=\"text-align: right;\">\n",
       "      <th></th>\n",
       "      <th>RMSE_train</th>\n",
       "      <th>RMSE_test</th>\n",
       "      <th>R2_train</th>\n",
       "      <th>R2_test</th>\n",
       "      <th>TIME</th>\n",
       "    </tr>\n",
       "  </thead>\n",
       "  <tbody>\n",
       "    <tr>\n",
       "      <th>valeur</th>\n",
       "      <td>1.217307e+06</td>\n",
       "      <td>1.216161e+06</td>\n",
       "      <td>0.653619</td>\n",
       "      <td>0.660949</td>\n",
       "      <td>(0.0, 5.742432)</td>\n",
       "    </tr>\n",
       "  </tbody>\n",
       "</table>\n",
       "</div>"
      ],
      "text/plain": [
       "          RMSE_train     RMSE_test  R2_train   R2_test             TIME\n",
       "valeur  1.217307e+06  1.216161e+06  0.653619  0.660949  (0.0, 5.742432)"
      ]
     },
     "metadata": {},
     "output_type": "display_data"
    }
   ],
   "source": [
    "start_time = datetime.datetime.now()\n",
    "\n",
    "cv_svr_param = {'C' : [10000,100000,1000000], \"degree\" : [1]}\n",
    "\n",
    "cv_svr = GridSearchCV(SVR(kernel = 'linear'),cv_svr_param,cv=5,scoring='neg_root_mean_squared_error')\n",
    "\n",
    "cv_svr.fit(X_train_std, y_train)\n",
    "\n",
    "svr = SVR(kernel = 'linear', C=cv_svr.best_params_[\"C\"], degree = cv_svr.best_params_[\"degree\"])\n",
    "svr.fit(X_train_std, y_train)\n",
    "y_pred_train_svr, y_pred_test_svr = svr.predict(X_train_std), svr.predict(X_test_std)\n",
    "\n",
    "end_time = datetime.datetime.now()\n",
    "\n",
    "time_svr = get_time(start_time, end_time)\n",
    "show_metric(y_pred_train_svr, y_train, y_pred_test_svr, y_test, time_svr)"
   ]
  },
  {
   "cell_type": "code",
   "execution_count": 486,
   "id": "08818cb0",
   "metadata": {},
   "outputs": [
    {
     "data": {
      "text/plain": [
       "{'C': 1000000, 'degree': 1}"
      ]
     },
     "execution_count": 486,
     "metadata": {},
     "output_type": "execute_result"
    }
   ],
   "source": [
    "cv_svr.best_params_"
   ]
  },
  {
   "cell_type": "code",
   "execution_count": 487,
   "id": "1998e738",
   "metadata": {},
   "outputs": [
    {
     "data": {
      "text/plain": [
       "-1303953.1553280808"
      ]
     },
     "execution_count": 487,
     "metadata": {},
     "output_type": "execute_result"
    }
   ],
   "source": [
    "cv_svr.best_score_"
   ]
  },
  {
   "cell_type": "code",
   "execution_count": 151,
   "id": "876363a7",
   "metadata": {},
   "outputs": [],
   "source": [
    "# model_vs_real(y_pred_test_svr, y_test)"
   ]
  },
  {
   "cell_type": "markdown",
   "id": "da79ac2c",
   "metadata": {},
   "source": [
    "# <p style='text-align:center'> MLP Regressor </p>"
   ]
  },
  {
   "cell_type": "code",
   "execution_count": 626,
   "id": "adae0196",
   "metadata": {},
   "outputs": [
    {
     "data": {
      "text/html": [
       "<div>\n",
       "<style scoped>\n",
       "    .dataframe tbody tr th:only-of-type {\n",
       "        vertical-align: middle;\n",
       "    }\n",
       "\n",
       "    .dataframe tbody tr th {\n",
       "        vertical-align: top;\n",
       "    }\n",
       "\n",
       "    .dataframe thead th {\n",
       "        text-align: right;\n",
       "    }\n",
       "</style>\n",
       "<table border=\"1\" class=\"dataframe\">\n",
       "  <thead>\n",
       "    <tr style=\"text-align: right;\">\n",
       "      <th></th>\n",
       "      <th>RMSE_train</th>\n",
       "      <th>RMSE_test</th>\n",
       "      <th>R2_train</th>\n",
       "      <th>R2_test</th>\n",
       "      <th>TIME</th>\n",
       "    </tr>\n",
       "  </thead>\n",
       "  <tbody>\n",
       "    <tr>\n",
       "      <th>valeur</th>\n",
       "      <td>694424.29</td>\n",
       "      <td>1.29e+06</td>\n",
       "      <td>0.89</td>\n",
       "      <td>0.62</td>\n",
       "      <td>(0.0, 33.184634)</td>\n",
       "    </tr>\n",
       "  </tbody>\n",
       "</table>\n",
       "</div>"
      ],
      "text/plain": [
       "        RMSE_train  RMSE_test  R2_train  R2_test              TIME\n",
       "valeur   694424.29   1.29e+06      0.89     0.62  (0.0, 33.184634)"
      ]
     },
     "metadata": {},
     "output_type": "display_data"
    }
   ],
   "source": [
    "start_time = datetime.datetime.now()\n",
    "\n",
    "cv_mlp_param = {'hidden_layer_sizes':[30,(50,50)],'alpha':[0.01]}\n",
    "\n",
    "cv_mlp = GridSearchCV(MLPRegressor(solver = 'lbfgs', max_iter = 500, early_stopping = True, learning_rate='adaptive'),\n",
    "                   cv_mlp_param,\n",
    "                   cv=5,\n",
    "                   scoring='neg_root_mean_squared_error')\n",
    "\n",
    "cv_mlp.fit(X_train_std, y_train)\n",
    "\n",
    "regr = MLPRegressor(solver = 'lbfgs', hidden_layer_sizes = cv_mlp.best_params_['hidden_layer_sizes'],\n",
    "                    max_iter = 500,\n",
    "                   early_stopping = True,\n",
    "                   learning_rate='adaptive').fit(X_train_std, y_train)\n",
    "y_pred_train_mlp, y_pred_test_mlp = regr.predict(X_train_std), regr.predict(X_test_std)\n",
    "\n",
    "end_time = datetime.datetime.now()\n",
    "\n",
    "time_mlp= get_time(start_time, end_time)\n",
    "show_metric(y_pred_train_mlp, y_train, y_pred_test_mlp, y_test, time_mlp)"
   ]
  },
  {
   "cell_type": "code",
   "execution_count": 627,
   "id": "f63f1543",
   "metadata": {},
   "outputs": [
    {
     "data": {
      "text/plain": [
       "{'alpha': 0.01, 'hidden_layer_sizes': 30}"
      ]
     },
     "execution_count": 627,
     "metadata": {},
     "output_type": "execute_result"
    }
   ],
   "source": [
    "cv_mlp.best_params_"
   ]
  },
  {
   "cell_type": "code",
   "execution_count": 628,
   "id": "441dc450",
   "metadata": {},
   "outputs": [
    {
     "data": {
      "text/plain": [
       "-1815473.6369734337"
      ]
     },
     "execution_count": 628,
     "metadata": {},
     "output_type": "execute_result"
    }
   ],
   "source": [
    "cv_mlp.best_score_"
   ]
  },
  {
   "cell_type": "code",
   "execution_count": 152,
   "id": "f2cea6ed",
   "metadata": {},
   "outputs": [],
   "source": [
    "# model_vs_real(y_pred_test_mlp, y_test)"
   ]
  },
  {
   "cell_type": "markdown",
   "id": "c4a3a174",
   "metadata": {},
   "source": [
    "# <p style='text-align:center'> Random Forest </p>"
   ]
  },
  {
   "cell_type": "code",
   "execution_count": 618,
   "id": "8317c8b5",
   "metadata": {},
   "outputs": [
    {
     "name": "stdout",
     "output_type": "stream",
     "text": [
      "(1873, 29) (924, 29)\n"
     ]
    }
   ],
   "source": [
    "rfr_0 = RandomForestRegressor(n_estimators=40, oob_score=True)\n",
    "\n",
    "model = rfr_0.fit(X_train_std, y_train)\n",
    "\n",
    "pred = rfr_0.predict(X_test_std)\n",
    "\n",
    "from sklearn.feature_selection import SelectFromModel\n",
    "\n",
    "select = SelectFromModel(rfr_0, prefit=True, threshold=0.003)\n",
    "\n",
    "X_train_std_2 = select.transform(X_train_std)\n",
    "X_test_std_2 = select.transform(X_test_std)\n",
    "\n",
    "print(X_train_std_2.shape,X_test_std_2.shape )"
   ]
  },
  {
   "cell_type": "code",
   "execution_count": 632,
   "id": "1cf10f34",
   "metadata": {},
   "outputs": [
    {
     "data": {
      "text/html": [
       "<div>\n",
       "<style scoped>\n",
       "    .dataframe tbody tr th:only-of-type {\n",
       "        vertical-align: middle;\n",
       "    }\n",
       "\n",
       "    .dataframe tbody tr th {\n",
       "        vertical-align: top;\n",
       "    }\n",
       "\n",
       "    .dataframe thead th {\n",
       "        text-align: right;\n",
       "    }\n",
       "</style>\n",
       "<table border=\"1\" class=\"dataframe\">\n",
       "  <thead>\n",
       "    <tr style=\"text-align: right;\">\n",
       "      <th></th>\n",
       "      <th>RMSE_train</th>\n",
       "      <th>RMSE_test</th>\n",
       "      <th>R2_train</th>\n",
       "      <th>R2_test</th>\n",
       "      <th>TIME</th>\n",
       "    </tr>\n",
       "  </thead>\n",
       "  <tbody>\n",
       "    <tr>\n",
       "      <th>valeur</th>\n",
       "      <td>473583.62</td>\n",
       "      <td>1.19e+06</td>\n",
       "      <td>0.95</td>\n",
       "      <td>0.67</td>\n",
       "      <td>(1.0, 43.72801200000001)</td>\n",
       "    </tr>\n",
       "  </tbody>\n",
       "</table>\n",
       "</div>"
      ],
      "text/plain": [
       "        RMSE_train  RMSE_test  R2_train  R2_test                      TIME\n",
       "valeur   473583.62   1.19e+06      0.95     0.67  (1.0, 43.72801200000001)"
      ]
     },
     "metadata": {},
     "output_type": "display_data"
    }
   ],
   "source": [
    "start_time = datetime.datetime.now()\n",
    "\n",
    "cv_rfr_params = {'n_estimators':[10,20,30,40],'max_depth':[5,10,20,50,70],'min_samples_leaf':[2,4,8],'min_samples_split':[4,8,12]}\n",
    "\n",
    "cv_rfr = GridSearchCV(RandomForestRegressor(), cv_rfr_params, cv=5, scoring='neg_root_mean_squared_error')\n",
    "\n",
    "cv_rfr.fit(X_train_std_2, y_train)\n",
    "\n",
    "rfr = RandomForestRegressor(n_estimators = cv_rfr.best_params_['n_estimators'], max_depth = cv_rfr.best_params_['max_depth'])\n",
    "\n",
    "rfr.fit(X_train_std_2, y_train)\n",
    "y_pred_train_rfr, y_pred_test_rfr = rfr.predict(X_train_std_2), rfr.predict(X_test_std_2)\n",
    "\n",
    "end_time = datetime.datetime.now()\n",
    "\n",
    "time_rfr = get_time(start_time, end_time)\n",
    "show_metric(y_pred_train_rfr, y_train, y_pred_test_rfr, y_test, time_rfr)"
   ]
  },
  {
   "cell_type": "code",
   "execution_count": 631,
   "id": "b2000948",
   "metadata": {},
   "outputs": [
    {
     "data": {
      "text/plain": [
       "{'max_depth': 10,\n",
       " 'min_samples_leaf': 2,\n",
       " 'min_samples_split': 8,\n",
       " 'n_estimators': 20}"
      ]
     },
     "execution_count": 631,
     "metadata": {},
     "output_type": "execute_result"
    }
   ],
   "source": [
    "cv_rfr.best_params_"
   ]
  },
  {
   "cell_type": "code",
   "execution_count": 625,
   "id": "1492d735",
   "metadata": {},
   "outputs": [
    {
     "data": {
      "text/plain": [
       "-1235720.12828917"
      ]
     },
     "execution_count": 625,
     "metadata": {},
     "output_type": "execute_result"
    }
   ],
   "source": [
    "cv_rfr.best_score_"
   ]
  },
  {
   "cell_type": "code",
   "execution_count": 216,
   "id": "5f5be069",
   "metadata": {},
   "outputs": [],
   "source": [
    "# model_vs_real(y_pred_train_rfr, y_train)"
   ]
  },
  {
   "cell_type": "markdown",
   "id": "fd1b6126",
   "metadata": {},
   "source": [
    "# <p style='text-align:center'> ADABOOST </p>"
   ]
  },
  {
   "cell_type": "code",
   "execution_count": 492,
   "id": "efc76576",
   "metadata": {},
   "outputs": [
    {
     "name": "stdout",
     "output_type": "stream",
     "text": [
      "(1873, 33) (924, 33)\n"
     ]
    }
   ],
   "source": [
    "ada_0 = AdaBoostRegressor(base_estimator = DecisionTreeRegressor(), loss='linear', learning_rate = 0.5 , n_estimators = 60)\n",
    "\n",
    "model = ada_0.fit(X_train_std, y_train)\n",
    "\n",
    "pred = ada_0.predict(X_test_std)\n",
    "\n",
    "from sklearn.feature_selection import SelectFromModel\n",
    "\n",
    "select = SelectFromModel(ada_0, prefit=True, threshold=0.003)\n",
    "\n",
    "X_train_std_2 = select.transform(X_train_std)\n",
    "X_test_std_2 = select.transform(X_test_std)\n",
    "\n",
    "print(X_train_std_2.shape,X_test_std_2.shape)"
   ]
  },
  {
   "cell_type": "code",
   "execution_count": 493,
   "id": "f880b94b",
   "metadata": {},
   "outputs": [
    {
     "data": {
      "text/html": [
       "<div>\n",
       "<style scoped>\n",
       "    .dataframe tbody tr th:only-of-type {\n",
       "        vertical-align: middle;\n",
       "    }\n",
       "\n",
       "    .dataframe tbody tr th {\n",
       "        vertical-align: top;\n",
       "    }\n",
       "\n",
       "    .dataframe thead th {\n",
       "        text-align: right;\n",
       "    }\n",
       "</style>\n",
       "<table border=\"1\" class=\"dataframe\">\n",
       "  <thead>\n",
       "    <tr style=\"text-align: right;\">\n",
       "      <th></th>\n",
       "      <th>RMSE_train</th>\n",
       "      <th>RMSE_test</th>\n",
       "      <th>R2_train</th>\n",
       "      <th>R2_test</th>\n",
       "      <th>TIME</th>\n",
       "    </tr>\n",
       "  </thead>\n",
       "  <tbody>\n",
       "    <tr>\n",
       "      <th>valeur</th>\n",
       "      <td>445299.051767</td>\n",
       "      <td>1.173696e+06</td>\n",
       "      <td>0.953649</td>\n",
       "      <td>0.684213</td>\n",
       "      <td>(0.0, 41.357129)</td>\n",
       "    </tr>\n",
       "  </tbody>\n",
       "</table>\n",
       "</div>"
      ],
      "text/plain": [
       "           RMSE_train     RMSE_test  R2_train   R2_test              TIME\n",
       "valeur  445299.051767  1.173696e+06  0.953649  0.684213  (0.0, 41.357129)"
      ]
     },
     "metadata": {},
     "output_type": "display_data"
    }
   ],
   "source": [
    "start_time = datetime.datetime.now()\n",
    "\n",
    "cv_ada_params = {'n_estimators':[200,500],'learning_rate':[1.5,2]}\n",
    "\n",
    "cv_ada = GridSearchCV(AdaBoostRegressor(base_estimator = DecisionTreeRegressor(max_depth=15), loss = 'linear'), cv_ada_params, cv=5, scoring='neg_root_mean_squared_error')\n",
    "\n",
    "cv_ada.fit(X_train_std_2, y_train)\n",
    "\n",
    "\n",
    "ada = AdaBoostRegressor(base_estimator = DecisionTreeRegressor(max_depth=15), loss='linear', learning_rate = cv_ada.best_params_['learning_rate'] , n_estimators = cv_ada.best_params_['n_estimators'])\n",
    "ada.fit(X_train_std_2, y_train)\n",
    "y_pred_train_ada, y_pred_test_ada= ada.predict(X_train_std_2), ada.predict(X_test_std_2)\n",
    "\n",
    "end_time = datetime.datetime.now()\n",
    "\n",
    "time_ada= get_time(start_time, end_time)\n",
    "show_metric(y_pred_train_ada, y_train, y_pred_test_ada, y_test, time_ada)"
   ]
  },
  {
   "cell_type": "code",
   "execution_count": 494,
   "id": "949c70ae",
   "metadata": {},
   "outputs": [
    {
     "data": {
      "text/plain": [
       "{'learning_rate': 2, 'n_estimators': 200}"
      ]
     },
     "execution_count": 494,
     "metadata": {},
     "output_type": "execute_result"
    }
   ],
   "source": [
    "cv_ada.best_params_"
   ]
  },
  {
   "cell_type": "code",
   "execution_count": 495,
   "id": "d830ebfe",
   "metadata": {},
   "outputs": [
    {
     "data": {
      "text/plain": [
       "-1220233.2083549884"
      ]
     },
     "execution_count": 495,
     "metadata": {},
     "output_type": "execute_result"
    }
   ],
   "source": [
    "cv_ada.best_score_"
   ]
  },
  {
   "cell_type": "code",
   "execution_count": 630,
   "id": "fee53701",
   "metadata": {},
   "outputs": [],
   "source": [
    "# squared_error(y_pred_test_ada, y_test)"
   ]
  },
  {
   "cell_type": "code",
   "execution_count": 502,
   "id": "a111a61d",
   "metadata": {},
   "outputs": [
    {
     "data": {
      "image/png": "[encoded data removed]",
      "text/plain": [
       "<Figure size 1080x1080 with 1 Axes>"
      ]
     },
     "metadata": {
      "needs_background": "light"
     },
     "output_type": "display_data"
    }
   ],
   "source": [
    "model_vs_real(y_pred_test_ada, y_test)"
   ]
  },
  {
   "cell_type": "markdown",
   "id": "7d877a8b",
   "metadata": {},
   "source": [
    "# <p style='text-align:center'> Dummy </p>"
   ]
  },
  {
   "cell_type": "code",
   "execution_count": 505,
   "id": "afabd7ed",
   "metadata": {},
   "outputs": [
    {
     "data": {
      "text/html": [
       "<div>\n",
       "<style scoped>\n",
       "    .dataframe tbody tr th:only-of-type {\n",
       "        vertical-align: middle;\n",
       "    }\n",
       "\n",
       "    .dataframe tbody tr th {\n",
       "        vertical-align: top;\n",
       "    }\n",
       "\n",
       "    .dataframe thead th {\n",
       "        text-align: right;\n",
       "    }\n",
       "</style>\n",
       "<table border=\"1\" class=\"dataframe\">\n",
       "  <thead>\n",
       "    <tr style=\"text-align: right;\">\n",
       "      <th></th>\n",
       "      <th>RMSE_train</th>\n",
       "      <th>RMSE_test</th>\n",
       "      <th>R2_train</th>\n",
       "      <th>R2_test</th>\n",
       "      <th>TIME</th>\n",
       "    </tr>\n",
       "  </thead>\n",
       "  <tbody>\n",
       "    <tr>\n",
       "      <th>valeur</th>\n",
       "      <td>2.068345e+06</td>\n",
       "      <td>2.088801e+06</td>\n",
       "      <td>0.0</td>\n",
       "      <td>-0.000178</td>\n",
       "      <td>(0.0, 0.001)</td>\n",
       "    </tr>\n",
       "  </tbody>\n",
       "</table>\n",
       "</div>"
      ],
      "text/plain": [
       "          RMSE_train     RMSE_test  R2_train   R2_test          TIME\n",
       "valeur  2.068345e+06  2.088801e+06       0.0 -0.000178  (0.0, 0.001)"
      ]
     },
     "metadata": {},
     "output_type": "display_data"
    }
   ],
   "source": [
    "start_time = datetime.datetime.now() \n",
    "\n",
    "dum = dummy.DummyRegressor(strategy='mean')\n",
    "dum.fit(X_train_std, y_train)\n",
    "y_pred_train_dummy, y_pred_test_dummy = dum.predict(X_train_std), dum.predict(X_test_std)\n",
    "\n",
    "end_time = datetime.datetime.now()\n",
    "\n",
    "time_dummy = get_time(start_time, end_time)\n",
    "\n",
    "show_metric(y_pred_train_dummy, y_train, y_pred_test_dummy, y_test, time_dummy)"
   ]
  },
  {
   "cell_type": "code",
   "execution_count": 506,
   "id": "de7901e5",
   "metadata": {},
   "outputs": [
    {
     "data": {
      "image/png": "[encoded data removed]",
      "text/plain": [
       "<Figure size 1080x1080 with 1 Axes>"
      ]
     },
     "metadata": {
      "needs_background": "light"
     },
     "output_type": "display_data"
    }
   ],
   "source": [
    "model_vs_real(y_pred_test_dummy, y_test)"
   ]
  },
  {
   "cell_type": "markdown",
   "id": "feafb999",
   "metadata": {},
   "source": [
    "\n",
    "\n",
    "\n",
    "\n",
    "\n",
    "\n",
    "\n",
    "\n"
   ]
  },
  {
   "cell_type": "markdown",
   "id": "a8a562de",
   "metadata": {},
   "source": [
    "# <p style='text-align:center'> GHG Emission </p>"
   ]
  },
  {
   "cell_type": "markdown",
   "id": "d9c023f7",
   "metadata": {},
   "source": [
    "# <p style='text-align:center'>Paramètres</p>"
   ]
  },
  {
   "cell_type": "code",
   "execution_count": 544,
   "id": "a8a9f556",
   "metadata": {},
   "outputs": [],
   "source": [
    "strategy = 2\n",
    "mode = 'brut'\n",
    "var_log = True\n",
    "liste_model = ['Regression simple', 'Regression Ridge', 'Regression Lasso', 'Regression Elastic Net', 'Linear SVR', 'MLP Regression', 'Dummy (MEAN)', 'ADA', 'Random Forest']"
   ]
  },
  {
   "cell_type": "markdown",
   "id": "dc48b0cd",
   "metadata": {},
   "source": [
    "# <p style='text-align:center'>Features Engineering </p>"
   ]
  },
  {
   "cell_type": "code",
   "execution_count": 545,
   "id": "dd2dcfd0",
   "metadata": {},
   "outputs": [],
   "source": [
    "bench = pd.read_excel(\"benchmark_cleaned.xlsx\")"
   ]
  },
  {
   "cell_type": "code",
   "execution_count": 546,
   "id": "819a1796",
   "metadata": {},
   "outputs": [],
   "source": [
    "bench = preprocessing(bench, var_log=True)"
   ]
  },
  {
   "cell_type": "code",
   "execution_count": 547,
   "id": "1cc2f2ee",
   "metadata": {},
   "outputs": [],
   "source": [
    "# bench.head()"
   ]
  },
  {
   "cell_type": "code",
   "execution_count": 548,
   "id": "6f804e99",
   "metadata": {},
   "outputs": [
    {
     "data": {
      "image/png": "[encoded data removed]",
      "text/plain": [
       "<Figure size 1080x1080 with 1 Axes>"
      ]
     },
     "metadata": {
      "needs_background": "light"
     },
     "output_type": "display_data"
    }
   ],
   "source": [
    "boxplot(bench[\"ghg_emission\"])"
   ]
  },
  {
   "cell_type": "code",
   "execution_count": 549,
   "id": "0eff004d",
   "metadata": {},
   "outputs": [],
   "source": [
    "# bench, var_supp_1 = add_poly_var(bench, \"lput_gfa\", [0.5, 1, 2])"
   ]
  },
  {
   "cell_type": "code",
   "execution_count": 550,
   "id": "d3c9afda",
   "metadata": {},
   "outputs": [],
   "source": [
    "# bench, var_supp_2 = add_poly_var(bench, \"sput_gfa\", [0.5, 1, 2])"
   ]
  },
  {
   "cell_type": "code",
   "execution_count": 551,
   "id": "80155331",
   "metadata": {},
   "outputs": [],
   "source": [
    "# bench, var_supp_3 = add_poly_var(bench, \"tput_gfa\", [0.5, 1, 2])"
   ]
  },
  {
   "cell_type": "code",
   "execution_count": 552,
   "id": "00ec090e",
   "metadata": {},
   "outputs": [],
   "source": [
    "# bench, var_supp_4 = add_poly_var(bench, \"nf\", [0.5, 1, 2])"
   ]
  },
  {
   "cell_type": "code",
   "execution_count": 553,
   "id": "ee0a50e9",
   "metadata": {},
   "outputs": [],
   "source": [
    "var_supp=[]"
   ]
  },
  {
   "cell_type": "code",
   "execution_count": 554,
   "id": "857b9b0e",
   "metadata": {},
   "outputs": [],
   "source": [
    "# var_supp = var_supp_1 + var_supp_2 + var_supp_3 + var_supp_4"
   ]
  },
  {
   "cell_type": "code",
   "execution_count": 555,
   "id": "86ed373e",
   "metadata": {},
   "outputs": [],
   "source": [
    "X, X_before_encoding = explanatory_variables(bench, strategy, var_supp)"
   ]
  },
  {
   "cell_type": "code",
   "execution_count": 556,
   "id": "267ebed3",
   "metadata": {},
   "outputs": [],
   "source": [
    "y = explained_variable(bench, 'ghg_emission', 'brut')"
   ]
  },
  {
   "cell_type": "code",
   "execution_count": 557,
   "id": "3e4436ad",
   "metadata": {},
   "outputs": [],
   "source": [
    "X_train, X_test, y_train, y_test = train_test_split(X, y, test_size=0.33, random_state=79)"
   ]
  },
  {
   "cell_type": "code",
   "execution_count": 558,
   "id": "30e17e66",
   "metadata": {},
   "outputs": [],
   "source": [
    "X_train_std, X_test_std = standardize(X_train, X_test, y_train, y_test, X_before_encoding.shape[1])"
   ]
  },
  {
   "cell_type": "markdown",
   "id": "445de88f",
   "metadata": {},
   "source": [
    "# <p style='text-align:center'> Simple Linear Regression </p>"
   ]
  },
  {
   "cell_type": "code",
   "execution_count": 559,
   "id": "73922877",
   "metadata": {},
   "outputs": [
    {
     "data": {
      "text/html": [
       "<div>\n",
       "<style scoped>\n",
       "    .dataframe tbody tr th:only-of-type {\n",
       "        vertical-align: middle;\n",
       "    }\n",
       "\n",
       "    .dataframe tbody tr th {\n",
       "        vertical-align: top;\n",
       "    }\n",
       "\n",
       "    .dataframe thead th {\n",
       "        text-align: right;\n",
       "    }\n",
       "</style>\n",
       "<table border=\"1\" class=\"dataframe\">\n",
       "  <thead>\n",
       "    <tr style=\"text-align: right;\">\n",
       "      <th></th>\n",
       "      <th>RMSE_train</th>\n",
       "      <th>RMSE_test</th>\n",
       "      <th>R2_train</th>\n",
       "      <th>R2_test</th>\n",
       "      <th>TIME</th>\n",
       "    </tr>\n",
       "  </thead>\n",
       "  <tbody>\n",
       "    <tr>\n",
       "      <th>valeur</th>\n",
       "      <td>43.78</td>\n",
       "      <td>3.52e+12</td>\n",
       "      <td>0.44</td>\n",
       "      <td>-3.24e+21</td>\n",
       "      <td>(0.0, 0.032005)</td>\n",
       "    </tr>\n",
       "  </tbody>\n",
       "</table>\n",
       "</div>"
      ],
      "text/plain": [
       "        RMSE_train  RMSE_test  R2_train   R2_test             TIME\n",
       "valeur       43.78   3.52e+12      0.44 -3.24e+21  (0.0, 0.032005)"
      ]
     },
     "metadata": {},
     "output_type": "display_data"
    }
   ],
   "source": [
    "# Regression Linéaire Simple\n",
    "\n",
    "start_time = datetime.datetime.now()\n",
    "\n",
    "reg = LinearRegression()\n",
    "reg.fit(X_train_std, y_train)\n",
    "y_pred_train_simple, y_pred_test_simple  = reg.predict(X_train_std), reg.predict(X_test_std)\n",
    "\n",
    "end_time = datetime.datetime.now()\n",
    "\n",
    "time_simple= get_time(start_time, end_time)\n",
    "\n",
    "show_metric(y_pred_train_simple, y_train, y_pred_test_simple, y_test, time_simple)"
   ]
  },
  {
   "cell_type": "code",
   "execution_count": 475,
   "id": "01288e49",
   "metadata": {},
   "outputs": [],
   "source": [
    "# model_vs_real(y_pred_train_simple, y_train)"
   ]
  },
  {
   "cell_type": "markdown",
   "id": "47e42715",
   "metadata": {},
   "source": [
    "# <p style='text-align:center'> Ridge Linear Regression </p>"
   ]
  },
  {
   "cell_type": "code",
   "execution_count": 561,
   "id": "e4cb6694",
   "metadata": {},
   "outputs": [
    {
     "data": {
      "text/html": [
       "<div>\n",
       "<style scoped>\n",
       "    .dataframe tbody tr th:only-of-type {\n",
       "        vertical-align: middle;\n",
       "    }\n",
       "\n",
       "    .dataframe tbody tr th {\n",
       "        vertical-align: top;\n",
       "    }\n",
       "\n",
       "    .dataframe thead th {\n",
       "        text-align: right;\n",
       "    }\n",
       "</style>\n",
       "<table border=\"1\" class=\"dataframe\">\n",
       "  <thead>\n",
       "    <tr style=\"text-align: right;\">\n",
       "      <th></th>\n",
       "      <th>RMSE_train</th>\n",
       "      <th>RMSE_test</th>\n",
       "      <th>R2_train</th>\n",
       "      <th>R2_test</th>\n",
       "      <th>TIME</th>\n",
       "    </tr>\n",
       "  </thead>\n",
       "  <tbody>\n",
       "    <tr>\n",
       "      <th>valeur</th>\n",
       "      <td>45.03</td>\n",
       "      <td>48.64</td>\n",
       "      <td>0.4</td>\n",
       "      <td>0.38</td>\n",
       "      <td>(0.0, 0.249014)</td>\n",
       "    </tr>\n",
       "  </tbody>\n",
       "</table>\n",
       "</div>"
      ],
      "text/plain": [
       "        RMSE_train  RMSE_test  R2_train  R2_test             TIME\n",
       "valeur       45.03      48.64       0.4     0.38  (0.0, 0.249014)"
      ]
     },
     "metadata": {},
     "output_type": "display_data"
    }
   ],
   "source": [
    "# Regression linéaire Ridge\n",
    "\n",
    "start_time = datetime.datetime.now()\n",
    "\n",
    "cv_ridge_params = {'alpha':[1,3,4,5,7,9,11]}\n",
    "\n",
    "cv_ridge = GridSearchCV(Ridge(), cv_ridge_params, cv=5, scoring='neg_root_mean_squared_error')\n",
    "cv_ridge.fit(X_train_std, y_train)\n",
    "\n",
    "ridge = Ridge(alpha=cv_ridge.best_params_['alpha'])\n",
    "ridge.fit(X_train_std, y_train)\n",
    "y_pred_train_ridge, y_pred_test_ridge = ridge.predict(X_train_std), ridge.predict(X_test_std)\n",
    "\n",
    "end_time = datetime.datetime.now()\n",
    "\n",
    "time_ridge = get_time(start_time, end_time)\n",
    "\n",
    "show_metric(y_pred_train_ridge, y_train, y_pred_test_ridge, y_test, time_ridge)"
   ]
  },
  {
   "cell_type": "code",
   "execution_count": 566,
   "id": "9cd3b785",
   "metadata": {},
   "outputs": [
    {
     "data": {
      "text/plain": [
       "{'alpha': 9}"
      ]
     },
     "execution_count": 566,
     "metadata": {},
     "output_type": "execute_result"
    }
   ],
   "source": [
    "cv_ridge.best_params_"
   ]
  },
  {
   "cell_type": "code",
   "execution_count": 563,
   "id": "564b7730",
   "metadata": {},
   "outputs": [
    {
     "data": {
      "text/plain": [
       "-46.74152220400822"
      ]
     },
     "execution_count": 563,
     "metadata": {},
     "output_type": "execute_result"
    }
   ],
   "source": [
    "cv_ridge.best_score_"
   ]
  },
  {
   "cell_type": "code",
   "execution_count": 812,
   "id": "665db515",
   "metadata": {},
   "outputs": [],
   "source": [
    "# regularization_path(lambdas = [y*10**(x) for x in [-4,-3,-2,-1,0,1,2,3,4] for y in [1, 2, 4, 6, 8]])"
   ]
  },
  {
   "cell_type": "code",
   "execution_count": 565,
   "id": "2404d524",
   "metadata": {},
   "outputs": [],
   "source": [
    "# model_vs_real(y_pred_test_ridge, y_test)"
   ]
  },
  {
   "cell_type": "markdown",
   "id": "38728b7e",
   "metadata": {},
   "source": [
    "# <p style='text-align:center'> Lasso Linear Regression </p>"
   ]
  },
  {
   "cell_type": "code",
   "execution_count": 567,
   "id": "e4140d40",
   "metadata": {},
   "outputs": [
    {
     "data": {
      "text/html": [
       "<div>\n",
       "<style scoped>\n",
       "    .dataframe tbody tr th:only-of-type {\n",
       "        vertical-align: middle;\n",
       "    }\n",
       "\n",
       "    .dataframe tbody tr th {\n",
       "        vertical-align: top;\n",
       "    }\n",
       "\n",
       "    .dataframe thead th {\n",
       "        text-align: right;\n",
       "    }\n",
       "</style>\n",
       "<table border=\"1\" class=\"dataframe\">\n",
       "  <thead>\n",
       "    <tr style=\"text-align: right;\">\n",
       "      <th></th>\n",
       "      <th>RMSE_train</th>\n",
       "      <th>RMSE_test</th>\n",
       "      <th>R2_train</th>\n",
       "      <th>R2_test</th>\n",
       "      <th>TIME</th>\n",
       "    </tr>\n",
       "  </thead>\n",
       "  <tbody>\n",
       "    <tr>\n",
       "      <th>valeur</th>\n",
       "      <td>58.36</td>\n",
       "      <td>61.89</td>\n",
       "      <td>0.0</td>\n",
       "      <td>-4.35e-04</td>\n",
       "      <td>(0.0, 0.122009)</td>\n",
       "    </tr>\n",
       "  </tbody>\n",
       "</table>\n",
       "</div>"
      ],
      "text/plain": [
       "        RMSE_train  RMSE_test  R2_train   R2_test             TIME\n",
       "valeur       58.36      61.89       0.0 -4.35e-04  (0.0, 0.122009)"
      ]
     },
     "metadata": {},
     "output_type": "display_data"
    }
   ],
   "source": [
    "# Regression linéaire Lasso\n",
    "\n",
    "start_time = datetime.datetime.now()\n",
    "\n",
    "cv_lasso_params = {'alpha':[1300,1350,1400]}\n",
    "\n",
    "cv_lasso = GridSearchCV(Lasso(fit_intercept=True),cv_lasso_params,cv=5,scoring='neg_root_mean_squared_error')\n",
    "cv_lasso.fit(X_train_std, y_train)\n",
    "\n",
    "lasso = Lasso(alpha=cv_lasso.best_params_['alpha'], fit_intercept=True)\n",
    "lasso.fit(X_train_std, y_train)\n",
    "y_pred_train_lasso, y_pred_test_lasso = lasso.predict(X_train_std), lasso.predict(X_test_std)\n",
    "\n",
    "end_time = datetime.datetime.now()\n",
    "\n",
    "time_lasso = get_time(start_time, end_time)\n",
    "\n",
    "show_metric(y_pred_train_lasso, y_train, y_pred_test_lasso, y_test, time_lasso)"
   ]
  },
  {
   "cell_type": "code",
   "execution_count": 568,
   "id": "0eacae5f",
   "metadata": {},
   "outputs": [
    {
     "data": {
      "text/plain": [
       "{'alpha': 1300}"
      ]
     },
     "execution_count": 568,
     "metadata": {},
     "output_type": "execute_result"
    }
   ],
   "source": [
    "cv_lasso.best_params_"
   ]
  },
  {
   "cell_type": "code",
   "execution_count": 569,
   "id": "60c73ce8",
   "metadata": {},
   "outputs": [
    {
     "data": {
      "text/plain": [
       "-58.2933174699798"
      ]
     },
     "execution_count": 569,
     "metadata": {},
     "output_type": "execute_result"
    }
   ],
   "source": [
    "cv_lasso.best_score_"
   ]
  },
  {
   "cell_type": "code",
   "execution_count": 572,
   "id": "01e2c263",
   "metadata": {},
   "outputs": [],
   "source": [
    "# model_vs_real(y_pred_test_lasso, y_test)"
   ]
  },
  {
   "cell_type": "markdown",
   "id": "1e49dbe6",
   "metadata": {},
   "source": [
    "# <p style='text-align:center'> Elastic Net Linear Regression </p>"
   ]
  },
  {
   "cell_type": "code",
   "execution_count": 573,
   "id": "89a6859b",
   "metadata": {},
   "outputs": [
    {
     "data": {
      "text/html": [
       "<div>\n",
       "<style scoped>\n",
       "    .dataframe tbody tr th:only-of-type {\n",
       "        vertical-align: middle;\n",
       "    }\n",
       "\n",
       "    .dataframe tbody tr th {\n",
       "        vertical-align: top;\n",
       "    }\n",
       "\n",
       "    .dataframe thead th {\n",
       "        text-align: right;\n",
       "    }\n",
       "</style>\n",
       "<table border=\"1\" class=\"dataframe\">\n",
       "  <thead>\n",
       "    <tr style=\"text-align: right;\">\n",
       "      <th></th>\n",
       "      <th>RMSE_train</th>\n",
       "      <th>RMSE_test</th>\n",
       "      <th>R2_train</th>\n",
       "      <th>R2_test</th>\n",
       "      <th>TIME</th>\n",
       "    </tr>\n",
       "  </thead>\n",
       "  <tbody>\n",
       "    <tr>\n",
       "      <th>valeur</th>\n",
       "      <td>45.26</td>\n",
       "      <td>48.71</td>\n",
       "      <td>0.4</td>\n",
       "      <td>0.38</td>\n",
       "      <td>(0.0, 8.762663)</td>\n",
       "    </tr>\n",
       "  </tbody>\n",
       "</table>\n",
       "</div>"
      ],
      "text/plain": [
       "        RMSE_train  RMSE_test  R2_train  R2_test             TIME\n",
       "valeur       45.26      48.71       0.4     0.38  (0.0, 8.762663)"
      ]
     },
     "metadata": {},
     "output_type": "display_data"
    }
   ],
   "source": [
    "# Regression linéaire Elastic Net\n",
    "\n",
    "start_time = datetime.datetime.now()\n",
    "\n",
    "cv_elastic_params = {'alpha':[0.0001,0.001, 0.1, 1, 10],'l1_ratio':[0.00001,0.0001,0.001, 0.01, 0.1, 1]}\n",
    "\n",
    "cv_elastic = GridSearchCV(ElasticNet(),cv_elastic_params,cv=5,scoring='neg_root_mean_squared_error')\n",
    "cv_elastic.fit(X_train_std, y_train)\n",
    "\n",
    "elastic = ElasticNet(alpha=cv_elastic.best_params_['alpha'],l1_ratio=cv_elastic.best_params_['l1_ratio'],random_state=0)\n",
    "\n",
    "elastic.fit(X_train_std, y_train)\n",
    "y_pred_train_elastic, y_pred_test_elastic = elastic.predict(X_train_std), elastic.predict(X_test_std)\n",
    "\n",
    "end_time = datetime.datetime.now()\n",
    "\n",
    "time_elastic = get_time(start_time, end_time)\n",
    "show_metric(y_pred_train_elastic, y_train, y_pred_test_elastic, y_test, time_elastic)"
   ]
  },
  {
   "cell_type": "code",
   "execution_count": 574,
   "id": "2cc15f96",
   "metadata": {},
   "outputs": [
    {
     "data": {
      "text/plain": [
       "{'alpha': 0.1, 'l1_ratio': 1}"
      ]
     },
     "execution_count": 574,
     "metadata": {},
     "output_type": "execute_result"
    }
   ],
   "source": [
    "cv_elastic.best_params_"
   ]
  },
  {
   "cell_type": "code",
   "execution_count": 575,
   "id": "7b4ebf25",
   "metadata": {},
   "outputs": [
    {
     "data": {
      "text/plain": [
       "-47.087609718410505"
      ]
     },
     "execution_count": 575,
     "metadata": {},
     "output_type": "execute_result"
    }
   ],
   "source": [
    "cv_elastic.best_score_"
   ]
  },
  {
   "cell_type": "code",
   "execution_count": 179,
   "id": "91d2dde1",
   "metadata": {},
   "outputs": [],
   "source": [
    "# model_vs_real(y_pred_test_elastic, y_test)"
   ]
  },
  {
   "cell_type": "markdown",
   "id": "6ca5780b",
   "metadata": {},
   "source": [
    "# <p style='text-align:center'> Support Vector Regressor </p>"
   ]
  },
  {
   "cell_type": "code",
   "execution_count": 577,
   "id": "ca9e5091",
   "metadata": {},
   "outputs": [
    {
     "data": {
      "text/html": [
       "<div>\n",
       "<style scoped>\n",
       "    .dataframe tbody tr th:only-of-type {\n",
       "        vertical-align: middle;\n",
       "    }\n",
       "\n",
       "    .dataframe tbody tr th {\n",
       "        vertical-align: top;\n",
       "    }\n",
       "\n",
       "    .dataframe thead th {\n",
       "        text-align: right;\n",
       "    }\n",
       "</style>\n",
       "<table border=\"1\" class=\"dataframe\">\n",
       "  <thead>\n",
       "    <tr style=\"text-align: right;\">\n",
       "      <th></th>\n",
       "      <th>RMSE_train</th>\n",
       "      <th>RMSE_test</th>\n",
       "      <th>R2_train</th>\n",
       "      <th>R2_test</th>\n",
       "      <th>TIME</th>\n",
       "    </tr>\n",
       "  </thead>\n",
       "  <tbody>\n",
       "    <tr>\n",
       "      <th>valeur</th>\n",
       "      <td>48.24</td>\n",
       "      <td>51.04</td>\n",
       "      <td>0.32</td>\n",
       "      <td>0.32</td>\n",
       "      <td>(0.0, 23.126759)</td>\n",
       "    </tr>\n",
       "  </tbody>\n",
       "</table>\n",
       "</div>"
      ],
      "text/plain": [
       "        RMSE_train  RMSE_test  R2_train  R2_test              TIME\n",
       "valeur       48.24      51.04      0.32     0.32  (0.0, 23.126759)"
      ]
     },
     "metadata": {},
     "output_type": "display_data"
    }
   ],
   "source": [
    "start_time = datetime.datetime.now()\n",
    "\n",
    "cv_svr_param = {'C' : [10,100,1000], \"degree\" : [1]}\n",
    "\n",
    "cv_svr = GridSearchCV(SVR(kernel = 'linear'),cv_svr_param,cv=5,scoring='neg_root_mean_squared_error')\n",
    "\n",
    "cv_svr.fit(X_train_std, y_train)\n",
    "\n",
    "svr = SVR(kernel = 'linear', C=cv_svr.best_params_[\"C\"], degree = cv_svr.best_params_[\"degree\"])\n",
    "svr.fit(X_train_std, y_train)\n",
    "y_pred_train_svr, y_pred_test_svr = svr.predict(X_train_std), svr.predict(X_test_std)\n",
    "\n",
    "end_time = datetime.datetime.now()\n",
    "\n",
    "time_svr = get_time(start_time, end_time)\n",
    "show_metric(y_pred_train_svr, y_train, y_pred_test_svr, y_test, time_svr)"
   ]
  },
  {
   "cell_type": "code",
   "execution_count": 578,
   "id": "cff17bc9",
   "metadata": {},
   "outputs": [
    {
     "data": {
      "text/plain": [
       "{'C': 10, 'degree': 1}"
      ]
     },
     "execution_count": 578,
     "metadata": {},
     "output_type": "execute_result"
    }
   ],
   "source": [
    "cv_svr.best_params_"
   ]
  },
  {
   "cell_type": "code",
   "execution_count": 579,
   "id": "dfce1cc2",
   "metadata": {},
   "outputs": [
    {
     "data": {
      "text/plain": [
       "-49.22968855110937"
      ]
     },
     "execution_count": 579,
     "metadata": {},
     "output_type": "execute_result"
    }
   ],
   "source": [
    "cv_svr.best_score_"
   ]
  },
  {
   "cell_type": "code",
   "execution_count": 151,
   "id": "429e8ec0",
   "metadata": {},
   "outputs": [],
   "source": [
    "# model_vs_real(y_pred_test_svr, y_test)"
   ]
  },
  {
   "cell_type": "markdown",
   "id": "fd1e2695",
   "metadata": {},
   "source": [
    "# <p style='text-align:center'> MLP Regressor </p>"
   ]
  },
  {
   "cell_type": "code",
   "execution_count": 580,
   "id": "ab138781",
   "metadata": {},
   "outputs": [
    {
     "data": {
      "text/html": [
       "<div>\n",
       "<style scoped>\n",
       "    .dataframe tbody tr th:only-of-type {\n",
       "        vertical-align: middle;\n",
       "    }\n",
       "\n",
       "    .dataframe tbody tr th {\n",
       "        vertical-align: top;\n",
       "    }\n",
       "\n",
       "    .dataframe thead th {\n",
       "        text-align: right;\n",
       "    }\n",
       "</style>\n",
       "<table border=\"1\" class=\"dataframe\">\n",
       "  <thead>\n",
       "    <tr style=\"text-align: right;\">\n",
       "      <th></th>\n",
       "      <th>RMSE_train</th>\n",
       "      <th>RMSE_test</th>\n",
       "      <th>R2_train</th>\n",
       "      <th>R2_test</th>\n",
       "      <th>TIME</th>\n",
       "    </tr>\n",
       "  </thead>\n",
       "  <tbody>\n",
       "    <tr>\n",
       "      <th>valeur</th>\n",
       "      <td>26.89</td>\n",
       "      <td>58.19</td>\n",
       "      <td>0.79</td>\n",
       "      <td>0.12</td>\n",
       "      <td>(1.0, 0.37581300000000084)</td>\n",
       "    </tr>\n",
       "  </tbody>\n",
       "</table>\n",
       "</div>"
      ],
      "text/plain": [
       "        RMSE_train  RMSE_test  R2_train  R2_test                        TIME\n",
       "valeur       26.89      58.19      0.79     0.12  (1.0, 0.37581300000000084)"
      ]
     },
     "metadata": {},
     "output_type": "display_data"
    }
   ],
   "source": [
    "start_time = datetime.datetime.now()\n",
    "\n",
    "cv_mlp_param = {'hidden_layer_sizes':[30,40,50,60,80]}\n",
    "\n",
    "cv_mlp = GridSearchCV(MLPRegressor(solver = 'lbfgs', max_iter = 500, early_stopping = True, learning_rate='adaptive'),\n",
    "                   cv_mlp_param,\n",
    "                   cv=5,\n",
    "                   scoring='neg_root_mean_squared_error')\n",
    "\n",
    "cv_mlp.fit(X_train_std, y_train)\n",
    "\n",
    "regr = MLPRegressor(solver = 'lbfgs', hidden_layer_sizes = cv_mlp.best_params_['hidden_layer_sizes'],\n",
    "                    max_iter = 500,\n",
    "                   early_stopping = True,\n",
    "                   learning_rate='adaptive').fit(X_train_std, y_train)\n",
    "y_pred_train_mlp, y_pred_test_mlp = regr.predict(X_train_std), regr.predict(X_test_std)\n",
    "\n",
    "end_time = datetime.datetime.now()\n",
    "\n",
    "time_mlp= get_time(start_time, end_time)\n",
    "show_metric(y_pred_train_mlp, y_train, y_pred_test_mlp, y_test, time_mlp)"
   ]
  },
  {
   "cell_type": "code",
   "execution_count": 581,
   "id": "a3ff1002",
   "metadata": {},
   "outputs": [
    {
     "data": {
      "text/plain": [
       "{'hidden_layer_sizes': 30}"
      ]
     },
     "execution_count": 581,
     "metadata": {},
     "output_type": "execute_result"
    }
   ],
   "source": [
    "cv_mlp.best_params_"
   ]
  },
  {
   "cell_type": "code",
   "execution_count": 582,
   "id": "3c3d8a51",
   "metadata": {},
   "outputs": [
    {
     "data": {
      "text/plain": [
       "-64.5598190211358"
      ]
     },
     "execution_count": 582,
     "metadata": {},
     "output_type": "execute_result"
    }
   ],
   "source": [
    "cv_mlp.best_score_"
   ]
  },
  {
   "cell_type": "code",
   "execution_count": 152,
   "id": "f0fcabf6",
   "metadata": {},
   "outputs": [],
   "source": [
    "# model_vs_real(y_pred_test_mlp, y_test)"
   ]
  },
  {
   "cell_type": "markdown",
   "id": "06739f06",
   "metadata": {},
   "source": [
    "# <p style='text-align:center'> Random Forest </p>"
   ]
  },
  {
   "cell_type": "code",
   "execution_count": 583,
   "id": "88a0ac19",
   "metadata": {},
   "outputs": [
    {
     "name": "stdout",
     "output_type": "stream",
     "text": [
      "(1873, 37) (924, 37)\n"
     ]
    }
   ],
   "source": [
    "rfr_0 = RandomForestRegressor(n_estimators=40, oob_score=True)\n",
    "\n",
    "model = rfr_0.fit(X_train_std, y_train)\n",
    "\n",
    "pred = rfr_0.predict(X_test_std)\n",
    "\n",
    "from sklearn.feature_selection import SelectFromModel\n",
    "\n",
    "select = SelectFromModel(rfr_0, prefit=True, threshold=0.003)\n",
    "\n",
    "X_train_std_2 = select.transform(X_train_std)\n",
    "X_test_std_2 = select.transform(X_test_std)\n",
    "\n",
    "print(X_train_std_2.shape,X_test_std_2.shape )"
   ]
  },
  {
   "cell_type": "code",
   "execution_count": 584,
   "id": "728007ba",
   "metadata": {},
   "outputs": [
    {
     "data": {
      "text/html": [
       "<div>\n",
       "<style scoped>\n",
       "    .dataframe tbody tr th:only-of-type {\n",
       "        vertical-align: middle;\n",
       "    }\n",
       "\n",
       "    .dataframe tbody tr th {\n",
       "        vertical-align: top;\n",
       "    }\n",
       "\n",
       "    .dataframe thead th {\n",
       "        text-align: right;\n",
       "    }\n",
       "</style>\n",
       "<table border=\"1\" class=\"dataframe\">\n",
       "  <thead>\n",
       "    <tr style=\"text-align: right;\">\n",
       "      <th></th>\n",
       "      <th>RMSE_train</th>\n",
       "      <th>RMSE_test</th>\n",
       "      <th>R2_train</th>\n",
       "      <th>R2_test</th>\n",
       "      <th>TIME</th>\n",
       "    </tr>\n",
       "  </thead>\n",
       "  <tbody>\n",
       "    <tr>\n",
       "      <th>valeur</th>\n",
       "      <td>17.61</td>\n",
       "      <td>46.32</td>\n",
       "      <td>0.91</td>\n",
       "      <td>0.44</td>\n",
       "      <td>(0.0, 34.351598)</td>\n",
       "    </tr>\n",
       "  </tbody>\n",
       "</table>\n",
       "</div>"
      ],
      "text/plain": [
       "        RMSE_train  RMSE_test  R2_train  R2_test              TIME\n",
       "valeur       17.61      46.32      0.91     0.44  (0.0, 34.351598)"
      ]
     },
     "metadata": {},
     "output_type": "display_data"
    }
   ],
   "source": [
    "start_time = datetime.datetime.now()\n",
    "\n",
    "cv_rfr_params = {'n_estimators':[5,10,20,30,40,50],'max_depth':[20,50,70,100,150,300]}\n",
    "\n",
    "cv_rfr = GridSearchCV(RandomForestRegressor(), cv_rfr_params, cv=5, scoring='neg_root_mean_squared_error')\n",
    "\n",
    "cv_rfr.fit(X_train_std_2, y_train)\n",
    "\n",
    "rfr = RandomForestRegressor(n_estimators = cv_rfr.best_params_['n_estimators'], max_depth = cv_rfr.best_params_['max_depth'])\n",
    "\n",
    "rfr.fit(X_train_std_2, y_train)\n",
    "y_pred_train_rfr, y_pred_test_rfr = rfr.predict(X_train_std_2), rfr.predict(X_test_std_2)\n",
    "\n",
    "end_time = datetime.datetime.now()\n",
    "\n",
    "time_rfr = get_time(start_time, end_time)\n",
    "show_metric(y_pred_train_rfr, y_train, y_pred_test_rfr, y_test, time_rfr)"
   ]
  },
  {
   "cell_type": "code",
   "execution_count": 585,
   "id": "fe67db07",
   "metadata": {},
   "outputs": [
    {
     "data": {
      "text/plain": [
       "{'max_depth': 50, 'n_estimators': 50}"
      ]
     },
     "execution_count": 585,
     "metadata": {},
     "output_type": "execute_result"
    }
   ],
   "source": [
    "cv_rfr.best_params_"
   ]
  },
  {
   "cell_type": "code",
   "execution_count": 586,
   "id": "d06de65d",
   "metadata": {},
   "outputs": [
    {
     "data": {
      "text/plain": [
       "-46.78850011006437"
      ]
     },
     "execution_count": 586,
     "metadata": {},
     "output_type": "execute_result"
    }
   ],
   "source": [
    "cv_rfr.best_score_"
   ]
  },
  {
   "cell_type": "code",
   "execution_count": null,
   "id": "8ff49a8b",
   "metadata": {},
   "outputs": [],
   "source": [
    "# model_vs_real(y_pred_train_rfr, y_train)"
   ]
  },
  {
   "cell_type": "markdown",
   "id": "44fd1fc7",
   "metadata": {},
   "source": [
    "# <p style='text-align:center'> ADABOOST </p>"
   ]
  },
  {
   "cell_type": "code",
   "execution_count": 587,
   "id": "457c9104",
   "metadata": {},
   "outputs": [
    {
     "name": "stdout",
     "output_type": "stream",
     "text": [
      "(1873, 37) (924, 37)\n"
     ]
    }
   ],
   "source": [
    "ada_0 = AdaBoostRegressor(base_estimator = DecisionTreeRegressor(), loss='linear', learning_rate = 0.5 , n_estimators = 60)\n",
    "\n",
    "model = ada_0.fit(X_train_std, y_train)\n",
    "\n",
    "pred = ada_0.predict(X_test_std)\n",
    "\n",
    "from sklearn.feature_selection import SelectFromModel\n",
    "\n",
    "select = SelectFromModel(ada_0, prefit=True, threshold=0.003)\n",
    "\n",
    "X_train_std_2 = select.transform(X_train_std)\n",
    "X_test_std_2 = select.transform(X_test_std)\n",
    "\n",
    "print(X_train_std_2.shape,X_test_std_2.shape)"
   ]
  },
  {
   "cell_type": "code",
   "execution_count": 588,
   "id": "d0cc3a25",
   "metadata": {},
   "outputs": [
    {
     "data": {
      "text/html": [
       "<div>\n",
       "<style scoped>\n",
       "    .dataframe tbody tr th:only-of-type {\n",
       "        vertical-align: middle;\n",
       "    }\n",
       "\n",
       "    .dataframe tbody tr th {\n",
       "        vertical-align: top;\n",
       "    }\n",
       "\n",
       "    .dataframe thead th {\n",
       "        text-align: right;\n",
       "    }\n",
       "</style>\n",
       "<table border=\"1\" class=\"dataframe\">\n",
       "  <thead>\n",
       "    <tr style=\"text-align: right;\">\n",
       "      <th></th>\n",
       "      <th>RMSE_train</th>\n",
       "      <th>RMSE_test</th>\n",
       "      <th>R2_train</th>\n",
       "      <th>R2_test</th>\n",
       "      <th>TIME</th>\n",
       "    </tr>\n",
       "  </thead>\n",
       "  <tbody>\n",
       "    <tr>\n",
       "      <th>valeur</th>\n",
       "      <td>18.62</td>\n",
       "      <td>47.36</td>\n",
       "      <td>0.9</td>\n",
       "      <td>0.41</td>\n",
       "      <td>(0.0, 41.403145)</td>\n",
       "    </tr>\n",
       "  </tbody>\n",
       "</table>\n",
       "</div>"
      ],
      "text/plain": [
       "        RMSE_train  RMSE_test  R2_train  R2_test              TIME\n",
       "valeur       18.62      47.36       0.9     0.41  (0.0, 41.403145)"
      ]
     },
     "metadata": {},
     "output_type": "display_data"
    }
   ],
   "source": [
    "start_time = datetime.datetime.now()\n",
    "\n",
    "cv_ada_params = {'n_estimators':[200,500],'learning_rate':[1.5,2]}\n",
    "\n",
    "cv_ada = GridSearchCV(AdaBoostRegressor(base_estimator = DecisionTreeRegressor(max_depth=15), loss = 'linear'), cv_ada_params, cv=5, scoring='neg_root_mean_squared_error')\n",
    "\n",
    "cv_ada.fit(X_train_std_2, y_train)\n",
    "\n",
    "\n",
    "ada = AdaBoostRegressor(base_estimator = DecisionTreeRegressor(max_depth=15), loss='linear', learning_rate = cv_ada.best_params_['learning_rate'] , n_estimators = cv_ada.best_params_['n_estimators'])\n",
    "ada.fit(X_train_std_2, y_train)\n",
    "y_pred_train_ada, y_pred_test_ada= ada.predict(X_train_std_2), ada.predict(X_test_std_2)\n",
    "\n",
    "end_time = datetime.datetime.now()\n",
    "\n",
    "time_ada= get_time(start_time, end_time)\n",
    "show_metric(y_pred_train_ada, y_train, y_pred_test_ada, y_test, time_ada)"
   ]
  },
  {
   "cell_type": "code",
   "execution_count": 589,
   "id": "5dd8765c",
   "metadata": {},
   "outputs": [
    {
     "data": {
      "text/plain": [
       "{'learning_rate': 2, 'n_estimators': 200}"
      ]
     },
     "execution_count": 589,
     "metadata": {},
     "output_type": "execute_result"
    }
   ],
   "source": [
    "cv_ada.best_params_"
   ]
  },
  {
   "cell_type": "code",
   "execution_count": 590,
   "id": "86696cef",
   "metadata": {},
   "outputs": [
    {
     "data": {
      "text/plain": [
       "-47.85863876324059"
      ]
     },
     "execution_count": 590,
     "metadata": {},
     "output_type": "execute_result"
    }
   ],
   "source": [
    "cv_ada.best_score_"
   ]
  },
  {
   "cell_type": "code",
   "execution_count": 591,
   "id": "bdf82d2b",
   "metadata": {},
   "outputs": [],
   "source": [
    "# squared_error(y_pred_test_ada, y_test)"
   ]
  },
  {
   "cell_type": "code",
   "execution_count": 813,
   "id": "11fd4124",
   "metadata": {},
   "outputs": [],
   "source": [
    "# model_vs_real(y_pred_test_ada, y_test)"
   ]
  },
  {
   "cell_type": "markdown",
   "id": "44d3fdbd",
   "metadata": {},
   "source": [
    "# <p style='text-align:center'> Lancement automatique </p>"
   ]
  },
  {
   "cell_type": "code",
   "execution_count": 516,
   "id": "2e39ba3d",
   "metadata": {},
   "outputs": [
    {
     "name": "stdout",
     "output_type": "stream",
     "text": [
      "2c\n"
     ]
    }
   ],
   "source": [
    "explained_variable = \"ghg_emission\"\n",
    "for strategy in [1, 2, \"1b\", \"1c\", \"2b\",\"2c\"]:\n",
    "    clear_output()\n",
    "    print(strategy)\n",
    "    bench = pd.read_excel(\"benchmark_cleaned.xlsx\")\n",
    "    bench = preprocessing(bench, var_log=True)\n",
    "    if (strategy == \"1c\") | (strategy == \"2c\"):\n",
    "        bench = bench[~bench[explained_variable].isna()]\n",
    "    X, X_before_encoding = explanatory_variables(bench, strategy, [])\n",
    "    y = explained_variable(bench, explained_variable, 'brut')\n",
    "    X_train, X_test, y_train, y_test = train_test_split(X, y, test_size=0.33, random_state=79)\n",
    "    X_train_std, X_test_std = standardize(X_train, X_test, y_train, y_test, X_before_encoding.shape[1])\n",
    "\n",
    "    # Regression Linéaire simple\n",
    "    \n",
    "    start_time = datetime.datetime.now()\n",
    "\n",
    "    reg = LinearRegression()\n",
    "    reg.fit(X_train_std, y_train)\n",
    "    y_pred_train_simple, y_pred_test_simple  = reg.predict(X_train_std), reg.predict(X_test_std)\n",
    "\n",
    "    end_time = datetime.datetime.now()\n",
    "\n",
    "    time_simple= get_time(start_time, end_time)\n",
    "    \n",
    "    train_error_simple, test_error_simple, train_r2_simple, test_r2_simple, time_simple = show_metric(y_pred_train_simple, y_train, y_pred_test_simple, y_test, time_simple, disp=False)\n",
    "    \n",
    "    # Regression linéaire Ridge\n",
    "\n",
    "    start_time = datetime.datetime.now()\n",
    "\n",
    "    cv_ridge = GridSearchCV(Ridge(),{'alpha':[1,3,4,5,7,9,11]},cv=5,scoring='neg_root_mean_squared_error')\n",
    "    cv_ridge.fit(X_train_std, y_train)\n",
    "\n",
    "    ridge = Ridge(alpha=cv_ridge.best_params_['alpha'])\n",
    "    ridge.fit(X_train_std, y_train)\n",
    "    y_pred_train_ridge, y_pred_test_ridge = ridge.predict(X_train_std), ridge.predict(X_test_std)\n",
    "\n",
    "    end_time = datetime.datetime.now()\n",
    "\n",
    "    time_ridge = get_time(start_time, end_time)\n",
    "\n",
    "    train_error_ridge, test_error_ridge, train_r2_ridge, test_r2_ridge, time_ridge = show_metric(y_pred_train_ridge, y_train, y_pred_test_ridge, y_test, time_ridge, disp = False)\n",
    "\n",
    "    # Regression linéaire Lasso\n",
    "\n",
    "    start_time = datetime.datetime.now()\n",
    "\n",
    "    cv_lasso = GridSearchCV(Lasso(fit_intercept=True),{'alpha':[1300,1350,1400]},cv=5,scoring='neg_root_mean_squared_error')\n",
    "    cv_lasso.fit(X_train_std, y_train)\n",
    "\n",
    "    lasso = Lasso(alpha=cv_lasso.best_params_['alpha'], fit_intercept=True)\n",
    "    lasso.fit(X_train_std, y_train)\n",
    "    y_pred_train_lasso, y_pred_test_lasso = lasso.predict(X_train_std), lasso.predict(X_test_std)\n",
    "\n",
    "    end_time = datetime.datetime.now()\n",
    "\n",
    "    time_lasso = get_time(start_time, end_time)  \n",
    "    \n",
    "    train_error_lasso,  test_error_lasso, train_r2_lasso, test_r2_lasso, time_lasso = show_metric(y_pred_train_lasso, y_train, y_pred_test_lasso, y_test, time_lasso, disp = False)\n",
    "\n",
    "    # Regression linéaire Elastic Net\n",
    "\n",
    "    start_time = datetime.datetime.now()\n",
    "\n",
    "    cv_elastic = GridSearchCV(ElasticNet(),{'alpha':[0.0001,0.001, 0.1, 1, 10],'l1_ratio':[0.00001,0.0001,0.001, 0.01, 0.1, 1]},cv=5,scoring='neg_root_mean_squared_error')\n",
    "    cv_elastic.fit(X_train_std, y_train)\n",
    "\n",
    "    elastic = ElasticNet(alpha=cv_elastic.best_params_['alpha'],l1_ratio=cv_elastic.best_params_['l1_ratio'],random_state=0)\n",
    "\n",
    "    elastic.fit(X_train_std, y_train)\n",
    "    y_pred_train_elastic, y_pred_test_elastic = elastic.predict(X_train_std), elastic.predict(X_test_std)\n",
    "\n",
    "    end_time = datetime.datetime.now()\n",
    "\n",
    "    time_elastic = get_time(start_time, end_time)\n",
    "    train_error_elastic, test_error_elastic, train_r2_elastic, test_r2_elastic, time_elastic = show_metric(y_pred_train_elastic, y_train, y_pred_test_elastic, y_test, time_elastic, disp = False)\n",
    "\n",
    "    # MLP Regressor\n",
    "   \n",
    "    start_time = datetime.datetime.now()\n",
    "\n",
    "    cv_mlp = GridSearchCV(MLPRegressor(solver = 'lbfgs', max_iter = 500, early_stopping = True, learning_rate='adaptive'),\n",
    "                       {'hidden_layer_sizes':[30,40,50,60,80]\n",
    "                       },\n",
    "                       cv=5,\n",
    "                       scoring='neg_root_mean_squared_error')\n",
    "\n",
    "    cv_mlp.fit(X_train_std, y_train)\n",
    "\n",
    "    regr = MLPRegressor(solver = 'lbfgs', hidden_layer_sizes = cv_mlp.best_params_['hidden_layer_sizes'],\n",
    "                        max_iter = 500,\n",
    "                       early_stopping = True,\n",
    "                       learning_rate='adaptive').fit(X_train_std, y_train)\n",
    "    y_pred_train_mlp, y_pred_test_mlp = regr.predict(X_train_std), regr.predict(X_test_std)\n",
    "\n",
    "    end_time = datetime.datetime.now()\n",
    "\n",
    "    time_mlp= get_time(start_time, end_time)\n",
    "    \n",
    "    train_error_mlp, test_error_mlp, train_r2_mlp, test_r2_mlp , time_mlp = show_metric(y_pred_train_mlp, y_train, y_pred_test_mlp, y_test, time_mlp, disp = False)\n",
    "\n",
    "    # Support Vector Regressor\n",
    "    \n",
    "    start_time = datetime.datetime.now()\n",
    "\n",
    "    cv_svr = GridSearchCV(SVR(kernel = 'linear'),\n",
    "                       {'C' : [10000,100000,1000000], \"degree\" : [1]},\n",
    "                       cv=5,\n",
    "                       scoring='neg_root_mean_squared_error')\n",
    "\n",
    "    cv_svr.fit(X_train_std, y_train)\n",
    "\n",
    "    svr = SVR(kernel = 'linear', C=cv_svr.best_params_[\"C\"], degree = cv_svr.best_params_[\"degree\"])\n",
    "    svr.fit(X_train_std, y_train)\n",
    "    y_pred_train_svr, y_pred_test_svr = svr.predict(X_train_std), svr.predict(X_test_std)\n",
    "\n",
    "    end_time = datetime.datetime.now()\n",
    "    \n",
    "    time_svr = get_time(start_time, end_time)\n",
    "    \n",
    "    train_error_svr, test_error_svr, train_r2_svr, test_r2_svr, time_svr =  show_metric(y_pred_train_svr, y_train, y_pred_test_svr, y_test, time_svr, disp = False)\n",
    "\n",
    "    \n",
    "    # Random Forest Regressor\n",
    "    \n",
    "    rfr_0 = RandomForestRegressor(n_estimators=40)\n",
    "\n",
    "    model = rfr_0.fit(X_train_std, y_train)\n",
    "\n",
    "    pred = rfr_0.predict(X_test_std)\n",
    "\n",
    "    from sklearn.feature_selection import SelectFromModel\n",
    "\n",
    "    select = SelectFromModel(rfr_0, prefit=True, threshold=0.003)\n",
    "\n",
    "    X_train_std_2 = select.transform(X_train_std)\n",
    "    X_test_std_2 = select.transform(X_test_std)\n",
    "\n",
    "    start_time = datetime.datetime.now()\n",
    "\n",
    "    cv_rfr = GridSearchCV(RandomForestRegressor(),\n",
    "                       {'n_estimators':[5,10,20,30,40,50],\n",
    "                       'max_depth':[20,50,70,100,150,300],\n",
    "                       },\n",
    "                       cv=5,\n",
    "                       scoring='neg_mean_squared_error')\n",
    "\n",
    "    cv_rfr.fit(X_train_std, y_train)\n",
    "\n",
    "    rfr = RandomForestRegressor(n_estimators = cv_rfr.best_params_['n_estimators'], \n",
    "                                max_depth = cv_rfr.best_params_['max_depth'])\n",
    "\n",
    "    rfr.fit(X_train_std_2, y_train)\n",
    "    y_pred_train_rfr, y_pred_test_rfr = rfr.predict(X_train_std_2), rfr.predict(X_test_std_2)\n",
    "\n",
    "    end_time = datetime.datetime.now()\n",
    "\n",
    "    time_rfr = get_time(start_time, end_time)\n",
    "    \n",
    "    train_error_rfr, test_error_rfr, train_r2_rfr, test_r2_rfr, time_rfr = show_metric(y_pred_train_rfr, y_train, y_pred_test_rfr, y_test, time_rfr, disp = False)\n",
    "    \n",
    "    # AdaBoost Regressor\n",
    "    \n",
    "    ada_0 = AdaBoostRegressor(base_estimator = DecisionTreeRegressor(), loss='linear', learning_rate = 0.5 , n_estimators = 60)\n",
    "\n",
    "    model = ada_0.fit(X_train_std, y_train)\n",
    "\n",
    "    pred = ada_0.predict(X_test_std)\n",
    "\n",
    "    from sklearn.feature_selection import SelectFromModel\n",
    "\n",
    "    select = SelectFromModel(ada_0, prefit=True, threshold=0.003)\n",
    "\n",
    "    X_train_std_2 = select.transform(X_train_std)\n",
    "    X_test_std_2 = select.transform(X_test_std)\n",
    "\n",
    "    start_time = datetime.datetime.now()\n",
    "\n",
    "    cv_ada = GridSearchCV(AdaBoostRegressor(base_estimator = DecisionTreeRegressor()),\n",
    "                       {'n_estimators':[200,500],\n",
    "                        'learning_rate':[1.5,2],\n",
    "                       },\n",
    "                       cv=5,\n",
    "                       scoring='neg_mean_squared_error')\n",
    "\n",
    "    cv_ada.fit(X_train_std_2, y_train)\n",
    "\n",
    "\n",
    "    ada = AdaBoostRegressor(DecisionTreeRegressor(), learning_rate = cv_ada.best_params_['learning_rate'] , n_estimators = cv_ada.best_params_['n_estimators'])\n",
    "    ada.fit(X_train_std_2, y_train)\n",
    "    y_pred_train_ada, y_pred_test_ada= ada.predict(X_train_std_2), ada.predict(X_test_std_2)\n",
    "\n",
    "    end_time = datetime.datetime.now()\n",
    "\n",
    "    time_ada= get_time(start_time, end_time)\n",
    "    \n",
    "    train_error_ada, test_error_ada, train_r2_ada, test_r2_ada, time_ada = show_metric(y_pred_train_ada, y_train, y_pred_test_ada, y_test, time_ada, disp = False)\n",
    "    \n",
    "    # Dummy Regressor\n",
    "\n",
    "    start_time = datetime.datetime.now()\n",
    "    \n",
    "    dum = dummy.DummyRegressor(strategy='mean')\n",
    "    dum.fit(X_train_std, y_train)\n",
    "    y_pred_train_dummy, y_pred_test_dummy = dum.predict(X_train_std), dum.predict(X_test_std)\n",
    "    end_time = datetime.datetime.now()\n",
    "    time_dummy = get_time(start_time, end_time)\n",
    "    train_error_dummy, test_error_dummy, train_r2_dummy, test_r2_dummy, time_dummy = show_metric(y_pred_train_dummy, y_train, y_pred_test_dummy, y_test, time_dummy, disp = False)\n",
    "\n",
    "    results = {'Regression simple':(train_error_simple,test_error_simple,train_r2_simple,test_r2_simple,time_simple),\n",
    "              'Regression Ridge':(train_error_ridge,test_error_ridge,train_r2_ridge,test_r2_ridge,time_ridge),\n",
    "              'Regression Lasso':(train_error_lasso,test_error_lasso,train_r2_lasso,test_r2_lasso,time_lasso),\n",
    "              'Regression Elastic Net':(train_error_elastic,test_error_elastic,train_r2_elastic,test_r2_elastic,time_elastic),\n",
    "              'Linear SVR':(train_error_svr,test_error_svr,train_r2_svr,test_r2_svr,time_svr),\n",
    "              'MLP Regression': (train_error_mlp,test_error_mlp,train_r2_mlp,test_r2_mlp,time_mlp),\n",
    "              'Dummy (MEAN)':(train_error_dummy,test_error_dummy,train_r2_dummy,test_r2_dummy,time_dummy),\n",
    "              'ADA':(train_error_ada,test_error_ada,train_r2_ada,test_r2_ada,time_ada),\n",
    "              'Random Forest':(train_error_rfr,test_error_rfr,train_r2_rfr,test_r2_rfr,time_rfr)}\n",
    "    res = save_results(results,strategy)"
   ]
  },
  {
   "cell_type": "code",
   "execution_count": 592,
   "id": "c62705f6",
   "metadata": {},
   "outputs": [
    {
     "data": {
      "text/html": [
       "<div>\n",
       "<style scoped>\n",
       "    .dataframe tbody tr th:only-of-type {\n",
       "        vertical-align: middle;\n",
       "    }\n",
       "\n",
       "    .dataframe tbody tr th {\n",
       "        vertical-align: top;\n",
       "    }\n",
       "\n",
       "    .dataframe thead th {\n",
       "        text-align: right;\n",
       "    }\n",
       "</style>\n",
       "<table border=\"1\" class=\"dataframe\">\n",
       "  <thead>\n",
       "    <tr style=\"text-align: right;\">\n",
       "      <th></th>\n",
       "      <th></th>\n",
       "      <th>Regression simple</th>\n",
       "      <th>Regression Ridge</th>\n",
       "      <th>Regression Lasso</th>\n",
       "      <th>Regression Elastic Net</th>\n",
       "      <th>Linear SVR</th>\n",
       "      <th>MLP Regression</th>\n",
       "      <th>Dummy (MEAN)</th>\n",
       "      <th>ADA</th>\n",
       "      <th>Random Forest</th>\n",
       "    </tr>\n",
       "    <tr>\n",
       "      <th>strategy</th>\n",
       "      <th>score</th>\n",
       "      <th></th>\n",
       "      <th></th>\n",
       "      <th></th>\n",
       "      <th></th>\n",
       "      <th></th>\n",
       "      <th></th>\n",
       "      <th></th>\n",
       "      <th></th>\n",
       "      <th></th>\n",
       "    </tr>\n",
       "  </thead>\n",
       "  <tbody>\n",
       "    <tr>\n",
       "      <th>strategy1</th>\n",
       "      <th>test_r2</th>\n",
       "      <td>-5.52e+19</td>\n",
       "      <td>0.66</td>\n",
       "      <td>0.67</td>\n",
       "      <td>0.67</td>\n",
       "      <td>0.66</td>\n",
       "      <td>0.51</td>\n",
       "      <td>-1.78e-04</td>\n",
       "      <td>0.68</td>\n",
       "      <td>0.68</td>\n",
       "    </tr>\n",
       "    <tr>\n",
       "      <th>strategy1b</th>\n",
       "      <th>test_r2</th>\n",
       "      <td>-5.52e+19</td>\n",
       "      <td>0.66</td>\n",
       "      <td>0.67</td>\n",
       "      <td>0.67</td>\n",
       "      <td>0.66</td>\n",
       "      <td>0.55</td>\n",
       "      <td>-1.78e-04</td>\n",
       "      <td>0.68</td>\n",
       "      <td>0.68</td>\n",
       "    </tr>\n",
       "    <tr>\n",
       "      <th>strategy1c</th>\n",
       "      <th>test_r2</th>\n",
       "      <td>7.57e-01</td>\n",
       "      <td>0.76</td>\n",
       "      <td>0.76</td>\n",
       "      <td>0.76</td>\n",
       "      <td>0.73</td>\n",
       "      <td>0.55</td>\n",
       "      <td>-2.33e-03</td>\n",
       "      <td>0.78</td>\n",
       "      <td>0.79</td>\n",
       "    </tr>\n",
       "    <tr>\n",
       "      <th>strategy2</th>\n",
       "      <th>test_r2</th>\n",
       "      <td>-1.41e+21</td>\n",
       "      <td>0.67</td>\n",
       "      <td>0.68</td>\n",
       "      <td>0.67</td>\n",
       "      <td>0.66</td>\n",
       "      <td>0.61</td>\n",
       "      <td>-1.78e-04</td>\n",
       "      <td>0.69</td>\n",
       "      <td>0.67</td>\n",
       "    </tr>\n",
       "    <tr>\n",
       "      <th>strategy2b</th>\n",
       "      <th>test_r2</th>\n",
       "      <td>-1.41e+21</td>\n",
       "      <td>0.67</td>\n",
       "      <td>0.68</td>\n",
       "      <td>0.67</td>\n",
       "      <td>0.66</td>\n",
       "      <td>0.55</td>\n",
       "      <td>-1.78e-04</td>\n",
       "      <td>0.69</td>\n",
       "      <td>0.68</td>\n",
       "    </tr>\n",
       "    <tr>\n",
       "      <th>strategy2c</th>\n",
       "      <th>test_r2</th>\n",
       "      <td>-2.67e+22</td>\n",
       "      <td>0.77</td>\n",
       "      <td>0.77</td>\n",
       "      <td>0.77</td>\n",
       "      <td>0.73</td>\n",
       "      <td>0.59</td>\n",
       "      <td>-2.33e-03</td>\n",
       "      <td>0.80</td>\n",
       "      <td>0.79</td>\n",
       "    </tr>\n",
       "  </tbody>\n",
       "</table>\n",
       "</div>"
      ],
      "text/plain": [
       "                    Regression simple  Regression Ridge  Regression Lasso  \\\n",
       "strategy   score                                                            \n",
       "strategy1  test_r2          -5.52e+19              0.66              0.67   \n",
       "strategy1b test_r2          -5.52e+19              0.66              0.67   \n",
       "strategy1c test_r2           7.57e-01              0.76              0.76   \n",
       "strategy2  test_r2          -1.41e+21              0.67              0.68   \n",
       "strategy2b test_r2          -1.41e+21              0.67              0.68   \n",
       "strategy2c test_r2          -2.67e+22              0.77              0.77   \n",
       "\n",
       "                    Regression Elastic Net  Linear SVR  MLP Regression  \\\n",
       "strategy   score                                                         \n",
       "strategy1  test_r2                    0.67        0.66            0.51   \n",
       "strategy1b test_r2                    0.67        0.66            0.55   \n",
       "strategy1c test_r2                    0.76        0.73            0.55   \n",
       "strategy2  test_r2                    0.67        0.66            0.61   \n",
       "strategy2b test_r2                    0.67        0.66            0.55   \n",
       "strategy2c test_r2                    0.77        0.73            0.59   \n",
       "\n",
       "                    Dummy (MEAN)   ADA  Random Forest  \n",
       "strategy   score                                       \n",
       "strategy1  test_r2     -1.78e-04  0.68           0.68  \n",
       "strategy1b test_r2     -1.78e-04  0.68           0.68  \n",
       "strategy1c test_r2     -2.33e-03  0.78           0.79  \n",
       "strategy2  test_r2     -1.78e-04  0.69           0.67  \n",
       "strategy2b test_r2     -1.78e-04  0.69           0.68  \n",
       "strategy2c test_r2     -2.33e-03  0.80           0.79  "
      ]
     },
     "execution_count": 592,
     "metadata": {},
     "output_type": "execute_result"
    }
   ],
   "source": [
    "show_results('r2', [\"test\"])"
   ]
  },
  {
   "cell_type": "code",
   "execution_count": 514,
   "id": "84faf182",
   "metadata": {},
   "outputs": [],
   "source": [
    "reinitialize_result(liste_model)"
   ]
  },
  {
   "cell_type": "code",
   "execution_count": null,
   "id": "90663fe7",
   "metadata": {},
   "outputs": [],
   "source": []
  }
 ],
 "metadata": {
  "kernelspec": {
   "display_name": "Python 3 (ipykernel)",
   "language": "python",
   "name": "python3"
  },
  "language_info": {
   "codemirror_mode": {
    "name": "ipython",
    "version": 3
   },
   "file_extension": ".py",
   "mimetype": "text/x-python",
   "name": "python",
   "nbconvert_exporter": "python",
   "pygments_lexer": "ipython3",
   "version": "3.10.4"
  }
 },
 "nbformat": 4,
 "nbformat_minor": 5
}
