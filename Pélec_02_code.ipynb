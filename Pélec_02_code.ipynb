{
 "cells": [
  {
   "cell_type": "code",
   "execution_count": 2,
   "id": "2f4e0c05",
   "metadata": {},
   "outputs": [],
   "source": [
    "import pandas as pd\n",
    "pd.set_option('display.max_columns',None)\n",
    "pd.set_option('display.max_rows',None)\n",
    "pd.set_option(\"display.precision\",3)"
   ]
  },
  {
   "cell_type": "code",
   "execution_count": 3,
   "id": "b914e29f",
   "metadata": {},
   "outputs": [],
   "source": [
    "import numpy as np"
   ]
  },
  {
   "cell_type": "code",
   "execution_count": 4,
   "id": "5b1cf97f",
   "metadata": {},
   "outputs": [],
   "source": [
    "import matplotlib.pyplot as plt, seaborn as sns"
   ]
  },
  {
   "cell_type": "code",
   "execution_count": 5,
   "id": "6cc30959",
   "metadata": {},
   "outputs": [],
   "source": [
    "from sklearn.model_selection import train_test_split, GridSearchCV\n",
    "from sklearn.preprocessing import StandardScaler, OneHotEncoder\n",
    "from sklearn.metrics import mean_squared_error, r2_score, make_scorer\n",
    "from sklearn.linear_model import LinearRegression, Ridge, Lasso, ElasticNet\n",
    "from sklearn.svm import SVR\n",
    "from sklearn.neural_network import MLPRegressor\n",
    "from sklearn.ensemble import RandomForestRegressor, AdaBoostRegressor \n",
    "from sklearn.tree import DecisionTreeRegressor\n",
    "from sklearn import dummy"
   ]
  },
  {
   "cell_type": "code",
   "execution_count": 6,
   "id": "b6e3e261",
   "metadata": {},
   "outputs": [],
   "source": [
    "import datetime"
   ]
  },
  {
   "cell_type": "code",
   "execution_count": 7,
   "id": "837d0bb4",
   "metadata": {},
   "outputs": [],
   "source": [
    "from IPython.display import clear_output"
   ]
  },
  {
   "cell_type": "code",
   "execution_count": 8,
   "id": "2a98a243",
   "metadata": {},
   "outputs": [],
   "source": [
    "import warnings\n",
    "warnings.simplefilter('ignore')"
   ]
  },
  {
   "cell_type": "code",
   "execution_count": 9,
   "id": "5402ba57",
   "metadata": {},
   "outputs": [],
   "source": [
    "import timeit\n",
    "\n",
    "start_time = timeit.default_timer()\n",
    "a = 0\n",
    "elapsed = timeit.default_timer() - start_time\n",
    "\n",
    "# print(\"time {:.2f}s\".format(elapsed))\n",
    "# print(elapsed)"
   ]
  },
  {
   "cell_type": "markdown",
   "id": "c0e2d770",
   "metadata": {},
   "source": [
    "# <p style='text-align:center'>Fonctions</p>"
   ]
  },
  {
   "cell_type": "code",
   "execution_count": 105,
   "id": "b9f930ce",
   "metadata": {},
   "outputs": [],
   "source": [
    "def preprocessing(bench, var_log):    \n",
    "    if (var_log):\n",
    "        bench['total_gfa'] = bench['total_gfa'].apply(lambda x : np.log(x) if x!=0 else 0)\n",
    "        bench['building_gfa'] = bench['building_gfa'].apply(lambda x : np.log(x) if x!=0 else 0)\n",
    "        bench['parking_gfa'] = bench['parking_gfa'].apply(lambda x : np.log(x) if x!=0 else 0)\n",
    "        bench['lput_gfa'] = bench['lput_gfa'].apply(lambda x : np.log(x) if x!=0 else 0)\n",
    "        bench['sput_gfa'] = bench['sput_gfa'].apply(lambda x : np.log(x) if x!=0 else 0)\n",
    "        bench['tput_gfa'] = bench['tput_gfa'].apply(lambda x : np.log(x) if x!=0 else 0)\n",
    "    return bench\n",
    "\n",
    "def explained_variable(bench, var_name, log):\n",
    "    y_brut = bench[var_name]\n",
    "    y_log = bench[var_name].apply(lambda x : np.log(x))\n",
    "    y = y_log if (log) else y_brut\n",
    "    return y\n",
    "\n",
    "def explanatory_variables_opt(bench, nrj_score):\n",
    "    if (nrj_score):\n",
    "        liste = ['age','nb','nf','building_gfa','parking_gfa','lput_gfa','sput_gfa','tput_gfa','energy_score']  \n",
    "    else :\n",
    "        liste = ['age','nb','nf','building_gfa','parking_gfa','lput_gfa','sput_gfa','tput_gfa']\n",
    "    listecat = ['district_code','type','lput','sput','tput']\n",
    "    X = bench[liste].values\n",
    "    X_before_encoding = X\n",
    "    enc = OneHotEncoder(handle_unknown='ignore')\n",
    "    for cat_var in listecat:\n",
    "        X_enc = enc.fit_transform(bench[cat_var].values.reshape(-1,1)).toarray()\n",
    "        X = np.concatenate((X, X_enc),axis=1)\n",
    "    return X, X_before_encoding\n",
    "\n",
    "def add_poly_var(df, var_name, expo_list):\n",
    "    names = [var_name + \"_\" + str(e) for e in expo_list]\n",
    "    for e in expo_list:\n",
    "        df[var_name + \"_\" + str(e)] = df[var_name]**e\n",
    "    return df, names\n",
    "\n",
    "def standardize(X_train, X_test, y_train, y_test, n):\n",
    "    scaler = StandardScaler()\n",
    "    scaler.fit(X_train[:,0:n])\n",
    "    X_train_std = np.concatenate((scaler.transform(X_train[:,0:n]) , X_train[:,n:]),axis=1)\n",
    "    X_test_std = np.concatenate((scaler.transform(X_test[:,0:n]) , X_test[:,n:]),axis=1)\n",
    "    return X_train_std, X_test_std\n",
    "\n",
    "def print_cv_results(clf):\n",
    "    for mean, std, params in zip(clf.cv_results_['mean_test_score'],clf.cv_results_['std_test_score'],clf.cv_results_['params']):\n",
    "        print(\"\\tneg_mean_squared_error = %0.3f (+/-%0.3f) for %s\" % (mean,std*2,params))\n",
    "\n",
    "def get_time(start_time, end_time):\n",
    "    m = (end_time - start_time).total_seconds()//60\n",
    "    s = (end_time - start_time).total_seconds() - m*60\n",
    "    return m,s\n",
    "\n",
    "def squared_error(y_pred, y_true):\n",
    "    y = (y_true - y_pred)**2\n",
    "    return np.sqrt(y.sort_values(ascending = False))\n",
    "\n",
    "def model_vs_real(y_pred, y_true, exp_variable):\n",
    "    if exp_variable == 'ghg_emission':\n",
    "        gap = 100\n",
    "    else:\n",
    "        gap = 2*10**6\n",
    "    fig, ax = plt.subplots(figsize=(15,15))\n",
    "    ax.scatter(y_pred, y_true, label = 'model vs real')\n",
    "    ax.plot(y_true, y_true, linestyle = '--', color = 'r', label = 'perfect model')\n",
    "    ax.plot(y_true , y_true + gap, linestyle = '--', color = 'y', label = '+2x10^6')\n",
    "    ax.plot(y_true , y_true - gap, linestyle = '--', color = 'y', label = '-2x10^6')\n",
    "    ax.set_xlabel(\"y_pred\")\n",
    "    ax.set_ylabel(\"y_true\")\n",
    "    ax.set_title('Model VS Real')\n",
    "    ax.legend()\n",
    "    plt.show()\n",
    "\n",
    "def boxplot(x):\n",
    "    fig, ax = plt.subplots(figsize=(15,15))\n",
    "    ax.boxplot(x, vert = False)\n",
    "    plt.show()\n",
    "\n",
    "def histogram( x):\n",
    "    fig, ax = plt.subplots(figsize=(9,9))\n",
    "    sns.set_theme(style=\"whitegrid\") \n",
    "    sns.histplot(x=x)\n",
    "    plt.show()\n",
    "\n",
    "def regularization_path(lambdas):\n",
    "    coeffs = []\n",
    "    for l in lambdas:\n",
    "        ridge = Ridge(alpha=l).fit(X_train_std, y_train)\n",
    "        coeffs.append([ridge.intercept_] + list(ridge.coef_))\n",
    "    coeff_lambdas = pd.DataFrame(coeffs,columns=[\"b_\" + str(i) for i in range(0,128)],index=lambdas)\n",
    "    fig, ax = plt.subplots(figsize=(15,15))\n",
    "    #[100,68,34,112,122,83,95,54,94,38,95,127,126,53,45,25,36,102,108]\n",
    "    for i in range(20):\n",
    "        idx = np.random.randint(0,128)\n",
    "        ax.plot(coeff_lambdas.index, coeff_lambdas.iloc[:,idx], label = 'beta_'+str(idx))\n",
    "    plt.legend()\n",
    "    ax.set_title('Chemins de régularisation',fontsize=18)\n",
    "    ax.set_xscale('log')\n",
    "    ax.invert_xaxis()\n",
    "    plt.show()\n",
    "\n",
    "def save_results(d,strategy):\n",
    "    res = pd.read_csv(\"model_resultats.csv\",sep=';')\n",
    "    train_data=[\"strategy\"+str(strategy),\"train_rmse\"]\n",
    "    test_data=[\"strategy\"+str(strategy),\"test_rmse\"]\n",
    "    train_r2_data=[\"strategy\"+str(strategy),\"train_r2\"]\n",
    "    test_r2_data=[\"strategy\"+str(strategy),\"test_r2\"]\n",
    "    time_data=[\"strategy\"+str(strategy),\"train_time\"]\n",
    "    col=[\"strategy\",\"score\"]+list(d.keys())\n",
    "    for key in d.keys():\n",
    "        train_data.append(d[key][0])\n",
    "        test_data.append(d[key][1])\n",
    "        train_r2_data.append(d[key][2])\n",
    "        test_r2_data.append(d[key][3])\n",
    "        time_data.append(d[key][4])\n",
    "    new_lines = pd.DataFrame(data=[train_data,test_data,train_r2_data,test_r2_data,time_data],columns=col)\n",
    "    res=res.append(new_lines).reset_index(drop=True)\n",
    "    res = res.drop_duplicates([\"strategy\",\"score\"])\n",
    "    res.to_csv(\"model_resultats.csv\",sep=';',index=False)\n",
    "    return res\n",
    "\n",
    "def show_metric(y_pred_train, y_train, y_pred_test, y_test, time, log=False , disp = True):\n",
    "    if (log) :\n",
    "        y_train = [np.exp(x) for x in y_train]\n",
    "        y_test = [np.exp(x) for x in y_test]\n",
    "    train_error = mean_squared_error(y_pred_train,y_train,squared=False)\n",
    "    test_error = mean_squared_error(y_pred_test,y_test,squared=False)\n",
    "    train_r2 = r2_score(y_train,y_pred_train)\n",
    "    test_r2 = r2_score(y_test,y_pred_test)\n",
    "    met = pd.DataFrame(data = [[train_error, test_error, train_r2, test_r2, time]], columns = [\"RMSE_train\",\"RMSE_test\",\"R2_train\",\"R2_test\",\"TIME\"], index=[\"valeur\"])\n",
    "    if disp :\n",
    "        display(met)\n",
    "    else :\n",
    "        return train_error, test_error, train_r2, test_r2, time\n",
    "\n",
    "def reinitialize_result(liste_model):\n",
    "    pd.DataFrame(columns=[\"strategy\", \"score\"] + liste_model).to_csv(\"model_resultats.csv\",sep=';',index=False)\n",
    "\n",
    "def show_results(score,typ):\n",
    "    res = pd.read_csv(\"model_resultats.csv\",sep=';')\n",
    "    if len(typ)==1:\n",
    "        res=res[res[\"score\"].str.contains(typ[0])]\n",
    "    elif len(typ)==2:\n",
    "        res=res[(res[\"score\"].str.contains(typ[0]))|(res[\"score\"].str.contains(typ[1]))]\n",
    "    else:\n",
    "        raise ValueError('length of typ must be less than 2')\n",
    "    res_final = res[res[\"score\"].str.contains(score)].sort_values(\"strategy\").set_index([\"strategy\",\"score\"])\n",
    "    for col in liste_model:\n",
    "        res_final[col] = res_final[col].apply(float)    \n",
    "    return res_final\n",
    "\n",
    "def adjusted_r2(y, y_pred,n,p):\n",
    "#     adjusted_r2_scorer = make_scorer(adjusted_r2,n=X.shape[0],p=X.shape[1])\n",
    "    return 1-(1-r2_score(y, y_pred))*((n-1)/(n-p))"
   ]
  },
  {
   "cell_type": "markdown",
   "id": "bb513588",
   "metadata": {},
   "source": [
    "# <p style='text-align:center'>Paramètres</p>"
   ]
  },
  {
   "cell_type": "code",
   "execution_count": 150,
   "id": "63d2573f",
   "metadata": {},
   "outputs": [],
   "source": [
    "nrj_score = False\n",
    "log = False\n",
    "var_log = False\n",
    "liste_model = ['Regression simple', 'Regression Ridge', 'Regression Lasso', 'Regression Elastic Net', 'Linear SVR', 'MLP Regression', 'Dummy (MEAN)', 'ADA', 'Random Forest']\n",
    "exp_variable = \"ghg_emission\""
   ]
  },
  {
   "cell_type": "markdown",
   "id": "4fcd87a4",
   "metadata": {},
   "source": [
    "# <p style='text-align:center'>Features Engineering OPT </p>"
   ]
  },
  {
   "cell_type": "code",
   "execution_count": 151,
   "id": "2211c486",
   "metadata": {},
   "outputs": [],
   "source": [
    "bench = pd.read_excel(\"benchmark_cleaned_opt.xlsx\")\n",
    "\n",
    "bench = bench.drop(bench[(bench.energy_use > 25118864)|(bench.ghg_emission<1)].index)\n",
    "\n",
    "bench = bench.drop(bench[(bench.id.isin([ 33,  34,  54,  60,  61,  70,  85, 100, 102, 113, 230,49784,553]))].index)\n",
    "\n",
    "if (strategy==\"1c\") | (strategy==\"2c\"):\n",
    "    bench = bench.dropna(subset=['energy_score'])\n",
    "\n",
    "# bench[(bench.energy_use > 25118864) & (bench.energy_use < 100000000)]\n",
    "\n",
    "bench = preprocessing(bench, var_log=True)\n",
    "\n",
    "X, X_before_encoding = explanatory_variables_opt(bench, nrj_score)\n",
    "\n",
    "y = explained_variable(bench = bench, var_name = exp_variable, log = log)\n",
    "\n",
    "X_train, X_test, y_train, y_test = train_test_split(X, y, test_size=0.33, random_state=5)\n",
    "\n",
    "X_train_std, X_test_std = standardize(X_train, X_test, y_train, y_test, X_before_encoding.shape[1])"
   ]
  },
  {
   "cell_type": "markdown",
   "id": "1d1cdc4f",
   "metadata": {},
   "source": [
    "# <p style='text-align:center'> Simple Linear Regression </p>"
   ]
  },
  {
   "cell_type": "code",
   "execution_count": 153,
   "id": "29e319b7",
   "metadata": {},
   "outputs": [
    {
     "data": {
      "text/html": [
       "<div>\n",
       "<style scoped>\n",
       "    .dataframe tbody tr th:only-of-type {\n",
       "        vertical-align: middle;\n",
       "    }\n",
       "\n",
       "    .dataframe tbody tr th {\n",
       "        vertical-align: top;\n",
       "    }\n",
       "\n",
       "    .dataframe thead th {\n",
       "        text-align: right;\n",
       "    }\n",
       "</style>\n",
       "<table border=\"1\" class=\"dataframe\">\n",
       "  <thead>\n",
       "    <tr style=\"text-align: right;\">\n",
       "      <th></th>\n",
       "      <th>RMSE_train</th>\n",
       "      <th>RMSE_test</th>\n",
       "      <th>R2_train</th>\n",
       "      <th>R2_test</th>\n",
       "      <th>TIME</th>\n",
       "    </tr>\n",
       "  </thead>\n",
       "  <tbody>\n",
       "    <tr>\n",
       "      <th>valeur</th>\n",
       "      <td>65.437</td>\n",
       "      <td>1.853e+12</td>\n",
       "      <td>0.554</td>\n",
       "      <td>-3.657e+20</td>\n",
       "      <td>(0.0, 0.114953)</td>\n",
       "    </tr>\n",
       "  </tbody>\n",
       "</table>\n",
       "</div>"
      ],
      "text/plain": [
       "        RMSE_train  RMSE_test  R2_train    R2_test             TIME\n",
       "valeur      65.437  1.853e+12     0.554 -3.657e+20  (0.0, 0.114953)"
      ]
     },
     "metadata": {},
     "output_type": "display_data"
    },
    {
     "data": {
      "text/plain": [
       "-3.837540302528958e+20"
      ]
     },
     "metadata": {},
     "output_type": "display_data"
    }
   ],
   "source": [
    "# Regression Linéaire Simple\n",
    "\n",
    "start_time = datetime.datetime.now()\n",
    "\n",
    "reg = LinearRegression()\n",
    "reg.fit(X_train_std, y_train)\n",
    "y_pred_train_simple, y_pred_test_simple  = reg.predict(X_train_std), reg.predict(X_test_std)\n",
    "\n",
    "if (log):\n",
    "    y_pred_train_simple, y_pred_test_simple = [np.exp(x) for x in y_pred_train_simple],[np.exp(x) for x in y_pred_test_simple]\n",
    "\n",
    "end_time = datetime.datetime.now()\n",
    "\n",
    "time_simple= get_time(start_time, end_time)\n",
    "\n",
    "show_metric(y_pred_train_simple, y_train, y_pred_test_simple, y_test, time_simple, log, True)\n",
    "display(adjusted_r2(y_test, y_pred_test_simple,X.shape[0],X.shape[1]))"
   ]
  },
  {
   "cell_type": "code",
   "execution_count": null,
   "id": "ba541cca",
   "metadata": {},
   "outputs": [],
   "source": [
    "y_pred_test_simple"
   ]
  },
  {
   "cell_type": "markdown",
   "id": "75d6fe45",
   "metadata": {},
   "source": [
    "# <p style='text-align:center'> Ridge Linear Regression </p>"
   ]
  },
  {
   "cell_type": "code",
   "execution_count": 156,
   "id": "0a5167b9",
   "metadata": {},
   "outputs": [
    {
     "data": {
      "text/html": [
       "<div>\n",
       "<style scoped>\n",
       "    .dataframe tbody tr th:only-of-type {\n",
       "        vertical-align: middle;\n",
       "    }\n",
       "\n",
       "    .dataframe tbody tr th {\n",
       "        vertical-align: top;\n",
       "    }\n",
       "\n",
       "    .dataframe thead th {\n",
       "        text-align: right;\n",
       "    }\n",
       "</style>\n",
       "<table border=\"1\" class=\"dataframe\">\n",
       "  <thead>\n",
       "    <tr style=\"text-align: right;\">\n",
       "      <th></th>\n",
       "      <th>RMSE_train</th>\n",
       "      <th>RMSE_test</th>\n",
       "      <th>R2_train</th>\n",
       "      <th>R2_test</th>\n",
       "      <th>TIME</th>\n",
       "    </tr>\n",
       "  </thead>\n",
       "  <tbody>\n",
       "    <tr>\n",
       "      <th>valeur</th>\n",
       "      <td>66.853</td>\n",
       "      <td>69.57</td>\n",
       "      <td>0.534</td>\n",
       "      <td>0.484</td>\n",
       "      <td>(0.0, 0.578912)</td>\n",
       "    </tr>\n",
       "  </tbody>\n",
       "</table>\n",
       "</div>"
      ],
      "text/plain": [
       "        RMSE_train  RMSE_test  R2_train  R2_test             TIME\n",
       "valeur      66.853      69.57     0.534    0.484  (0.0, 0.578912)"
      ]
     },
     "metadata": {},
     "output_type": "display_data"
    }
   ],
   "source": [
    "# Regression linéaire Ridge\n",
    "\n",
    "start_time = datetime.datetime.now()\n",
    "# np.logspace(-4,4,9)\n",
    "cv_ridge_params_ghg = {'alpha' : [2,4,6,8,10,12]}\n",
    "cv_ridge_params_nrj = {'alpha' : np.logspace(-4,4,9)}\n",
    "    \n",
    "ridge_param_choice = {'ridge_ghg_emission' : cv_ridge_params_ghg,'ridge_energy_use' : cv_ridge_params_nrj}\n",
    "\n",
    "cv_ridge_params = ridge_param_choice['ridge_' + exp_variable]\n",
    "\n",
    "cv_ridge = GridSearchCV(Ridge(), cv_ridge_params, cv=5, scoring='neg_root_mean_squared_error')\n",
    "cv_ridge.fit(X_train_std, y_train)\n",
    "\n",
    "ridge = Ridge(alpha=cv_ridge.best_params_['alpha'])\n",
    "ridge.fit(X_train_std, y_train)\n",
    "y_pred_train_ridge, y_pred_test_ridge = ridge.predict(X_train_std), ridge.predict(X_test_std)\n",
    "\n",
    "if (log):\n",
    "    y_pred_train_ridge, y_pred_test_ridge = [np.exp(x) for x in y_pred_train_ridge],[np.exp(x) for x in y_pred_test_ridge]\n",
    "\n",
    "end_time = datetime.datetime.now()\n",
    "\n",
    "time_ridge = get_time(start_time, end_time)\n",
    "\n",
    "show_metric(y_pred_train_ridge, y_train, y_pred_test_ridge, y_test, time_ridge, log, True)"
   ]
  },
  {
   "cell_type": "code",
   "execution_count": 157,
   "id": "63080fb8",
   "metadata": {},
   "outputs": [
    {
     "data": {
      "text/plain": [
       "{'alpha': 2}"
      ]
     },
     "execution_count": 157,
     "metadata": {},
     "output_type": "execute_result"
    }
   ],
   "source": [
    "cv_ridge.best_params_"
   ]
  },
  {
   "cell_type": "code",
   "execution_count": 121,
   "id": "7e54aec9",
   "metadata": {},
   "outputs": [
    {
     "data": {
      "image/png": "[encoded data removed]",
      "text/plain": [
       "<Figure size 1080x1080 with 1 Axes>"
      ]
     },
     "metadata": {},
     "output_type": "display_data"
    }
   ],
   "source": [
    "model_vs_real(y_pred_test_ridge, y_test, exp_variable)"
   ]
  },
  {
   "cell_type": "code",
   "execution_count": 122,
   "id": "55860610",
   "metadata": {},
   "outputs": [
    {
     "data": {
      "text/plain": [
       "-2215594.260970612"
      ]
     },
     "execution_count": 122,
     "metadata": {},
     "output_type": "execute_result"
    }
   ],
   "source": [
    "cv_ridge.best_score_"
   ]
  },
  {
   "cell_type": "markdown",
   "id": "d9a983a3",
   "metadata": {},
   "source": [
    "# <p style='text-align:center'> Lasso Linear Regression </p>"
   ]
  },
  {
   "cell_type": "code",
   "execution_count": 123,
   "id": "1a8a1fb0",
   "metadata": {},
   "outputs": [
    {
     "data": {
      "text/html": [
       "<div>\n",
       "<style scoped>\n",
       "    .dataframe tbody tr th:only-of-type {\n",
       "        vertical-align: middle;\n",
       "    }\n",
       "\n",
       "    .dataframe tbody tr th {\n",
       "        vertical-align: top;\n",
       "    }\n",
       "\n",
       "    .dataframe thead th {\n",
       "        text-align: right;\n",
       "    }\n",
       "</style>\n",
       "<table border=\"1\" class=\"dataframe\">\n",
       "  <thead>\n",
       "    <tr style=\"text-align: right;\">\n",
       "      <th></th>\n",
       "      <th>RMSE_train</th>\n",
       "      <th>RMSE_test</th>\n",
       "      <th>R2_train</th>\n",
       "      <th>R2_test</th>\n",
       "      <th>TIME</th>\n",
       "    </tr>\n",
       "  </thead>\n",
       "  <tbody>\n",
       "    <tr>\n",
       "      <th>valeur</th>\n",
       "      <td>2.076e+06</td>\n",
       "      <td>2.190e+06</td>\n",
       "      <td>0.711</td>\n",
       "      <td>0.694</td>\n",
       "      <td>(0.0, 9.795394)</td>\n",
       "    </tr>\n",
       "  </tbody>\n",
       "</table>\n",
       "</div>"
      ],
      "text/plain": [
       "        RMSE_train  RMSE_test  R2_train  R2_test             TIME\n",
       "valeur   2.076e+06  2.190e+06     0.711    0.694  (0.0, 9.795394)"
      ]
     },
     "metadata": {},
     "output_type": "display_data"
    }
   ],
   "source": [
    "# Regression linéaire Lasso\n",
    "\n",
    "start_time = datetime.datetime.now()\n",
    "\n",
    "cv_lasso_params_ghg = {'alpha':np.logspace(-4,4,8)}\n",
    "cv_lasso_params_nrj = {'alpha':np.logspace(-4,4,8)}\n",
    "\n",
    "lasso_param_choice = {'lasso_ghg_emission':cv_lasso_params_ghg, 'lasso_energy_use':cv_lasso_params_nrj}\n",
    "\n",
    "cv_lasso_params = lasso_param_choice['lasso_' + exp_variable]\n",
    "\n",
    "cv_lasso = GridSearchCV(Lasso(fit_intercept=True),cv_lasso_params,cv=5,scoring='neg_root_mean_squared_error')\n",
    "cv_lasso.fit(X_train_std, y_train)\n",
    "\n",
    "lasso = Lasso(alpha=cv_lasso.best_params_['alpha'], fit_intercept=True)\n",
    "lasso.fit(X_train_std, y_train)\n",
    "y_pred_train_lasso, y_pred_test_lasso = lasso.predict(X_train_std), lasso.predict(X_test_std)\n",
    "\n",
    "if (log):\n",
    "    y_pred_train_lasso, y_pred_test_lasso = [np.exp(x) for x in y_pred_train_lasso],[np.exp(x) for x in y_pred_test_lasso]\n",
    "\n",
    "end_time = datetime.datetime.now()\n",
    "\n",
    "time_lasso = get_time(start_time, end_time)\n",
    "\n",
    "show_metric(y_pred_train_lasso, y_train, y_pred_test_lasso, y_test, time_lasso, log, True)"
   ]
  },
  {
   "cell_type": "code",
   "execution_count": 124,
   "id": "5498975c",
   "metadata": {},
   "outputs": [
    {
     "data": {
      "text/plain": [
       "{'alpha': 10000.0}"
      ]
     },
     "execution_count": 124,
     "metadata": {},
     "output_type": "execute_result"
    }
   ],
   "source": [
    "cv_lasso.best_params_"
   ]
  },
  {
   "cell_type": "code",
   "execution_count": 125,
   "id": "5f13b541",
   "metadata": {},
   "outputs": [
    {
     "data": {
      "text/plain": [
       "-2210328.842183483"
      ]
     },
     "execution_count": 125,
     "metadata": {},
     "output_type": "execute_result"
    }
   ],
   "source": [
    "cv_lasso.best_score_"
   ]
  },
  {
   "cell_type": "code",
   "execution_count": 95,
   "id": "bb9723d6",
   "metadata": {},
   "outputs": [],
   "source": [
    "# model_vs_real(y_pred_test_lasso, y_test, exp_variable)"
   ]
  },
  {
   "cell_type": "markdown",
   "id": "30798f0d",
   "metadata": {},
   "source": [
    "# <p style='text-align:center'> Elastic Net Linear Regression </p>"
   ]
  },
  {
   "cell_type": "code",
   "execution_count": 96,
   "id": "83389dd6",
   "metadata": {},
   "outputs": [
    {
     "data": {
      "text/html": [
       "<div>\n",
       "<style scoped>\n",
       "    .dataframe tbody tr th:only-of-type {\n",
       "        vertical-align: middle;\n",
       "    }\n",
       "\n",
       "    .dataframe tbody tr th {\n",
       "        vertical-align: top;\n",
       "    }\n",
       "\n",
       "    .dataframe thead th {\n",
       "        text-align: right;\n",
       "    }\n",
       "</style>\n",
       "<table border=\"1\" class=\"dataframe\">\n",
       "  <thead>\n",
       "    <tr style=\"text-align: right;\">\n",
       "      <th></th>\n",
       "      <th>RMSE_train</th>\n",
       "      <th>RMSE_test</th>\n",
       "      <th>R2_train</th>\n",
       "      <th>R2_test</th>\n",
       "      <th>TIME</th>\n",
       "    </tr>\n",
       "  </thead>\n",
       "  <tbody>\n",
       "    <tr>\n",
       "      <th>valeur</th>\n",
       "      <td>72.107</td>\n",
       "      <td>74.5</td>\n",
       "      <td>0.448</td>\n",
       "      <td>0.43</td>\n",
       "      <td>(0.0, 3.445619)</td>\n",
       "    </tr>\n",
       "  </tbody>\n",
       "</table>\n",
       "</div>"
      ],
      "text/plain": [
       "        RMSE_train  RMSE_test  R2_train  R2_test             TIME\n",
       "valeur      72.107       74.5     0.448     0.43  (0.0, 3.445619)"
      ]
     },
     "metadata": {},
     "output_type": "display_data"
    }
   ],
   "source": [
    "# Regression linéaire Elastic Net\n",
    "\n",
    "start_time = datetime.datetime.now()\n",
    "\n",
    "cv_elastic_params_ghg = {'alpha':np.logspace(-4,4,8),'l1_ratio':np.logspace(-4,4,8)}\n",
    "cv_elastic_params_nrj = {'alpha':np.logspace(-4,4,8),'l1_ratio':np.logspace(-4,4,8)}\n",
    "\n",
    "elastic_param_choice = {'elastic_ghg_emission':cv_elastic_params_ghg,'elastic_energy_use':cv_elastic_params_nrj}\n",
    "\n",
    "cv_elastic_params = elastic_param_choice['elastic_' + exp_variable]\n",
    "\n",
    "cv_elastic = GridSearchCV(ElasticNet(), cv_elastic_params, cv=5, scoring='neg_root_mean_squared_error')\n",
    "cv_elastic.fit(X_train_std, y_train)\n",
    "\n",
    "elastic = ElasticNet(alpha = cv_elastic.best_params_['alpha'], l1_ratio = cv_elastic.best_params_['l1_ratio'], random_state=0)\n",
    "\n",
    "elastic.fit(X_train_std, y_train)\n",
    "y_pred_train_elastic, y_pred_test_elastic = elastic.predict(X_train_std), elastic.predict(X_test_std)\n",
    "\n",
    "if (log):\n",
    "    y_pred_train_elastic, y_pred_test_elastic = [np.exp(x) for x in y_pred_train_elastic],[np.exp(x) for x in y_pred_test_elastic]\n",
    "\n",
    "end_time = datetime.datetime.now()\n",
    "\n",
    "time_elastic = get_time(start_time, end_time)\n",
    "show_metric(y_pred_train_elastic, y_train, y_pred_test_elastic, y_test, time_elastic, log, True)"
   ]
  },
  {
   "cell_type": "code",
   "execution_count": 97,
   "id": "11b0b500",
   "metadata": {},
   "outputs": [
    {
     "data": {
      "text/plain": [
       "{'alpha': 0.019306977288832496, 'l1_ratio': 0.0001}"
      ]
     },
     "execution_count": 97,
     "metadata": {},
     "output_type": "execute_result"
    }
   ],
   "source": [
    "cv_elastic.best_params_"
   ]
  },
  {
   "cell_type": "code",
   "execution_count": 98,
   "id": "b9d3f30d",
   "metadata": {},
   "outputs": [
    {
     "data": {
      "text/plain": [
       "-74.06743546091744"
      ]
     },
     "execution_count": 98,
     "metadata": {},
     "output_type": "execute_result"
    }
   ],
   "source": [
    "cv_elastic.best_score_"
   ]
  },
  {
   "cell_type": "code",
   "execution_count": null,
   "id": "e28aa8a4",
   "metadata": {},
   "outputs": [],
   "source": [
    "# model_vs_real(y_pred_test_elastic, y_test, exp_variable)"
   ]
  },
  {
   "cell_type": "markdown",
   "id": "05d2779c",
   "metadata": {},
   "source": [
    "# <p style='text-align:center'> Support Vector Regressor </p>"
   ]
  },
  {
   "cell_type": "code",
   "execution_count": 24,
   "id": "92d6200d",
   "metadata": {},
   "outputs": [
    {
     "data": {
      "text/html": [
       "<div>\n",
       "<style scoped>\n",
       "    .dataframe tbody tr th:only-of-type {\n",
       "        vertical-align: middle;\n",
       "    }\n",
       "\n",
       "    .dataframe tbody tr th {\n",
       "        vertical-align: top;\n",
       "    }\n",
       "\n",
       "    .dataframe thead th {\n",
       "        text-align: right;\n",
       "    }\n",
       "</style>\n",
       "<table border=\"1\" class=\"dataframe\">\n",
       "  <thead>\n",
       "    <tr style=\"text-align: right;\">\n",
       "      <th></th>\n",
       "      <th>RMSE_train</th>\n",
       "      <th>RMSE_test</th>\n",
       "      <th>R2_train</th>\n",
       "      <th>R2_test</th>\n",
       "      <th>TIME</th>\n",
       "    </tr>\n",
       "  </thead>\n",
       "  <tbody>\n",
       "    <tr>\n",
       "      <th>valeur</th>\n",
       "      <td>53.313</td>\n",
       "      <td>56.692</td>\n",
       "      <td>0.218</td>\n",
       "      <td>0.164</td>\n",
       "      <td>(0.0, 8.155326)</td>\n",
       "    </tr>\n",
       "  </tbody>\n",
       "</table>\n",
       "</div>"
      ],
      "text/plain": [
       "        RMSE_train  RMSE_test  R2_train  R2_test             TIME\n",
       "valeur      53.313     56.692     0.218    0.164  (0.0, 8.155326)"
      ]
     },
     "metadata": {},
     "output_type": "display_data"
    }
   ],
   "source": [
    "start_time = datetime.datetime.now()\n",
    "\n",
    "cv_svr_params_ghg = {'C' : [0.0001,0.001,0.1,1]}\n",
    "cv_svr_params_nrj = {'C' : [0.1,1]}\n",
    "\n",
    "svr_param_choice = {'svr_ghg_emission':cv_svr_params_ghg, 'svr_energy_use':cv_svr_params_nrj}\n",
    "\n",
    "cv_svr_params = svr_param_choice['svr_' + exp_variable]\n",
    "\n",
    "cv_svr = GridSearchCV(SVR(kernel = 'linear'), cv_svr_params, cv=5, scoring='neg_root_mean_squared_error')\n",
    "\n",
    "cv_svr.fit(X_train_std, y_train)\n",
    "\n",
    "svr = SVR(kernel = 'linear', C=cv_svr.best_params_[\"C\"])\n",
    "svr.fit(X_train_std, y_train)\n",
    "y_pred_train_svr, y_pred_test_svr = svr.predict(X_train_std), svr.predict(X_test_std)\n",
    "\n",
    "if (log):\n",
    "    y_pred_train_svr, y_pred_test_svr = [np.exp(x) for x in y_pred_train_svr],[np.exp(x) for x in y_pred_test_svr]\n",
    "\n",
    "end_time = datetime.datetime.now()\n",
    "\n",
    "time_svr = get_time(start_time, end_time)\n",
    "show_metric(y_pred_train_svr, y_train, y_pred_test_svr, y_test, time_svr, True, True)"
   ]
  },
  {
   "cell_type": "code",
   "execution_count": 22,
   "id": "08818cb0",
   "metadata": {},
   "outputs": [
    {
     "data": {
      "text/plain": [
       "{'C': 0.1}"
      ]
     },
     "execution_count": 22,
     "metadata": {},
     "output_type": "execute_result"
    }
   ],
   "source": [
    "cv_svr.best_params_"
   ]
  },
  {
   "cell_type": "code",
   "execution_count": 23,
   "id": "1998e738",
   "metadata": {},
   "outputs": [
    {
     "data": {
      "text/plain": [
       "-1.0110050618126982"
      ]
     },
     "execution_count": 23,
     "metadata": {},
     "output_type": "execute_result"
    }
   ],
   "source": [
    "cv_svr.best_score_"
   ]
  },
  {
   "cell_type": "code",
   "execution_count": null,
   "id": "876363a7",
   "metadata": {},
   "outputs": [],
   "source": [
    "# model_vs_real(y_pred_test_svr, y_test, exp_variable)"
   ]
  },
  {
   "cell_type": "markdown",
   "id": "da79ac2c",
   "metadata": {},
   "source": [
    "# <p style='text-align:center'> MLP Regressor </p>"
   ]
  },
  {
   "cell_type": "code",
   "execution_count": null,
   "id": "adae0196",
   "metadata": {},
   "outputs": [],
   "source": [
    "start_time = datetime.datetime.now()\n",
    "\n",
    "cv_mlp_params_ghg = {'hidden_layer_sizes':[30,(50,50)],'alpha':[0.01]}\n",
    "cv_mlp_params_nrj = {'hidden_layer_sizes':[30,(50,50)],'alpha':[0.01]}\n",
    "\n",
    "mlp_param_choice = {'mlp_ghg_emission':cv_mlp_params_ghg, 'mlp_energy_use':cv_mlp_params_nrj}\n",
    "\n",
    "cv_mlp_params = mlp_param_choice['mlp_' + exp_variable]\n",
    "\n",
    "cv_mlp = GridSearchCV(MLPRegressor(solver = 'lbfgs', max_iter = 500, early_stopping = True, learning_rate='adaptive'),\n",
    "                   cv_mlp_params,\n",
    "                   cv=5,\n",
    "                   scoring='neg_root_mean_squared_error')\n",
    "\n",
    "cv_mlp.fit(X_train_std, y_train)\n",
    "\n",
    "regr = MLPRegressor(solver = 'lbfgs', hidden_layer_sizes = cv_mlp.best_params_['hidden_layer_sizes'],\n",
    "                    max_iter = 500,\n",
    "                   early_stopping = True,\n",
    "                   learning_rate='adaptive').fit(X_train_std, y_train)\n",
    "y_pred_train_mlp, y_pred_test_mlp = regr.predict(X_train_std), regr.predict(X_test_std)\n",
    "\n",
    "if (log):\n",
    "    y_pred_train_mlp, y_pred_test_mlp = [np.exp(x) for x in y_pred_train_mlp],[np.exp(x) for x in y_pred_test_mlp]\n",
    "\n",
    "end_time = datetime.datetime.now()\n",
    "\n",
    "time_mlp= get_time(start_time, end_time)\n",
    "show_metric(y_pred_train_mlp, y_train, y_pred_test_mlp, y_test, time_mlp, log, True)"
   ]
  },
  {
   "cell_type": "code",
   "execution_count": null,
   "id": "f63f1543",
   "metadata": {},
   "outputs": [],
   "source": [
    "cv_mlp.best_params_"
   ]
  },
  {
   "cell_type": "code",
   "execution_count": null,
   "id": "441dc450",
   "metadata": {},
   "outputs": [],
   "source": [
    "cv_mlp.best_score_"
   ]
  },
  {
   "cell_type": "code",
   "execution_count": null,
   "id": "f2cea6ed",
   "metadata": {},
   "outputs": [],
   "source": [
    "# model_vs_real(y_pred_test_mlp, y_test, exp_variable)"
   ]
  },
  {
   "cell_type": "markdown",
   "id": "c4a3a174",
   "metadata": {},
   "source": [
    "# <p style='text-align:center'> Random Forest </p>"
   ]
  },
  {
   "cell_type": "code",
   "execution_count": null,
   "id": "8317c8b5",
   "metadata": {},
   "outputs": [],
   "source": [
    "rfr_0 = RandomForestRegressor(n_estimators=40, oob_score=True)\n",
    "\n",
    "model = rfr_0.fit(X_train_std, y_train)\n",
    "\n",
    "pred = rfr_0.predict(X_test_std)\n",
    "\n",
    "from sklearn.feature_selection import SelectFromModel\n",
    "\n",
    "select = SelectFromModel(rfr_0, prefit=True, threshold='mean')\n",
    "\n",
    "X_train_std_2 = select.transform(X_train_std)\n",
    "X_test_std_2 = select.transform(X_test_std)\n",
    "\n",
    "print(X_train_std_2.shape,X_test_std_2.shape )"
   ]
  },
  {
   "cell_type": "code",
   "execution_count": 158,
   "id": "1cf10f34",
   "metadata": {},
   "outputs": [
    {
     "data": {
      "text/html": [
       "<div>\n",
       "<style scoped>\n",
       "    .dataframe tbody tr th:only-of-type {\n",
       "        vertical-align: middle;\n",
       "    }\n",
       "\n",
       "    .dataframe tbody tr th {\n",
       "        vertical-align: top;\n",
       "    }\n",
       "\n",
       "    .dataframe thead th {\n",
       "        text-align: right;\n",
       "    }\n",
       "</style>\n",
       "<table border=\"1\" class=\"dataframe\">\n",
       "  <thead>\n",
       "    <tr style=\"text-align: right;\">\n",
       "      <th></th>\n",
       "      <th>RMSE_train</th>\n",
       "      <th>RMSE_test</th>\n",
       "      <th>R2_train</th>\n",
       "      <th>R2_test</th>\n",
       "      <th>TIME</th>\n",
       "    </tr>\n",
       "  </thead>\n",
       "  <tbody>\n",
       "    <tr>\n",
       "      <th>valeur</th>\n",
       "      <td>26.211</td>\n",
       "      <td>65.87</td>\n",
       "      <td>0.928</td>\n",
       "      <td>0.538</td>\n",
       "      <td>(4.0, 5.9691430000000025)</td>\n",
       "    </tr>\n",
       "  </tbody>\n",
       "</table>\n",
       "</div>"
      ],
      "text/plain": [
       "        RMSE_train  RMSE_test  R2_train  R2_test                       TIME\n",
       "valeur      26.211      65.87     0.928    0.538  (4.0, 5.9691430000000025)"
      ]
     },
     "metadata": {},
     "output_type": "display_data"
    }
   ],
   "source": [
    "start_time = datetime.datetime.now()\n",
    "\n",
    "cv_rfr_params_ghg = {'n_estimators':[10,20,30,40],'max_depth':[20,50,70,90],'min_samples_leaf':[2,4,8],'min_samples_split':[4,8,12]}\n",
    "cv_rfr_params_nrj = {'n_estimators':[50,60,70],'max_depth':[5,10,20],'min_samples_leaf':[2,4,8,10,20],'min_samples_split':[10,20,50]}\n",
    "\n",
    "rfr_param_choice = {'rfr_ghg_emission':cv_rfr_params_ghg, 'rfr_energy_use':cv_rfr_params_nrj}\n",
    "\n",
    "cv_rfr_params = rfr_param_choice['rfr_' + exp_variable]\n",
    "\n",
    "cv_rfr = GridSearchCV(RandomForestRegressor(), cv_rfr_params, cv=5, scoring='neg_root_mean_squared_error')\n",
    "\n",
    "# cv_rfr.fit(X_train_std_2, y_train)\n",
    "cv_rfr.fit(X_train_std, y_train)\n",
    "\n",
    "rfr = RandomForestRegressor(n_estimators = cv_rfr.best_params_['n_estimators'], max_depth = cv_rfr.best_params_['max_depth'])\n",
    "\n",
    "rfr.fit(X_train_std, y_train)\n",
    "# y_pred_train_rfr, y_pred_test_rfr = rfr.predict(X_train_std_2), rfr.predict(X_test_std_2)\n",
    "y_pred_train_rfr, y_pred_test_rfr = rfr.predict(X_train_std), rfr.predict(X_test_std)\n",
    "\n",
    "end_time = datetime.datetime.now()\n",
    "\n",
    "time_rfr = get_time(start_time, end_time)\n",
    "\n",
    "if (log):\n",
    "    y_pred_train_rfr, y_pred_test_rfr = [np.exp(x) for x in y_pred_train_rfr],[np.exp(x) for x in y_pred_test_rfr]\n",
    "\n",
    "show_metric(y_pred_train_rfr, y_train, y_pred_test_rfr, y_test, time_rfr, log, True)\n",
    "# display(adjusted_r2([np.exp(x) for x in y_test],y_pred_test_rfr, X.shape[0], X.shape[1]))"
   ]
  },
  {
   "cell_type": "code",
   "execution_count": 159,
   "id": "b2000948",
   "metadata": {},
   "outputs": [
    {
     "data": {
      "text/plain": [
       "{'max_depth': 70,\n",
       " 'min_samples_leaf': 2,\n",
       " 'min_samples_split': 8,\n",
       " 'n_estimators': 40}"
      ]
     },
     "execution_count": 159,
     "metadata": {},
     "output_type": "execute_result"
    }
   ],
   "source": [
    "cv_rfr.best_params_"
   ]
  },
  {
   "cell_type": "code",
   "execution_count": 160,
   "id": "1492d735",
   "metadata": {},
   "outputs": [
    {
     "data": {
      "text/plain": [
       "-67.1933984900027"
      ]
     },
     "execution_count": 160,
     "metadata": {},
     "output_type": "execute_result"
    }
   ],
   "source": [
    "cv_rfr.best_score_"
   ]
  },
  {
   "cell_type": "code",
   "execution_count": 161,
   "id": "5f5be069",
   "metadata": {},
   "outputs": [],
   "source": [
    "# model_vs_real(y_pred_test_rfr, np.array(y_test), exp_variable)"
   ]
  },
  {
   "cell_type": "markdown",
   "id": "fd1b6126",
   "metadata": {},
   "source": [
    "# <p style='text-align:center'> ADABOOST </p>"
   ]
  },
  {
   "cell_type": "code",
   "execution_count": null,
   "id": "efc76576",
   "metadata": {},
   "outputs": [],
   "source": [
    "ada_0 = AdaBoostRegressor(base_estimator = DecisionTreeRegressor(), loss='linear', learning_rate = 0.5 , n_estimators = 60)\n",
    "\n",
    "model = ada_0.fit(X_train_std, y_train)\n",
    "\n",
    "pred = ada_0.predict(X_test_std)\n",
    "\n",
    "from sklearn.feature_selection import SelectFromModel\n",
    "\n",
    "select = SelectFromModel(ada_0, prefit=True, threshold=0.003)\n",
    "\n",
    "X_train_std_2 = select.transform(X_train_std)\n",
    "X_test_std_2 = select.transform(X_test_std)\n",
    "\n",
    "print(X_train_std_2.shape,X_test_std_2.shape)"
   ]
  },
  {
   "cell_type": "code",
   "execution_count": null,
   "id": "f880b94b",
   "metadata": {},
   "outputs": [],
   "source": [
    "start_time = datetime.datetime.now()\n",
    "\n",
    "cv_ada_params_ghg = {'n_estimators':[200,500],'learning_rate':[1.5,2]}\n",
    "cv_ada_params_nrj = {'n_estimators':[200,500],'learning_rate':[1.5,2]}\n",
    "\n",
    "ada_param_choice = {'ada_ghg_emission':cv_ada_params_ghg,'ada_energy_use':cv_ada_params_nrj}\n",
    "\n",
    "cv_ada_params = ada_param_choice['ada_' + exp_variable]\n",
    "\n",
    "cv_ada = GridSearchCV(AdaBoostRegressor(base_estimator = DecisionTreeRegressor(max_depth=15), loss = 'linear'), cv_ada_params, cv=5, scoring='neg_root_mean_squared_error')\n",
    "\n",
    "# cv_ada.fit(X_train_std_2, y_train)\n",
    "cv_ada.fit(X_train_std, y_train)\n",
    "\n",
    "ada = AdaBoostRegressor(base_estimator = DecisionTreeRegressor(max_depth=15), loss='linear', learning_rate = cv_ada.best_params_['learning_rate'] , n_estimators = cv_ada.best_params_['n_estimators'])\n",
    "# ada.fit(X_train_std_2, y_train)\n",
    "ada.fit(X_train_std, y_train)\n",
    "# y_pred_train_ada, y_pred_test_ada= ada.predict(X_train_std_2), ada.predict(X_test_std_2)\n",
    "y_pred_train_ada, y_pred_test_ada= ada.predict(X_train_std), ada.predict(X_test_std)\n",
    "\n",
    "if (log):\n",
    "    y_pred_train_ada, y_pred_test_ada = [np.exp(x) for x in y_pred_train_ada],[np.exp(x) for x in y_pred_test_ada]\n",
    "\n",
    "end_time = datetime.datetime.now()\n",
    "\n",
    "time_ada= get_time(start_time, end_time)\n",
    "show_metric(y_pred_train_ada, y_train, y_pred_test_ada, y_test, time_ada, log, True)"
   ]
  },
  {
   "cell_type": "code",
   "execution_count": null,
   "id": "949c70ae",
   "metadata": {},
   "outputs": [],
   "source": [
    "cv_ada.best_params_"
   ]
  },
  {
   "cell_type": "code",
   "execution_count": null,
   "id": "d830ebfe",
   "metadata": {},
   "outputs": [],
   "source": [
    "cv_ada.best_score_"
   ]
  },
  {
   "cell_type": "code",
   "execution_count": null,
   "id": "fee53701",
   "metadata": {},
   "outputs": [],
   "source": [
    "# squared_error(y_pred_test_ada, y_test)"
   ]
  },
  {
   "cell_type": "code",
   "execution_count": null,
   "id": "a111a61d",
   "metadata": {},
   "outputs": [],
   "source": [
    "# model_vs_real(y_pred_test_ada, y_test, exp_variable)"
   ]
  },
  {
   "cell_type": "markdown",
   "id": "7d877a8b",
   "metadata": {},
   "source": [
    "# <p style='text-align:center'> Dummy </p>"
   ]
  },
  {
   "cell_type": "code",
   "execution_count": null,
   "id": "afabd7ed",
   "metadata": {},
   "outputs": [],
   "source": [
    "start_time = datetime.datetime.now() \n",
    "\n",
    "dum = dummy.DummyRegressor(strategy='mean')\n",
    "dum.fit(X_train_std, y_train)\n",
    "y_pred_train_dummy, y_pred_test_dummy = dum.predict(X_train_std), dum.predict(X_test_std)\n",
    "\n",
    "if (log):\n",
    "    y_pred_train_dummy, y_pred_test_dummy = [np.exp(x) for x in y_pred_train_dummy],[np.exp(x) for x in y_pred_test_dummy]\n",
    "\n",
    "end_time = datetime.datetime.now()\n",
    "\n",
    "time_dummy = get_time(start_time, end_time)\n",
    "\n",
    "show_metric(y_pred_train_dummy, y_train, y_pred_test_dummy, y_test, time_dummy, log, True)"
   ]
  },
  {
   "cell_type": "code",
   "execution_count": null,
   "id": "de7901e5",
   "metadata": {},
   "outputs": [],
   "source": [
    "# model_vs_real(y_pred_test_dummy, y_test, exp_variable)"
   ]
  },
  {
   "cell_type": "markdown",
   "id": "feafb999",
   "metadata": {},
   "source": [
    "\n",
    "\n",
    "\n",
    "\n",
    "\n",
    "\n",
    "\n",
    "\n"
   ]
  },
  {
   "cell_type": "markdown",
   "id": "44d3fdbd",
   "metadata": {},
   "source": [
    "# <p style='text-align:center'> Lancement automatique </p>"
   ]
  },
  {
   "cell_type": "code",
   "execution_count": null,
   "id": "2e39ba3d",
   "metadata": {},
   "outputs": [],
   "source": [
    "exp_variable = \"ghg_emission\"\n",
    "for strategy in [1, 2, \"1b\", \"1c\", \"2b\",\"2c\"]:\n",
    "    clear_output()\n",
    "    print(strategy)\n",
    "    bench = pd.read_excel(\"benchmark_cleaned.xlsx\")\n",
    "    bench = preprocessing(bench, var_log=True)\n",
    "    if (strategy == \"1c\") | (strategy == \"2c\"):\n",
    "        bench = bench[~bench[explained_variable].isna()]\n",
    "    X, X_before_encoding = explanatory_variables(bench, strategy, [])\n",
    "    y = explained_variable(bench, explained_variable, 'brut')\n",
    "    X_train, X_test, y_train, y_test = train_test_split(X, y, test_size=0.33, random_state=79)\n",
    "    X_train_std, X_test_std = standardize(X_train, X_test, y_train, y_test, X_before_encoding.shape[1])\n",
    "\n",
    "    # Regression Linéaire simple\n",
    "    \n",
    "    start_time = datetime.datetime.now()\n",
    "\n",
    "    reg = LinearRegression()\n",
    "    reg.fit(X_train_std, y_train)\n",
    "    y_pred_train_simple, y_pred_test_simple  = reg.predict(X_train_std), reg.predict(X_test_std)\n",
    "\n",
    "    end_time = datetime.datetime.now()\n",
    "\n",
    "    time_simple= get_time(start_time, end_time)\n",
    "    \n",
    "    train_error_simple, test_error_simple, train_r2_simple, test_r2_simple, time_simple = show_metric(y_pred_train_simple, y_train, y_pred_test_simple, y_test, time_simple, disp=False)\n",
    "    \n",
    "    # Regression linéaire Ridge\n",
    "\n",
    "    start_time = datetime.datetime.now()\n",
    "\n",
    "    cv_ridge = GridSearchCV(Ridge(), cv_ridge_params, cv=5, scoring='neg_root_mean_squared_error')\n",
    "    cv_ridge.fit(X_train_std, y_train)\n",
    "\n",
    "    ridge = Ridge(alpha=cv_ridge.best_params_['alpha'])\n",
    "    ridge.fit(X_train_std, y_train)\n",
    "    y_pred_train_ridge, y_pred_test_ridge = ridge.predict(X_train_std), ridge.predict(X_test_std)\n",
    "\n",
    "    end_time = datetime.datetime.now()\n",
    "\n",
    "    time_ridge = get_time(start_time, end_time)\n",
    "\n",
    "    train_error_ridge, test_error_ridge, train_r2_ridge, test_r2_ridge, time_ridge = show_metric(y_pred_train_ridge, y_train, y_pred_test_ridge, y_test, time_ridge, disp = False)\n",
    "\n",
    "    # Regression linéaire Lasso\n",
    "\n",
    "    start_time = datetime.datetime.now()\n",
    "\n",
    "    cv_lasso = GridSearchCV(Lasso(fit_intercept=True), cv_lasso_params, cv=5, scoring='neg_root_mean_squared_error')\n",
    "    cv_lasso.fit(X_train_std, y_train)\n",
    "\n",
    "    lasso = Lasso(alpha=cv_lasso.best_params_['alpha'], fit_intercept=True)\n",
    "    lasso.fit(X_train_std, y_train)\n",
    "    y_pred_train_lasso, y_pred_test_lasso = lasso.predict(X_train_std), lasso.predict(X_test_std)\n",
    "\n",
    "    end_time = datetime.datetime.now()\n",
    "\n",
    "    time_lasso = get_time(start_time, end_time)  \n",
    "    \n",
    "    train_error_lasso,  test_error_lasso, train_r2_lasso, test_r2_lasso, time_lasso = show_metric(y_pred_train_lasso, y_train, y_pred_test_lasso, y_test, time_lasso, disp = False)\n",
    "\n",
    "    # Regression linéaire Elastic Net\n",
    "\n",
    "    start_time = datetime.datetime.now()\n",
    "\n",
    "    cv_elastic = GridSearchCV(ElasticNet(), cv_elastic_params, cv=5, scoring='neg_root_mean_squared_error')\n",
    "    cv_elastic.fit(X_train_std, y_train)\n",
    "\n",
    "    elastic = ElasticNet(alpha=cv_elastic.best_params_['alpha'],l1_ratio=cv_elastic.best_params_['l1_ratio'],random_state=0)\n",
    "\n",
    "    elastic.fit(X_train_std, y_train)\n",
    "    y_pred_train_elastic, y_pred_test_elastic = elastic.predict(X_train_std), elastic.predict(X_test_std)\n",
    "\n",
    "    end_time = datetime.datetime.now()\n",
    "\n",
    "    time_elastic = get_time(start_time, end_time)\n",
    "    train_error_elastic, test_error_elastic, train_r2_elastic, test_r2_elastic, time_elastic = show_metric(y_pred_train_elastic, y_train, y_pred_test_elastic, y_test, time_elastic, disp = False)\n",
    "\n",
    "    # MLP Regressor\n",
    "   \n",
    "    start_time = datetime.datetime.now()\n",
    "\n",
    "    cv_mlp = GridSearchCV(MLPRegressor(solver = 'lbfgs', max_iter = 500, early_stopping = True, learning_rate='adaptive'),\n",
    "                       cv_mlp_params,\n",
    "                       cv=5,\n",
    "                       scoring='neg_root_mean_squared_error')\n",
    "\n",
    "    cv_mlp.fit(X_train_std, y_train)\n",
    "\n",
    "    regr = MLPRegressor(solver = 'lbfgs', hidden_layer_sizes = cv_mlp.best_params_['hidden_layer_sizes'],\n",
    "                        max_iter = 500,\n",
    "                       early_stopping = True,\n",
    "                       learning_rate='adaptive').fit(X_train_std, y_train)\n",
    "    y_pred_train_mlp, y_pred_test_mlp = regr.predict(X_train_std), regr.predict(X_test_std)\n",
    "\n",
    "    end_time = datetime.datetime.now()\n",
    "\n",
    "    time_mlp= get_time(start_time, end_time)\n",
    "    \n",
    "    train_error_mlp, test_error_mlp, train_r2_mlp, test_r2_mlp , time_mlp = show_metric(y_pred_train_mlp, y_train, y_pred_test_mlp, y_test, time_mlp, disp = False)\n",
    "\n",
    "    # Support Vector Regressor\n",
    "    \n",
    "    start_time = datetime.datetime.now()\n",
    "\n",
    "    cv_svr = GridSearchCV(SVR(kernel = 'linear'),\n",
    "                       cv_svr_params,\n",
    "                       cv=5,\n",
    "                       scoring='neg_root_mean_squared_error')\n",
    "\n",
    "    cv_svr.fit(X_train_std, y_train)\n",
    "\n",
    "    svr = SVR(kernel = 'linear', C=cv_svr.best_params_[\"C\"], degree = cv_svr.best_params_[\"degree\"])\n",
    "    svr.fit(X_train_std, y_train)\n",
    "    y_pred_train_svr, y_pred_test_svr = svr.predict(X_train_std), svr.predict(X_test_std)\n",
    "\n",
    "    end_time = datetime.datetime.now()\n",
    "    \n",
    "    time_svr = get_time(start_time, end_time)\n",
    "    \n",
    "    train_error_svr, test_error_svr, train_r2_svr, test_r2_svr, time_svr =  show_metric(y_pred_train_svr, y_train, y_pred_test_svr, y_test, time_svr, disp = False)\n",
    "\n",
    "    \n",
    "    # Random Forest Regressor\n",
    "    \n",
    "    rfr_0 = RandomForestRegressor(n_estimators=40)\n",
    "\n",
    "    model = rfr_0.fit(X_train_std, y_train)\n",
    "\n",
    "    pred = rfr_0.predict(X_test_std)\n",
    "\n",
    "    from sklearn.feature_selection import SelectFromModel\n",
    "\n",
    "    select = SelectFromModel(rfr_0, prefit=True, threshold=0.003)\n",
    "\n",
    "    X_train_std_2 = select.transform(X_train_std)\n",
    "    X_test_std_2 = select.transform(X_test_std)\n",
    "\n",
    "    start_time = datetime.datetime.now()\n",
    "\n",
    "    cv_rfr = GridSearchCV(RandomForestRegressor(), cv_rfr_params, cv=5, scoring='neg_mean_squared_error')\n",
    "\n",
    "    cv_rfr.fit(X_train_std, y_train)\n",
    "\n",
    "    rfr = RandomForestRegressor(n_estimators = cv_rfr.best_params_['n_estimators'], \n",
    "                                max_depth = cv_rfr.best_params_['max_depth'])\n",
    "\n",
    "    rfr.fit(X_train_std_2, y_train)\n",
    "    y_pred_train_rfr, y_pred_test_rfr = rfr.predict(X_train_std_2), rfr.predict(X_test_std_2)\n",
    "\n",
    "    end_time = datetime.datetime.now()\n",
    "\n",
    "    time_rfr = get_time(start_time, end_time)\n",
    "    \n",
    "    train_error_rfr, test_error_rfr, train_r2_rfr, test_r2_rfr, time_rfr = show_metric(y_pred_train_rfr, y_train, y_pred_test_rfr, y_test, time_rfr, disp = False)\n",
    "    \n",
    "    # AdaBoost Regressor\n",
    "    \n",
    "    ada_0 = AdaBoostRegressor(base_estimator = DecisionTreeRegressor(), loss='linear', learning_rate = 0.5 , n_estimators = 60)\n",
    "\n",
    "    model = ada_0.fit(X_train_std, y_train)\n",
    "\n",
    "    pred = ada_0.predict(X_test_std)\n",
    "\n",
    "    from sklearn.feature_selection import SelectFromModel\n",
    "\n",
    "    select = SelectFromModel(ada_0, prefit=True, threshold=0.003)\n",
    "\n",
    "    X_train_std_2 = select.transform(X_train_std)\n",
    "    X_test_std_2 = select.transform(X_test_std)\n",
    "\n",
    "    start_time = datetime.datetime.now()\n",
    "\n",
    "    cv_ada = GridSearchCV(AdaBoostRegressor(base_estimator = DecisionTreeRegressor()), cv_ridge_params, cv=5, scoring='neg_mean_squared_error')\n",
    "\n",
    "    cv_ada.fit(X_train_std_2, y_train)\n",
    "\n",
    "    ada = AdaBoostRegressor(DecisionTreeRegressor(), learning_rate = cv_ada.best_params_['learning_rate'] , n_estimators = cv_ada.best_params_['n_estimators'])\n",
    "    ada.fit(X_train_std_2, y_train)\n",
    "    y_pred_train_ada, y_pred_test_ada= ada.predict(X_train_std_2), ada.predict(X_test_std_2)\n",
    "\n",
    "    end_time = datetime.datetime.now()\n",
    "\n",
    "    time_ada= get_time(start_time, end_time)\n",
    "    \n",
    "    train_error_ada, test_error_ada, train_r2_ada, test_r2_ada, time_ada = show_metric(y_pred_train_ada, y_train, y_pred_test_ada, y_test, time_ada, disp = False)\n",
    "    \n",
    "    # Dummy Regressor\n",
    "\n",
    "    start_time = datetime.datetime.now()\n",
    "    \n",
    "    dum = dummy.DummyRegressor(strategy='mean')\n",
    "    dum.fit(X_train_std, y_train)\n",
    "    y_pred_train_dummy, y_pred_test_dummy = dum.predict(X_train_std), dum.predict(X_test_std)\n",
    "    end_time = datetime.datetime.now()\n",
    "    time_dummy = get_time(start_time, end_time)\n",
    "    train_error_dummy, test_error_dummy, train_r2_dummy, test_r2_dummy, time_dummy = show_metric(y_pred_train_dummy, y_train, y_pred_test_dummy, y_test, time_dummy, disp = False)\n",
    "\n",
    "    results = {'Regression simple':(train_error_simple,test_error_simple,train_r2_simple,test_r2_simple,time_simple),\n",
    "              'Regression Ridge':(train_error_ridge,test_error_ridge,train_r2_ridge,test_r2_ridge,time_ridge),\n",
    "              'Regression Lasso':(train_error_lasso,test_error_lasso,train_r2_lasso,test_r2_lasso,time_lasso),\n",
    "              'Regression Elastic Net':(train_error_elastic,test_error_elastic,train_r2_elastic,test_r2_elastic,time_elastic),\n",
    "              'Linear SVR':(train_error_svr,test_error_svr,train_r2_svr,test_r2_svr,time_svr),\n",
    "              'MLP Regression': (train_error_mlp,test_error_mlp,train_r2_mlp,test_r2_mlp,time_mlp),\n",
    "              'Dummy (MEAN)':(train_error_dummy,test_error_dummy,train_r2_dummy,test_r2_dummy,time_dummy),\n",
    "              'ADA':(train_error_ada,test_error_ada,train_r2_ada,test_r2_ada,time_ada),\n",
    "              'Random Forest':(train_error_rfr,test_error_rfr,train_r2_rfr,test_r2_rfr,time_rfr)}\n",
    "    res = save_results(results,strategy)"
   ]
  },
  {
   "cell_type": "code",
   "execution_count": null,
   "id": "c62705f6",
   "metadata": {},
   "outputs": [],
   "source": [
    "show_results('r2', [\"test\"])"
   ]
  },
  {
   "cell_type": "code",
   "execution_count": null,
   "id": "84faf182",
   "metadata": {},
   "outputs": [],
   "source": [
    "reinitialize_result(liste_model)"
   ]
  },
  {
   "cell_type": "code",
   "execution_count": null,
   "id": "f13a00e8",
   "metadata": {},
   "outputs": [],
   "source": [
    "R = bench.energy_use\n",
    "s = bench.ghg_emission\n",
    "R_train, R_test, s_train, s_test = train_test_split(R, s, test_size=0.2, random_state=80)\n",
    "scaler = StandardScaler()\n",
    "scaler.fit([[x] for x in R_train])\n",
    "R_train_std =scaler.transform([[x] for x in R_train])\n",
    "R_test_std = scaler.transform([[x] for x in R_test])\n",
    "\n",
    "ridge = Ridge(alpha = 10000)\n",
    "ridge.fit(R_train_std, s_train)\n",
    "s_pred_train_simple, s_pred_test_simple  = ridge.predict(R_train_std), ridge.predict(R_test_std)\n",
    "\n",
    "time_simple= get_time(start_time, end_time)\n",
    "\n",
    "show_metric(s_pred_train_simple, s_train, s_pred_test_simple, s_test, time_simple)"
   ]
  },
  {
   "cell_type": "code",
   "execution_count": null,
   "id": "37a032d3",
   "metadata": {},
   "outputs": [],
   "source": [
    "model_vs_real(s_pred_train_simple, s_train, 'ghg_emission')"
   ]
  }
 ],
 "metadata": {
  "kernelspec": {
   "display_name": "Python 3 (ipykernel)",
   "language": "python",
   "name": "python3"
  },
  "language_info": {
   "codemirror_mode": {
    "name": "ipython",
    "version": 3
   },
   "file_extension": ".py",
   "mimetype": "text/x-python",
   "name": "python",
   "nbconvert_exporter": "python",
   "pygments_lexer": "ipython3",
   "version": "3.10.4"
  }
 },
 "nbformat": 4,
 "nbformat_minor": 5
}
