{
 "cells": [
  {
   "cell_type": "code",
   "execution_count": 1,
   "id": "1ca1fdc9",
   "metadata": {},
   "outputs": [],
   "source": [
    "import pandas as pd\n",
    "pd.set_option('display.max_columns',None)\n",
    "pd.set_option('display.max_rows',None)"
   ]
  },
  {
   "cell_type": "code",
   "execution_count": 266,
   "id": "a192f875",
   "metadata": {},
   "outputs": [],
   "source": [
    "from IPython.display import Markdown"
   ]
  },
  {
   "cell_type": "code",
   "execution_count": 2,
   "id": "d2c8f41a",
   "metadata": {},
   "outputs": [],
   "source": [
    "import numpy as np"
   ]
  },
  {
   "cell_type": "code",
   "execution_count": 3,
   "id": "272577f4",
   "metadata": {},
   "outputs": [],
   "source": [
    "import matplotlib.pyplot as plt"
   ]
  },
  {
   "cell_type": "code",
   "execution_count": 4,
   "id": "c1f35bac",
   "metadata": {},
   "outputs": [],
   "source": [
    "import seaborn as sns"
   ]
  },
  {
   "cell_type": "code",
   "execution_count": 5,
   "id": "a842abe6",
   "metadata": {},
   "outputs": [],
   "source": [
    "import geojson\n",
    "import plotly.express as px\n",
    "import plotly.graph_objects as go"
   ]
  },
  {
   "cell_type": "markdown",
   "id": "8570334d",
   "metadata": {},
   "source": [
    "# <p style = 'text-align:center'> Fonctions </p>"
   ]
  },
  {
   "cell_type": "markdown",
   "id": "5411069a",
   "metadata": {},
   "source": [
    "## Features engineering fonctions"
   ]
  },
  {
   "cell_type": "code",
   "execution_count": 110,
   "id": "bac67753",
   "metadata": {},
   "outputs": [],
   "source": [
    "def features_choices_15(bench,drop_list,names,info,model):\n",
    "    bench[\"age\"] = bench[\"DataYear\"]-bench[\"YearBuilt\"]\n",
    "    bench = bench.drop(columns=drop_list)\n",
    "    bench = bench.rename(names,axis='columns')\n",
    "    bench['lat']=bench['loc'].apply(lambda r:r.split('\\'')[3]).astype('float')\n",
    "    bench['lon']=bench['loc'].apply(lambda r:r.split('\\'')[7]).astype('float')\n",
    "    bench['adress']=bench['loc'].apply(lambda r:r.split('\\'')[11].split(',')[0].split(\"\\\"\")[3])\n",
    "    bench = bench.drop(columns=['loc'])\n",
    "    bench_info = bench[info]\n",
    "    bench_model = bench[model]\n",
    "    return bench_info, bench_model"
   ]
  },
  {
   "cell_type": "code",
   "execution_count": 111,
   "id": "124cbbbc",
   "metadata": {},
   "outputs": [],
   "source": [
    "def features_choices_16(bench,drop_list,names,info,model):\n",
    "    bench[\"age\"] = bench[\"DataYear\"]-bench[\"YearBuilt\"]\n",
    "    bench = bench.drop(columns=drop_list)\n",
    "    bench = bench.rename(names,axis='columns')\n",
    "    bench_info = bench[info]\n",
    "    bench_model = bench[model]\n",
    "    return bench_info, bench_model"
   ]
  },
  {
   "cell_type": "code",
   "execution_count": 160,
   "id": "1b93543f",
   "metadata": {},
   "outputs": [],
   "source": [
    "def features_choices(bench15_1, bench16_1, to_drop_15, to_drop_16, new_names_15, new_names_16, info_var, model_var):\n",
    "    bench15_info, bench15_model = features_choices_15(bench15_1, to_drop_15, new_names_15, info_var, model_var)\n",
    "    bench16_info, bench16_model = features_choices_16(bench16_1, to_drop_16, new_names_16, info_var, model_var)\n",
    "    bench_info = pd.concat([bench15_info, bench16_info],axis=0).reset_index(drop=True)\n",
    "#     bench_info = bench_info.drop_duplicates(subset = [\"id\"]).reset_index(drop=True)\n",
    "    bench_model = pd.concat([bench15_model, bench16_model],axis=0).reset_index(drop=True)\n",
    "#     bench_model = bench_model.drop_duplicates(subset = [\"id\"]).reset_index(drop=True) \n",
    "    return bench_info, bench_model"
   ]
  },
  {
   "cell_type": "code",
   "execution_count": 161,
   "id": "e617e2b2",
   "metadata": {},
   "outputs": [],
   "source": [
    "def compute_lput_2(lput):\n",
    "    lput_2 = 'moderate_energy_use_lput'\n",
    "    if lput in ['College/University', 'Hospital (General Medical & Surgical)', 'Data Center']:\n",
    "        lput_2 = 'very_high_energy_use_lput'\n",
    "    if lput in ['Convention Center','Courthouse','Urgent Care/Clinic/Other Outpatient', 'Laboratory', 'Other - Mall','Parking', 'Other - Entertainment/Public Assembly', 'Lifestyle Center', 'Wholesale Club/Supercenter', 'Medical Office', 'Police Station', 'Hotel', 'Other']:\n",
    "        lput_2 = 'high_energy_use_lput'\n",
    "    if lput in ['Supermarket/Grocery Store', 'Office', 'Senior Care Community', 'Other - Restaurant/Bar', 'Restaurant', 'Museum', 'Fitness Center/Health Club/Gym', 'Other/Specialty Hospital', 'Strip Mall', 'Library', 'Retail Store', 'Residence Hall/Dormitory', 'Other - Recreation', 'Other - Education', 'Manufacturing/Industrial Plant', 'K-12 School', 'Refrigerated Warehouse']:\n",
    "        lput_2 = 'moderate_energy_use_lput'\n",
    "    if lput in ['Movie Theater', 'Other - Services', 'Social/Meeting Hall', 'Personal Services (Health/Beauty, Dry Cleaning, etc)', 'Distribution Center', 'Automobile Dealership', 'Multifamily Housing', 'Adult Education', 'Other - Utility', 'Financial Office', 'Non-Refrigerated Warehouse', 'Other - Lodging/Residential', 'Performing Arts', 'Pre-school/Daycare', 'Bank Branch', 'Residential Care Facility', 'Worship Facility', 'Repair Services (Vehicle, Shoe, Locksmith, etc)', 'Other - Public Services']:\n",
    "        lput_2 = 'low_energy_use_lput'\n",
    "    if lput in ['Prison/Incarceration', 'Self-Storage Facility', 'Outpatient Rehabilitation/Physical Therapy', 'Food Service']:\n",
    "        lput_2 = 'very_low_energy_use_lput'   \n",
    "    return lput_2"
   ]
  },
  {
   "cell_type": "code",
   "execution_count": 162,
   "id": "434f3215",
   "metadata": {},
   "outputs": [],
   "source": [
    "def compute_sput_2(sput):\n",
    "    sput_2 = 'moderate_energy_use_sput'\n",
    "    if sput in ['Data Center', 'Hospital (General Medical & Surgical)', 'Laboratory', 'Hotel', 'College/University', 'Other - Recreation', 'Courthouse', 'Other/Specialty Hospital']:\n",
    "        sput_2 = 'very_high_energy_use_sput'\n",
    "    if sput in ['Convenience Store without Gas Station', 'Movie Theater', 'Multifamily Housing', 'Supermarket/Grocery Store', 'Other - Entertainment/Public Assembly', 'Performing Arts', 'Other - Restaurant/Bar']:\n",
    "        sput_2 = 'high_energy_use_sput'\n",
    "    if sput in ['Parking', 'Repair Services (Vehicle, Shoe, Locksmith, etc)', 'Adult Education', 'Office', 'Other - Services', 'Restaurant', 'Senior Care Community', 'Manufacturing/Industrial Plant', 'Financial Office', 'Food Sales', 'Retail Store','Aucun']:\n",
    "        sput_2 = 'moderate_energy_use_sput'\n",
    "    if sput in ['Other - Public Services', 'Swimming Pool', 'Distribution Center', 'Other', 'Bar/Nightclub', 'Fitness Center/Health Club/Gym', 'Medical Office', 'Non-Refrigerated Warehouse', 'Food Service', 'Self-Storage Facility', 'Bank Branch', 'Worship Facility', 'Vocational School', 'Museum']:\n",
    "        sput_2 = 'low_energy_use_sput'\n",
    "    if sput in ['K-12 School', 'Other - Lodging/Residential', 'Other - Education', 'Refrigerated Warehouse', 'Residence Hall/Dormitory']:\n",
    "        sput_2 = 'very_low_energy_use_sput'   \n",
    "    return sput_2"
   ]
  },
  {
   "cell_type": "code",
   "execution_count": 163,
   "id": "48d88393",
   "metadata": {},
   "outputs": [],
   "source": [
    "def compute_tput_2(tput):\n",
    "    tput_2 = 'moderate_energy_use_tput'\n",
    "    if tput in ['Convenience Store without Gas Station', 'Worship Facility', 'Laboratory']:\n",
    "        tput_2 = 'high_energy_use_tput'\n",
    "    if tput in ['Fitness Center/Health Club/Gym', 'Data Center', 'Bank Branch', 'Other - Recreation', 'Other - Restaurant/Bar', 'Enclosed Mall', 'Refrigerated Warehouse', 'Supermarket/Grocery Store', 'Financial Office', 'Other', 'Residence Hall/Dormitory', 'K-12 School', 'Multifamily Housing', 'Food Sales', 'Personal Services (Health/Beauty, Dry Cleaning, etc)', 'Medical Office', 'Swimming Pool', 'Parking']:\n",
    "        tput_2 = 'moderate_energy_use_tput'\n",
    "    if tput in ['Manufacturing/Industrial Plant', 'Other - Lodging/Residential', 'College/University', 'Food Service', 'Restaurant', 'Other - Services', 'Distribution Center', 'Retail Store', 'Bar/Nightclub', 'Social/Meeting Hall', 'Office', 'Other - Entertainment/Public Assembly', 'Non-Refrigerated Warehouse', 'Strip Mall', 'Aucun', 'Other - Public Services', 'Self-Storage Facility', 'Fast Food Restaurant', 'Pre-school/Daycare', 'Other - Technology/Science']:\n",
    "        tput_2 = 'low_energy_use_tput'  \n",
    "    return tput_2"
   ]
  },
  {
   "cell_type": "code",
   "execution_count": 164,
   "id": "9fe56d72",
   "metadata": {},
   "outputs": [],
   "source": [
    "def loc_outlier():\n",
    "    # from sklearn.neighbors import LocalOutlierFactor\n",
    "    # X = bench_model_cleaned[['age', 'nb', 'nf', 'building_gfa' ,'parking_gfa','total_gfa', 'lput_gfa', 'sput_gfa', 'tput_gfa', 'energy_use', 'ghg_emission']].values\n",
    "    # clf = LocalOutlierFactor(n_neighbors=3)\n",
    "    # a = pd.DataFrame(data=clf.fit_predict(X),columns=['outlier'])\n",
    "    # a['id']=bench_model_cleaned.id\n",
    "    # a.outlier.value_counts()\n",
    "    # bench_model_cleaned = bench_model_cleaned.drop(bench_model_cleaned[bench_model_cleaned.id.isin(a[a['outlier']==-1]['id'].values)].index)\n",
    "    # clf.negative_outlier_factor_\n",
    "    return 3"
   ]
  },
  {
   "cell_type": "markdown",
   "id": "96f8a09b",
   "metadata": {},
   "source": [
    "## Cleaning function"
   ]
  },
  {
   "cell_type": "code",
   "execution_count": 279,
   "id": "f1383dc5",
   "metadata": {},
   "outputs": [],
   "source": [
    "def outlier_cleaning(bench,outliers_id):\n",
    "    bench_no_outlier = bench.drop(bench[bench['id'].isin(outliers_id)].index)\n",
    "    #(bench_no_outlier['SiteEnergyUse(kBtu)']>=2*10**7)|\n",
    "    outliers_idx = bench_no_outlier[(bench_no_outlier['energy_use']<=10**4)|(bench_no_outlier.energy_use > 25118864)|(bench_no_outlier.ghg_emission < 1)].index\n",
    "    bench_no_outlier = bench_no_outlier.drop(outliers_idx)\n",
    "    return bench_no_outlier"
   ]
  },
  {
   "cell_type": "code",
   "execution_count": 166,
   "id": "76ecc5ed",
   "metadata": {},
   "outputs": [],
   "source": [
    "def property_use_types_cleansing_and_imputation(bench_model):\n",
    "    # Imputation de la variable largest property use type avec la variable primary property type\n",
    "    unchanged = [\"Hotel\",\"Retail Store\",\"Non-Refrigerated Warehouse\",\"Other\",\"Distribution Center\",\"Medical Office\",\"Worship Facility\",\"Laboratory\",\"Refrigerated Warehouse\",\"Supermarket/Grocery Store\", \"Restaurant\", \"College/University\",\"Senior Care Community\",\"Self-Storage Facility\"]\n",
    "    for idx in bench_model[(~bench_model[\"primary_type\"].isna())&(bench_model[\"lput\"].isna())].index:\n",
    "        if (bench_model.loc[idx,\"primary_type\"]==\"Large Office\")|(bench_model.loc[idx,\"primary_type\"]==\"Small- and Mid-Sized Office\"):\n",
    "            bench_model.at[idx,\"lput\"] = \"Office\"\n",
    "            bench_model.at[idx,\"lput_gfa\"] = bench_model.loc[idx,\"building_gfa\"]    \n",
    "        if \"Multifamily\" in bench_model.loc[idx,\"primary_type\"]:\n",
    "            bench_model.at[idx,\"lput\"] = \"Multifamily Housing\"\n",
    "            bench_model.at[idx,\"lput_gfa\"] = bench_model.loc[idx,\"building_gfa\"]\n",
    "        if (bench_model.loc[idx,\"primary_type\"]==\"SPS-District K-12\"):\n",
    "            bench_model.at[idx,\"lput\"] = \"K-12 School\"\n",
    "            bench_model.at[idx,\"lput_gfa\"] = bench_model.loc[idx,\"building_gfa\"] \n",
    "        if (bench_model.loc[idx,\"primary_type\"]==\"Hospital\"):\n",
    "            bench_model.at[idx,\"lput\"] = \"Hospital (General Medical & Surgical)\"\n",
    "            bench_model.at[idx,\"lput_gfa\"] = bench_model.loc[idx,\"building_gfa\"]\n",
    "        if idx in [649, 2262, 2716]:\n",
    "            bench_model.at[idx,\"lput\"] = \"Retail Store\"\n",
    "            bench_model.at[idx,\"lput_gfa\"] = bench_model.loc[idx,\"building_gfa\"]\n",
    "        if idx==347:\n",
    "            bench_model.at[idx,\"lput\"] = \"Medical Office\"\n",
    "            bench_model.at[idx,\"lput_gfa\"] = bench_model.loc[idx,\"building_gfa\"]\n",
    "        if idx==309:\n",
    "            bench_model.at[idx,\"lput\"] = \"Other\"\n",
    "            bench_model.at[idx,\"lput_gfa\"] = bench_model.loc[idx,\"building_gfa\"]\n",
    "        if bench_model.loc[idx,\"primary_type\"] in unchanged:\n",
    "            bench_model.at[idx,\"lput\"] = bench_model.loc[idx,\"primary_type\"]\n",
    "            bench_model.at[idx,\"lput_gfa\"] = bench_model.loc[idx,\"building_gfa\"]\n",
    "\n",
    "    # Imputation des second et third property use type\n",
    "    to_complete_cat = ['lput', 'sput', 'tput']\n",
    "    for cat in to_complete_cat:\n",
    "        bench_model[cat] = bench_model[cat].fillna('Aucun')\n",
    "        bench_model[cat+'_gfa'] = bench_model[cat+'_gfa'].fillna(0)\n",
    "    \n",
    "    # Création des nouvelles variables simplifiées lput_1, sput_1 et tput_1\n",
    "    for var in ['lput','sput','tput']:\n",
    "        bench_model[var+'_2'] = bench_model[var].apply(compute_lput_2)\n",
    "    \n",
    "    # Suppression des données non utilisables \n",
    "    drop_idx_1 = bench_model[(bench_model['energy_use'].isna())|(bench_model['ghg_emission'].isna())].index\n",
    "    bench_model = bench_model.drop(drop_idx_1)\n",
    "    # Suppression des propriétés dont on ne connais pas le nombre d'étage\n",
    "    drop_idx_2 = bench_model[(bench_model[\"nf\"].isna())].index\n",
    "    bench_model = bench_model.drop(drop_idx_2)\n",
    "    # Regroupement de la classe NonResidential\n",
    "    bench_model['type']=bench_model['type'].replace('Nonresidential COS','NonResidential')\n",
    "    # Reset de l'index\n",
    "    bench_model = bench_model.reset_index(drop=True)\n",
    "    \n",
    "    return bench_model"
   ]
  },
  {
   "cell_type": "markdown",
   "id": "9a822821",
   "metadata": {},
   "source": [
    "## Data Visualisation Functions"
   ]
  },
  {
   "cell_type": "code",
   "execution_count": 167,
   "id": "c4a8176f",
   "metadata": {},
   "outputs": [],
   "source": [
    "def boxplot(x):\n",
    "    fig, ax = plt.subplots(figsize=(15,15))\n",
    "    ax.boxplot(x, vert = False)\n",
    "    plt.show()"
   ]
  },
  {
   "cell_type": "code",
   "execution_count": 168,
   "id": "b6a98108",
   "metadata": {},
   "outputs": [],
   "source": [
    "def barplot(x, y, data):\n",
    "    fig, ax = plt.subplots(figsize=(15,15))\n",
    "    sns.set_theme(style=\"whitegrid\") \n",
    "    ax = sns.barplot(x=x, y=y, data=data)\n",
    "    plt.show()"
   ]
  },
  {
   "cell_type": "code",
   "execution_count": 169,
   "id": "83ac2e79",
   "metadata": {},
   "outputs": [],
   "source": [
    "def seattle_map():\n",
    "    f = open(r\"C:\\Users\\Nabil\\Desktop\\Openclassrooms\\Projet4\\2016_seattle_city.geojson\", \"r\")\n",
    "    dep_gjs=geojson.load(f)\n",
    "    scl = [[0,\"rgb(150,0,90)\"],[0.125,\"rgb(0, 0, 200)\"],[0.25,\"rgb(0, 25, 255)\"],[0.375,\"rgb(0, 152, 255)\"],[0.5,\"rgb(44, 255, 150)\"],[0.625,\"rgb(151, 255, 0)\"],[0.75,\"rgb(255, 234, 0)\"],[0.875,\"rgb(255, 111, 0)\"],[1,\"rgb(255, 0, 0)\"]]\n",
    "    fig = px.choropleth(pd.DataFrame([[1,2],[1,2]],columns=['CD','color']), geojson=dep_gjs, color=\"color\",locations=\"CD\", featureidkey=\"properties.rowID\",projection=\"mercator\",color_continuous_scale=[\"#ffffff\",\"#eeeeee\"])\n",
    "    fig.update_layout(coloraxis_showscale=False)\n",
    "    fig.add_traces(go.Scattergeo(lat=bench_info.lat, lon=bench_info.lon, text=bench_model[\"id\"].astype('str')+' : '+bench_model[\"energy_use\"].astype('str'),marker = dict(size = 3,color = bench_model['energy_use'],colorscale = scl, colorbar = dict(titleside = \"right\", outlinecolor = \"rgba(68, 68, 68, 0)\"))))\n",
    "    fig.update_geos(fitbounds=\"locations\", visible=False)\n",
    "    fig.update_layout(margin={\"r\":0,\"t\":20,\"l\":0,\"b\":20})\n",
    "    fig.show()"
   ]
  },
  {
   "cell_type": "code",
   "execution_count": 170,
   "id": "d6b4c800",
   "metadata": {},
   "outputs": [],
   "source": [
    "def histogram(data, x):\n",
    "    fig, ax = plt.subplots(figsize=(15,15))\n",
    "    sns.set_theme(style=\"whitegrid\") \n",
    "    sns.histplot(data=data, x=x)\n",
    "    plt.show()"
   ]
  },
  {
   "cell_type": "markdown",
   "id": "f90051fb",
   "metadata": {},
   "source": [
    "# <p style = 'text-align:center'> Importation des données </p>"
   ]
  },
  {
   "cell_type": "code",
   "execution_count": 205,
   "id": "3c90dedc",
   "metadata": {},
   "outputs": [],
   "source": [
    "bench15_0, bench16_0 = pd.read_csv(r\"2015-building-energy-benchmarking.csv\"), pd.read_csv(r\"2016-building-energy-benchmarking.csv\")"
   ]
  },
  {
   "cell_type": "code",
   "execution_count": 275,
   "id": "01739d5e",
   "metadata": {},
   "outputs": [],
   "source": [
    "outliers_id = np.concatenate((bench15_0[~bench15_0.Outlier.isna()].OSEBuildingID.values,bench16_0[~bench16_0.Outlier.isna()].OSEBuildingID.values))"
   ]
  },
  {
   "cell_type": "markdown",
   "id": "57a8c300",
   "metadata": {},
   "source": [
    "# <p style = 'text-align:center'> Choix des features </p>"
   ]
  },
  {
   "cell_type": "code",
   "execution_count": 241,
   "id": "d40dfc07",
   "metadata": {},
   "outputs": [],
   "source": [
    "import json\n",
    "file=open(r\"C:\\Users\\Nabil\\Desktop\\Openclassrooms\\Projet4\\socrata_metadata_2015-building-energy-benchmarking.json\")\n",
    "meta_2015=json.load(file)\n",
    "file_2=open(r\"C:\\Users\\Nabil\\Desktop\\Openclassrooms\\Projet4\\socrata_metadata_2016-building-energy-benchmarking.json\")\n",
    "meta_2016=json.load(file_2)"
   ]
  },
  {
   "cell_type": "code",
   "execution_count": 288,
   "id": "d01c5fa2",
   "metadata": {},
   "outputs": [
    {
     "data": {
      "text/markdown": [
       "# <p style='text-align:center'> Description des variables : </p>"
      ],
      "text/plain": [
       "<IPython.core.display.Markdown object>"
      ]
     },
     "metadata": {},
     "output_type": "display_data"
    },
    {
     "name": "stdout",
     "output_type": "stream",
     "text": [
      "\u001b[1mOSEBuildingID\u001b[0m : A unique identifier assigned to each property covered by the Seattle Benchmarking Ordinance for tracking and identification purposes.\n",
      "\n",
      "\u001b[1mBuildingType\u001b[0m : City of Seattle building type classification.\n",
      "\n",
      "\u001b[1mPrimaryPropertyType\u001b[0m : The primary use of a property (e.g. office, retail store). Primary use is defined as a function that accounts for more than 50% of a property. This is the Property Type - EPA Calculated field from Portfolio Manager.\n",
      "\n",
      "\u001b[1mPropertyName\u001b[0m : Official or common property name.\n",
      "\n",
      "\u001b[1mTaxParcelIdentificationNumber\u001b[0m : \t\n",
      "Property King County PIN\n",
      "\n",
      "\u001b[1mCouncilDistrictCode\u001b[0m : Property City of Seattle council district.\n",
      "\n",
      "\u001b[1mYearBuilt\u001b[0m : Year in which a property was constructed or underwent a complete renovation.\n",
      "\n",
      "\u001b[1mPropertyGFATotal\u001b[0m : Total building and parking gross floor area.\n",
      "\n",
      "\u001b[1mPropertyGFAParking\u001b[0m : Total space in square feet of all types of parking (Fully Enclosed, Partially Enclosed, and Open).\n",
      "\n",
      "\u001b[1mPropertyGFABuilding(s)\u001b[0m : Total floor space in square feet between the outside surfaces of a building’s enclosing walls. This includes all areas inside the building(s), such as tenant space, common areas, stairwells, basements, storage, etc.\n",
      "\n",
      "\u001b[1mENERGYSTARScore\u001b[0m : An EPA calculated 1-100 rating that assesses a property’s overall energy performance, based on national data to control for differences among climate, building uses, and operations. A score of 50 represents the national median.\n",
      "\n",
      "\u001b[1mSiteEUI(kBtu/sf)\u001b[0m : Site Energy Use Intensity (EUI) is a property's Site Energy Use divided by its gross floor area. Site Energy Use is the annual amount of all the energy consumed by the property on-site, as reported on utility bills. Site EUI is measured in thousands of British thermal units (kBtu) per square foot.\n",
      "\n",
      "\u001b[1mSiteEUIWN(kBtu/sf)\u001b[0m : \t\n",
      "Weather Normalized (WN) Site Energy Use Intensity (EUI) is a property's WN Site Energy divided by its gross floor area (in square feet). WN Site Energy is the Site Energy Use the property would have consumed during 30-year average weather conditions. WN Site EUI is measured in measured in thousands of British thermal units (kBtu) per square foot.\n",
      "\n",
      "\u001b[1mSourceEUI(kBtu/sf)\u001b[0m : Source Energy Use Intensity (EUI) is a property's Source Energy Use divided by its gross floor area. Source Energy Use is the annual energy used to operate the property, including losses from generation, transmission, & distribution. Source EUI is measured in thousands of British thermal units (kBtu) per square foot.\n",
      "\n",
      "\u001b[1mSourceEUIWN(kBtu/sf)\u001b[0m : Weather Normalized (WN) Source Energy Use Intensity (EUI) is a property's WN Source Energy divided by its gross floor area. WN Source Energy is the Source Energy Use the property would have consumed during 30-year average weather conditions. WN Source EUI is measured in measured in thousands of British thermal units (kBtu) per square foot.\n",
      "\n",
      "\u001b[1mSiteEnergyUse(kBtu)\u001b[0m : \t\n",
      "The annual amount of energy consumed by the property from all sources of energy.\n",
      "\n",
      "\u001b[1mSteamUse(kBtu)\u001b[0m : The annual amount of district steam consumed by the property on-site, measured in thousands of British thermal units (kBtu).\n",
      "\n",
      "\u001b[1mElectricity(kWh)\u001b[0m : \t\n",
      "The annual amount of electricity consumed by the property on-site, including electricity purchased from the grid and generated by onsite renewable systems, measured in kWh.\n",
      "\n",
      "\u001b[1mElectricity(kBtu)\u001b[0m : \t\n",
      "The annual amount of electricity consumed by the property on-site, including electricity purchased from the grid and generated by onsite renewable systems, measured in thousands of British thermal units (kBtu).\n",
      "\n",
      "\u001b[1mNaturalGas(therms)\u001b[0m : The annual amount of utility-supplied natural gas consumed by the property, measured in therms.\n",
      "\n",
      "\u001b[1mGHGEmissions(MetricTonsCO2e)\u001b[0m : The total amount of greenhouse gas emissions, including carbon dioxide, methane, and nitrous oxide gases released into the atmosphere as a result of energy consumption at the property, measured in metric tons of carbon dioxide equivalent. This calculation uses a GHG emissions factor from Seattle CIty Light's portfolio of generating resources. This uses Seattle City Light's 2015 emissions factor of 52.44 lbs CO2e/MWh. Enwave steam factor = 170.17 lbs CO2e/MMBtu. Gas factor sourced from EPA Portfolio Manager = 53.11 kg CO2e/MBtu. \n",
      "\n",
      "\u001b[1mGHGEmissionsIntensity(kgCO2e/ft2)\u001b[0m : \t\n",
      "Total Greenhouse Gas Emissions divided by property's gross floor area, measured in kilograms of carbon dioxide equivalent per square foot. This calculation uses a GHG emissions factor from Seattle City Light's portfolio of generating resources\n",
      "\n"
     ]
    }
   ],
   "source": [
    "display(Markdown('# <p style=\\'text-align:center\\'> Description des variables : </p>'))\n",
    "for i in range(len(meta_2015[\"columns\"])):\n",
    "    try:\n",
    "        print('\\033[1m' + meta_2015[\"columns\"][i][\"name\"] + '\\033[0m' + ' : ' + meta_2015[\"columns\"][i][\"description\"]+'\\n')\n",
    "    except:\n",
    "        continue"
   ]
  },
  {
   "cell_type": "code",
   "execution_count": 207,
   "id": "07fd7307",
   "metadata": {},
   "outputs": [],
   "source": [
    "# features à supprimer dans le dataset de 2015 et celui de 2016\n",
    "to_drop_15 = [\"DataYear\",\"YearBuilt\",'TaxParcelIdentificationNumber', 'Neighborhood','ListOfAllPropertyUseTypes','YearsENERGYSTARCertified','SiteEUI(kBtu/sf)', 'SiteEUIWN(kBtu/sf)', 'SourceEUIWN(kBtu/sf)','SourceEUI(kBtu/sf)', 'SiteEnergyUseWN(kBtu)', 'SteamUse(kBtu)', 'Electricity(kWh)', 'Electricity(kBtu)', 'NaturalGas(therms)', 'NaturalGas(kBtu)', 'OtherFuelUse(kBtu)','GHGEmissionsIntensity(kgCO2e/ft2)','DefaultData', 'Comment', 'ComplianceStatus', 'Outlier', '2010 Census Tracts', 'Seattle Police Department Micro Community Policing Plan Areas','City Council Districts', 'SPD Beats']\n",
    "to_drop_16 = ['DataYear', 'City', 'State', 'TaxParcelIdentificationNumber', 'Neighborhood', 'YearBuilt', 'ListOfAllPropertyUseTypes','YearsENERGYSTARCertified','SiteEUI(kBtu/sf)', 'SiteEUIWN(kBtu/sf)', 'SourceEUIWN(kBtu/sf)','SourceEUI(kBtu/sf)',  'SiteEnergyUseWN(kBtu)', 'SteamUse(kBtu)', 'Electricity(kWh)', 'Electricity(kBtu)', 'NaturalGas(therms)', 'NaturalGas(kBtu)', 'DefaultData', 'Comments', 'ComplianceStatus', 'Outlier', 'GHGEmissionsIntensity']\n",
    "\n",
    "# nouveaux noms pour les features qu'on garde dans le dataset de 2015 et 2016 \n",
    "new_names_15 = {'OSEBuildingID':'id', 'CouncilDistrictCode':'district_code' , 'BuildingType':'type', 'PrimaryPropertyType':'primary_type', 'PropertyName':'name','Location':'loc', 'NumberofBuildings':'nb', 'NumberofFloors':'nf','PropertyGFATotal':'total_gfa',  'PropertyGFAParking':'parking_gfa', 'PropertyGFABuilding(s)':'building_gfa', 'LargestPropertyUseType':'lput', 'LargestPropertyUseTypeGFA':'lput_gfa', 'SecondLargestPropertyUseType':'sput', 'SecondLargestPropertyUseTypeGFA':'sput_gfa', 'ThirdLargestPropertyUseType':'tput', 'ThirdLargestPropertyUseTypeGFA':'tput_gfa', 'ENERGYSTARScore':'energy_score', 'SiteEnergyUse(kBtu)':'energy_use', 'GHGEmissions(MetricTonsCO2e)':'ghg_emission', 'Zip Codes':'zip'}\n",
    "new_names_16 = {'OSEBuildingID':'id', 'CouncilDistrictCode':'district_code' ,'BuildingType':'type', 'PrimaryPropertyType':'primary_type', 'PropertyName':'name', 'Address':'adress', 'ZipCode':'zip', 'Latitude':'lat', 'Longitude':'lon', 'NumberofBuildings':'nb', 'NumberofFloors':'nf', 'PropertyGFATotal':'total_gfa', 'PropertyGFAParking':'parking_gfa', 'PropertyGFABuilding(s)':'building_gfa', 'LargestPropertyUseType':'lput', 'LargestPropertyUseTypeGFA':'lput_gfa', 'SecondLargestPropertyUseType':'sput', 'SecondLargestPropertyUseTypeGFA':'sput_gfa', 'ThirdLargestPropertyUseType':'tput', 'ThirdLargestPropertyUseTypeGFA':'tput_gfa', 'ENERGYSTARScore':'energy_score', 'SiteEnergyUse(kBtu)':'energy_use', 'TotalGHGEmissions':'ghg_emission'}"
   ]
  },
  {
   "cell_type": "code",
   "execution_count": 208,
   "id": "92151a13",
   "metadata": {},
   "outputs": [],
   "source": [
    "# features pour le dataset des informations des propriétés\n",
    "info_var = ['id', 'name', 'lat', 'lon', 'adress', 'energy_score', 'zip']\n",
    "\n",
    "#features pour le dataset des variables du modèle\n",
    "model_var = ['id', 'age', 'nb', 'nf', 'type', 'primary_type','district_code', 'building_gfa' ,'parking_gfa','total_gfa', 'lput', 'lput_gfa', 'sput', 'sput_gfa', 'tput', 'tput_gfa', 'energy_score', 'energy_use', 'ghg_emission']"
   ]
  },
  {
   "cell_type": "code",
   "execution_count": 227,
   "id": "1afd0991",
   "metadata": {},
   "outputs": [],
   "source": [
    "bench_info, bench_model = features_choices(bench15_1, bench16_1, to_drop_15, to_drop_16, new_names_15, new_names_16, info_var, model_var)"
   ]
  },
  {
   "cell_type": "markdown",
   "id": "7daf4aa3",
   "metadata": {},
   "source": [
    "# <p style = 'text-align:center'> Nettoyage des outliers </p>"
   ]
  },
  {
   "cell_type": "code",
   "execution_count": 281,
   "id": "d0970f7a",
   "metadata": {},
   "outputs": [],
   "source": [
    "# Suppression des outliers\n",
    "bench_model = outlier_cleaning(bench_model,outliers_id)"
   ]
  },
  {
   "cell_type": "markdown",
   "id": "98476364",
   "metadata": {},
   "source": [
    "# <p style = 'text-align:center'> Valeurs abbérentes </p>"
   ]
  },
  {
   "cell_type": "code",
   "execution_count": 229,
   "id": "9c078a3d",
   "metadata": {},
   "outputs": [],
   "source": [
    "# Propriétés ayant des surfaces négatives \n",
    "negativ_area_index = bench_model[(bench_model[\"total_gfa\"]<0)|(bench_model[\"building_gfa\"]<0)|(bench_model[\"parking_gfa\"]<0)].index\n",
    "for idx in negativ_area_index:\n",
    "    bench_model.at[idx,\"building_gfa\"] = np.abs(bench_model.at[idx,\"building_gfa\"])\n",
    "    bench_model.at[idx,\"parking_gfa\"] = np.abs(bench_model.at[idx,\"parking_gfa\"])\n",
    "    bench_model.at[idx,\"total_gfa\"] = np.abs(bench_model.at[idx,\"total_gfa\"])"
   ]
  },
  {
   "cell_type": "code",
   "execution_count": 231,
   "id": "c42812fc",
   "metadata": {},
   "outputs": [],
   "source": [
    "# Valeurs abbérentes détecté manuellement\n",
    "bench_model = bench_model.drop(bench_model[(bench_model.id.isin([33, 34, 54, 60, 61, 70, 85, 100, 102, 113, 230, 49784, 553]))].index)"
   ]
  },
  {
   "cell_type": "markdown",
   "id": "af1dfa8a",
   "metadata": {},
   "source": [
    "# <p style = 'text-align:center'> Imputations </p>"
   ]
  },
  {
   "cell_type": "code",
   "execution_count": 232,
   "id": "1c80ffb6",
   "metadata": {},
   "outputs": [],
   "source": [
    "bench_model_cleaned = property_use_types_cleansing_and_imputation(bench_model)"
   ]
  },
  {
   "cell_type": "code",
   "execution_count": 233,
   "id": "6193ecf8",
   "metadata": {},
   "outputs": [],
   "source": [
    "from sklearn.preprocessing import StandardScaler, OneHotEncoder\n",
    "\n",
    "Xnum = bench_model_cleaned[['age','nb','nf','building_gfa','parking_gfa','lput_gfa','sput_gfa','tput_gfa','energy_score']].values\n",
    "Xcat = bench_model_cleaned[['type','district_code','lput','sput','tput']]\n",
    "enc = OneHotEncoder(handle_unknown='ignore')\n",
    "Xenc = enc.fit_transform(Xcat.values).toarray()\n",
    "X = np.concatenate((Xnum, Xenc),axis=1)\n",
    "\n",
    "from sklearn.impute import KNNImputer\n",
    "\n",
    "imputer = KNNImputer(n_neighbors=2)\n",
    "X_imp = imputer.fit_transform(X)\n",
    "\n",
    "bench_model_cleaned['energy_score'] = X_imp[:,8]"
   ]
  },
  {
   "cell_type": "code",
   "execution_count": 234,
   "id": "04c4cb64",
   "metadata": {},
   "outputs": [
    {
     "name": "stdout",
     "output_type": "stream",
     "text": [
      "<class 'pandas.core.frame.DataFrame'>\n",
      "RangeIndex: 6287 entries, 0 to 6286\n",
      "Data columns (total 22 columns):\n",
      " #   Column         Non-Null Count  Dtype  \n",
      "---  ------         --------------  -----  \n",
      " 0   id             6287 non-null   int64  \n",
      " 1   age            6287 non-null   int64  \n",
      " 2   nb             6287 non-null   float64\n",
      " 3   nf             6287 non-null   float64\n",
      " 4   type           6287 non-null   object \n",
      " 5   primary_type   6287 non-null   object \n",
      " 6   district_code  6287 non-null   int64  \n",
      " 7   building_gfa   6287 non-null   int64  \n",
      " 8   parking_gfa    6287 non-null   int64  \n",
      " 9   total_gfa      6287 non-null   int64  \n",
      " 10  lput           6287 non-null   object \n",
      " 11  lput_gfa       6287 non-null   float64\n",
      " 12  sput           6287 non-null   object \n",
      " 13  sput_gfa       6287 non-null   float64\n",
      " 14  tput           6287 non-null   object \n",
      " 15  tput_gfa       6287 non-null   float64\n",
      " 16  energy_score   6287 non-null   float64\n",
      " 17  energy_use     6287 non-null   float64\n",
      " 18  ghg_emission   6287 non-null   float64\n",
      " 19  lput_2         6287 non-null   object \n",
      " 20  sput_2         6287 non-null   object \n",
      " 21  tput_2         6287 non-null   object \n",
      "dtypes: float64(8), int64(6), object(8)\n",
      "memory usage: 1.1+ MB\n"
     ]
    }
   ],
   "source": [
    "bench_model_cleaned.info()"
   ]
  },
  {
   "cell_type": "code",
   "execution_count": 235,
   "id": "fe9531b9",
   "metadata": {},
   "outputs": [],
   "source": [
    "# boxplot(bench_model_cleaned['energy_use'])"
   ]
  },
  {
   "cell_type": "code",
   "execution_count": 236,
   "id": "b83b99ef",
   "metadata": {},
   "outputs": [],
   "source": [
    "# seattle_map()"
   ]
  },
  {
   "cell_type": "code",
   "execution_count": 237,
   "id": "9984a970",
   "metadata": {},
   "outputs": [],
   "source": [
    "bench_model_cleaned.to_excel(\"benchmark_cleaned.xlsx\", index=False)"
   ]
  },
  {
   "cell_type": "code",
   "execution_count": 124,
   "id": "f13a00e8",
   "metadata": {},
   "outputs": [
    {
     "data": {
      "text/html": [
       "<div>\n",
       "<style scoped>\n",
       "    .dataframe tbody tr th:only-of-type {\n",
       "        vertical-align: middle;\n",
       "    }\n",
       "\n",
       "    .dataframe tbody tr th {\n",
       "        vertical-align: top;\n",
       "    }\n",
       "\n",
       "    .dataframe thead th {\n",
       "        text-align: right;\n",
       "    }\n",
       "</style>\n",
       "<table border=\"1\" class=\"dataframe\">\n",
       "  <thead>\n",
       "    <tr style=\"text-align: right;\">\n",
       "      <th></th>\n",
       "      <th>RMSE_train</th>\n",
       "      <th>RMSE_test</th>\n",
       "      <th>R2_train</th>\n",
       "      <th>R2_test</th>\n",
       "      <th>TIME</th>\n",
       "    </tr>\n",
       "  </thead>\n",
       "  <tbody>\n",
       "    <tr>\n",
       "      <th>valeur</th>\n",
       "      <td>80.679</td>\n",
       "      <td>80.064</td>\n",
       "      <td>0.376</td>\n",
       "      <td>0.371</td>\n",
       "      <td>(0.0, 0.000999)</td>\n",
       "    </tr>\n",
       "  </tbody>\n",
       "</table>\n",
       "</div>"
      ],
      "text/plain": [
       "        RMSE_train  RMSE_test  R2_train  R2_test             TIME\n",
       "valeur      80.679     80.064     0.376    0.371  (0.0, 0.000999)"
      ]
     },
     "metadata": {},
     "output_type": "display_data"
    }
   ],
   "source": [
    "R = bench.energy_use\n",
    "s = bench.ghg_emission\n",
    "R_train, R_test, s_train, s_test = train_test_split(R, s, test_size=0.2, random_state=80)\n",
    "scaler = StandardScaler()\n",
    "scaler.fit([[x] for x in R_train])\n",
    "R_train_std =scaler.transform([[x] for x in R_train])\n",
    "R_test_std = scaler.transform([[x] for x in R_test])\n",
    "\n",
    "ridge = Ridge(alpha = 10000)\n",
    "ridge.fit(R_train_std, s_train)\n",
    "s_pred_train_simple, s_pred_test_simple  = ridge.predict(R_train_std), ridge.predict(R_test_std)\n",
    "\n",
    "time_simple= get_time(start_time, end_time)\n",
    "\n",
    "show_metric(s_pred_train_simple, s_train, s_pred_test_simple, s_test, time_simple)"
   ]
  },
  {
   "cell_type": "code",
   "execution_count": 126,
   "id": "37a032d3",
   "metadata": {},
   "outputs": [],
   "source": [
    "# model_vs_real(s_pred_train_simple, s_train, 'ghg_emission')"
   ]
  },
  {
   "cell_type": "code",
   "execution_count": null,
   "id": "0070d038",
   "metadata": {},
   "outputs": [],
   "source": []
  }
 ],
 "metadata": {
  "kernelspec": {
   "display_name": "Python 3 (ipykernel)",
   "language": "python",
   "name": "python3"
  },
  "language_info": {
   "codemirror_mode": {
    "name": "ipython",
    "version": 3
   },
   "file_extension": ".py",
   "mimetype": "text/x-python",
   "name": "python",
   "nbconvert_exporter": "python",
   "pygments_lexer": "ipython3",
   "version": "3.10.4"
  }
 },
 "nbformat": 4,
 "nbformat_minor": 5
}
