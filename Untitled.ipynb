{
 "cells": [
  {
   "cell_type": "code",
   "execution_count": 1,
   "id": "e8516657",
   "metadata": {},
   "outputs": [],
   "source": [
    "import pandas as pd, numpy as np, matplotlib.pyplot as plt"
   ]
  },
  {
   "cell_type": "code",
   "execution_count": 57,
   "id": "81a5ed0e",
   "metadata": {},
   "outputs": [],
   "source": [
    "from sklearn.datasets import make_regression"
   ]
  },
  {
   "cell_type": "code",
   "execution_count": 54,
   "id": "1874b879",
   "metadata": {},
   "outputs": [],
   "source": [
    "def linear_regression(X,y):\n",
    "    n, p = X.shape[0], X.shape[1]\n",
    "    X_1 = np.concatenate((np.ones((n,1)),X),axis=1)\n",
    "    beta = np.matmul(np.matmul(np.linalg.inv(np.matmul(np.transpose(X_1),X_1)),np.transpose(X_1)),y)\n",
    "    return beta"
   ]
  },
  {
   "cell_type": "code",
   "execution_count": 61,
   "id": "c962b74b",
   "metadata": {},
   "outputs": [],
   "source": [
    "X, y, coeff = make_regression(n_samples = 100, n_features = 20, coef = True)"
   ]
  },
  {
   "cell_type": "code",
   "execution_count": 64,
   "id": "d2ec8526",
   "metadata": {},
   "outputs": [
    {
     "data": {
      "text/plain": [
       "array([11.8319946 ,  0.        , 36.69062821,  0.        ,  0.        ,\n",
       "        0.30819186, 89.21940991, 94.43806484, 63.61431817,  0.        ,\n",
       "       26.60653835,  0.        ,  0.        , 36.58134546,  0.        ,\n",
       "        7.20994486,  0.        ,  0.        ,  0.        , 34.14919877])"
      ]
     },
     "execution_count": 64,
     "metadata": {},
     "output_type": "execute_result"
    }
   ],
   "source": [
    "coeff"
   ]
  },
  {
   "cell_type": "code",
   "execution_count": 59,
   "id": "f9b503d4",
   "metadata": {},
   "outputs": [
    {
     "data": {
      "text/plain": [
       "array([-1.24344979e-14,  6.28038646e+01,  1.95399252e-14,  5.50139949e+01,\n",
       "        3.18997436e+01,  1.77635684e-15,  5.32907052e-15,  8.59900381e+01,\n",
       "        0.00000000e+00,  1.77635684e-15,  4.13881652e+01,  6.21724894e-15,\n",
       "        1.09338592e+01,  4.93429056e+01,  7.22585091e+01,  3.55271368e-15,\n",
       "        2.44102181e+01, -1.77635684e-15,  1.50990331e-14,  1.35348488e+01,\n",
       "       -8.43769499e-15])"
      ]
     },
     "execution_count": 59,
     "metadata": {},
     "output_type": "execute_result"
    }
   ],
   "source": [
    "linear_regression(X, y)"
   ]
  },
  {
   "cell_type": "code",
   "execution_count": null,
   "id": "0646d5a1",
   "metadata": {},
   "outputs": [],
   "source": []
  }
 ],
 "metadata": {
  "kernelspec": {
   "display_name": "Python 3 (ipykernel)",
   "language": "python",
   "name": "python3"
  },
  "language_info": {
   "codemirror_mode": {
    "name": "ipython",
    "version": 3
   },
   "file_extension": ".py",
   "mimetype": "text/x-python",
   "name": "python",
   "nbconvert_exporter": "python",
   "pygments_lexer": "ipython3",
   "version": "3.10.4"
  }
 },
 "nbformat": 4,
 "nbformat_minor": 5
}
